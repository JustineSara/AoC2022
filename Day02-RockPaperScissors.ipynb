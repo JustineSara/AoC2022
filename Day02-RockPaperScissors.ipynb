{
 "cells": [
  {
   "cell_type": "code",
   "execution_count": null,
   "id": "70fb77ea",
   "metadata": {},
   "outputs": [],
   "source": []
  },
  {
   "cell_type": "code",
   "execution_count": 19,
   "id": "6902271d",
   "metadata": {},
   "outputs": [],
   "source": [
    "test_input = \"\"\"A Y\n",
    "B X\n",
    "C Z\"\"\""
   ]
  },
  {
   "cell_type": "code",
   "execution_count": 11,
   "id": "2af9e7ad",
   "metadata": {},
   "outputs": [],
   "source": [
    "import requests\n",
    "\n",
    "URL = \"https://adventofcode.com/{year}/day/{day}/input\"\n",
    "url = URL.format(year='2022', day=2)\n",
    "cookies = {\"session\":\"53616c7465645f5fd345d8c12076a357c8d31b2c0c4ad1c152eefbd5c1cf09e0c8d6d7f657fc558887d443d2d07fbc90728ada9b6a91afcecb9926ffb4981a93\"}\n",
    "req = requests.get(url, cookies=cookies)\n",
    "\n",
    "if req.status_code != 200:\n",
    "    print(\"Error. Got status:\", req.status_code)\n",
    "    print(req.text)\n",
    "    exit(3)\n",
    "else:\n",
    "    my_input = req.text"
   ]
  },
  {
   "cell_type": "code",
   "execution_count": null,
   "id": "7ff8129e",
   "metadata": {},
   "outputs": [],
   "source": []
  },
  {
   "cell_type": "code",
   "execution_count": null,
   "id": "ae3ca85c",
   "metadata": {},
   "outputs": [],
   "source": []
  },
  {
   "cell_type": "code",
   "execution_count": 7,
   "id": "b655d4ef",
   "metadata": {},
   "outputs": [],
   "source": [
    "win_lose_scores = {\n",
    "    \"A X\": 3,\n",
    "    \"B X\": 0,\n",
    "    \"C X\": 6,\n",
    "    \"A Y\": 6,\n",
    "    \"B Y\": 3,\n",
    "    \"C Y\": 0,\n",
    "    \"A Z\": 0,\n",
    "    \"B Z\": 6,\n",
    "    \"C Z\": 3\n",
    "}\n",
    "\n",
    "round_scores = { r :win_lose_scores[r] + (\"X\" in r)*1 + (\"Y\" in r)*2 + (\"Z\" in r)*3 for r in win_lose_scores.keys() }"
   ]
  },
  {
   "cell_type": "raw",
   "id": "5bf38a2a",
   "metadata": {},
   "source": [
    "A=Rock\n",
    "B=Paper\n",
    "C=Scissors\n",
    "\n",
    "X=Rock\n",
    "Y=Paper\n",
    "Z=Scissors\n"
   ]
  },
  {
   "cell_type": "code",
   "execution_count": 8,
   "id": "30d7706d",
   "metadata": {},
   "outputs": [
    {
     "data": {
      "text/plain": [
       "{'A X': 4,\n",
       " 'B X': 1,\n",
       " 'C X': 7,\n",
       " 'A Y': 8,\n",
       " 'B Y': 5,\n",
       " 'C Y': 2,\n",
       " 'A Z': 3,\n",
       " 'B Z': 9,\n",
       " 'C Z': 6}"
      ]
     },
     "execution_count": 8,
     "metadata": {},
     "output_type": "execute_result"
    }
   ],
   "source": [
    "round_scores"
   ]
  },
  {
   "cell_type": "code",
   "execution_count": 16,
   "id": "4976a30a",
   "metadata": {},
   "outputs": [
    {
     "data": {
      "text/plain": [
       "12855"
      ]
     },
     "execution_count": 16,
     "metadata": {},
     "output_type": "execute_result"
    }
   ],
   "source": [
    "tot_score = 0\n",
    "for r in my_input.split(\"\\n\") :\n",
    "    if r=='':\n",
    "        continue\n",
    "    tot_score += round_scores[r]\n",
    "tot_score"
   ]
  },
  {
   "cell_type": "markdown",
   "id": "b87e4682",
   "metadata": {},
   "source": [
    "## Part 2 : change the round_scores definition"
   ]
  },
  {
   "cell_type": "code",
   "execution_count": 21,
   "id": "2e5b03fa",
   "metadata": {},
   "outputs": [],
   "source": [
    "shape_scores = {\n",
    "    \"A X\": 3,\n",
    "    \"B X\": 1,\n",
    "    \"C X\": 2,\n",
    "    \"A Y\": 1,\n",
    "    \"B Y\": 2,\n",
    "    \"C Y\": 3,\n",
    "    \"A Z\": 2,\n",
    "    \"B Z\": 3,\n",
    "    \"C Z\": 1\n",
    "}\n",
    "\n",
    "round_scores = { r :shape_scores[r] + (\"Y\" in r)*3 + (\"Z\" in r)*6 for r in shape_scores.keys() }"
   ]
  },
  {
   "cell_type": "code",
   "execution_count": 22,
   "id": "42667c40",
   "metadata": {},
   "outputs": [
    {
     "data": {
      "text/plain": [
       "{'A X': 3,\n",
       " 'B X': 1,\n",
       " 'C X': 2,\n",
       " 'A Y': 1,\n",
       " 'B Y': 2,\n",
       " 'C Y': 3,\n",
       " 'A Z': 2,\n",
       " 'B Z': 3,\n",
       " 'C Z': 1}"
      ]
     },
     "execution_count": 22,
     "metadata": {},
     "output_type": "execute_result"
    }
   ],
   "source": [
    "shape_scores"
   ]
  },
  {
   "cell_type": "raw",
   "id": "2affa6a1",
   "metadata": {},
   "source": [
    "A=Rock  1\n",
    "B=Paper  2\n",
    "C=Scissors  3\n",
    "\n",
    "X=lose\n",
    "Y=draw\n",
    "Z=win\n"
   ]
  },
  {
   "cell_type": "code",
   "execution_count": 23,
   "id": "bc60bc95",
   "metadata": {},
   "outputs": [
    {
     "data": {
      "text/plain": [
       "12"
      ]
     },
     "execution_count": 23,
     "metadata": {},
     "output_type": "execute_result"
    }
   ],
   "source": [
    "tot_score = 0\n",
    "for r in test_input.split(\"\\n\") :\n",
    "    if r=='':\n",
    "        continue\n",
    "    tot_score += round_scores[r]\n",
    "tot_score\n",
    "# 15597"
   ]
  },
  {
   "cell_type": "code",
   "execution_count": 24,
   "id": "7d4d88c9",
   "metadata": {},
   "outputs": [
    {
     "data": {
      "text/plain": [
       "13726"
      ]
     },
     "execution_count": 24,
     "metadata": {},
     "output_type": "execute_result"
    }
   ],
   "source": [
    "tot_score = 0\n",
    "for r in my_input.split(\"\\n\") :\n",
    "    if r=='':\n",
    "        continue\n",
    "    tot_score += round_scores[r]\n",
    "tot_score"
   ]
  },
  {
   "cell_type": "code",
   "execution_count": null,
   "id": "884ef4b8",
   "metadata": {},
   "outputs": [],
   "source": []
  }
 ],
 "metadata": {
  "kernelspec": {
   "display_name": "Python 3 (ipykernel)",
   "language": "python",
   "name": "python3"
  },
  "language_info": {
   "codemirror_mode": {
    "name": "ipython",
    "version": 3
   },
   "file_extension": ".py",
   "mimetype": "text/x-python",
   "name": "python",
   "nbconvert_exporter": "python",
   "pygments_lexer": "ipython3",
   "version": "3.10.2"
  }
 },
 "nbformat": 4,
 "nbformat_minor": 5
}
