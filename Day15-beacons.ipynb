{
 "cells": [
  {
   "cell_type": "code",
   "execution_count": 4,
   "id": "29e0af1f",
   "metadata": {},
   "outputs": [],
   "source": [
    "import numpy as np\n",
    "import re"
   ]
  },
  {
   "cell_type": "code",
   "execution_count": 1,
   "id": "b1685326",
   "metadata": {},
   "outputs": [],
   "source": [
    "test_input = \"\"\"Sensor at x=2, y=18: closest beacon is at x=-2, y=15\n",
    "Sensor at x=9, y=16: closest beacon is at x=10, y=16\n",
    "Sensor at x=13, y=2: closest beacon is at x=15, y=3\n",
    "Sensor at x=12, y=14: closest beacon is at x=10, y=16\n",
    "Sensor at x=10, y=20: closest beacon is at x=10, y=16\n",
    "Sensor at x=14, y=17: closest beacon is at x=10, y=16\n",
    "Sensor at x=8, y=7: closest beacon is at x=2, y=10\n",
    "Sensor at x=2, y=0: closest beacon is at x=2, y=10\n",
    "Sensor at x=0, y=11: closest beacon is at x=2, y=10\n",
    "Sensor at x=20, y=14: closest beacon is at x=25, y=17\n",
    "Sensor at x=17, y=20: closest beacon is at x=21, y=22\n",
    "Sensor at x=16, y=7: closest beacon is at x=15, y=3\n",
    "Sensor at x=14, y=3: closest beacon is at x=15, y=3\n",
    "Sensor at x=20, y=1: closest beacon is at x=15, y=3\"\"\""
   ]
  },
  {
   "cell_type": "code",
   "execution_count": 3,
   "id": "b2ff3eb9",
   "metadata": {},
   "outputs": [],
   "source": [
    "import requests\n",
    "\n",
    "URL = \"https://adventofcode.com/{year}/day/{day}/input\"\n",
    "url = URL.format(year='2022', day=15)\n",
    "cookies = {\"session\":\"53616c7465645f5fd345d8c12076a357c8d31b2c0c4ad1c152eefbd5c1cf09e0c8d6d7f657fc558887d443d2d07fbc90728ada9b6a91afcecb9926ffb4981a93\"}\n",
    "req = requests.get(url, cookies=cookies)\n",
    "\n",
    "if req.status_code != 200:\n",
    "    print(\"Error. Got status:\", req.status_code)\n",
    "    print(req.text)\n",
    "    exit(3)\n",
    "else:\n",
    "    my_input = req.text"
   ]
  },
  {
   "cell_type": "code",
   "execution_count": null,
   "id": "998e958c",
   "metadata": {},
   "outputs": [],
   "source": []
  },
  {
   "cell_type": "code",
   "execution_count": null,
   "id": "baab02e7",
   "metadata": {},
   "outputs": [],
   "source": []
  },
  {
   "cell_type": "code",
   "execution_count": 220,
   "id": "99d944b1",
   "metadata": {},
   "outputs": [],
   "source": [
    "class beacons :\n",
    "    \n",
    "    def __init__(self,this_input,look_row) :\n",
    "        \n",
    "        self.this_input = this_input\n",
    "        self.look_row = look_row\n",
    "        self.minX, self.minY, self.lenX, self.lenY = self.get_box() \n",
    "        self.c = self.get_empty_cave()\n",
    "    \n",
    "    def get_box(self) :\n",
    "        \n",
    "        allX = []\n",
    "        allY = [self.look_row]\n",
    "        for l in self.this_input.split(\"\\n\") :\n",
    "            if l == \"\":\n",
    "                continue\n",
    "            m = re.findall(\"x=(?P<Xs>-?\\d*), y=(?P<Ys>-?\\d*)\",l)\n",
    "            for (x,y) in m :\n",
    "                allX.append(int(x))\n",
    "                allY.append(int(y))\n",
    "        \n",
    "        minx = min(allX)\n",
    "        maxx = max(allX)\n",
    "        miny = min(allY)\n",
    "        maxy = max(allY)\n",
    "        lenx = maxx-minx +1\n",
    "        leny = maxy-miny +1\n",
    "        return minx, miny, lenx, leny\n",
    "        \n",
    "    def x_to_i0(self,x) :\n",
    "        if isinstance(x,str) :\n",
    "            x=int(x)\n",
    "        return x-self.minX\n",
    "    \n",
    "    def i0_to_x(self,i0) :\n",
    "        if isinstance(i0,str) :\n",
    "            i0=int(i0)\n",
    "        return i0+self.minX\n",
    "    \n",
    "    def y_to_i1(self,y) :\n",
    "        if isinstance(y,str) :\n",
    "            y=int(y)\n",
    "        return y-self.minY\n",
    "    \n",
    "    def i1_to_y(self,i1) :\n",
    "        if isinstance(i1,str) :\n",
    "            i1=int(i1)\n",
    "        return i1+self.minY\n",
    "    \n",
    "    def get_empty_cave(self) :\n",
    "        return np.zeros((self.lenX,self.lenY))\n",
    "    \n",
    "    def add_info(self) :\n",
    "        \n",
    "        for l in self.this_input.split(\"\\n\") :\n",
    "            if l == \"\":\n",
    "                continue\n",
    "                \n",
    "            m = re.findall(\"x=(?P<Xs>-?\\d*), y=(?P<Ys>-?\\d*)\",l)\n",
    "            Sx = int(m[0][0])\n",
    "            Sy = int(m[0][1])\n",
    "            Bx = int(m[1][0])\n",
    "            By = int(m[1][1])\n",
    "            \n",
    "            I0 = self.x_to_i0(Sx)\n",
    "            I1 = self.y_to_i1(Sy)\n",
    "            self.c[(I0,I1)] = -10\n",
    "            self.c[(self.x_to_i0(Bx),self.y_to_i1(By))] = -5\n",
    "            \n",
    "            d = abs(Sx-Bx) + abs(Sy-By)\n",
    "            for i0 in range( 0,d+1) :\n",
    "                dleft = d-abs(i0)\n",
    "\n",
    "                for i1 in range(0,dleft+1) :\n",
    "                        \n",
    "                    b0m = I0 - i0\n",
    "                    b1m = I1 - i1\n",
    "                    if b0m == -1 :\n",
    "                        self.c = np.r_[ np.zeros((1,self.lenY)) , self.c ]\n",
    "                        self.minX -= 1\n",
    "                        self.lenX += 1\n",
    "                        I0 += 1\n",
    "                        b0m += 1\n",
    "                    if b1m == -1 :\n",
    "                        self.c = np.c_[ np.zeros((self.lenX,1)) , self.c ]\n",
    "                        self.minY -= 1\n",
    "                        self.lenY += 1\n",
    "                        I1 += 1\n",
    "                        b1m += 1\n",
    "                        \n",
    "                    b0p = I0 + i0\n",
    "                    b1p = I1 + i1\n",
    "                    if b0p == self.lenX :\n",
    "                        self.c = np.r_[ self.c , np.zeros((1,self.lenY)) ]\n",
    "                        self.lenX += 1\n",
    "                    if b1p == self.lenY :\n",
    "                        self.c = np.c_[ self.c , np.zeros((self.lenX,1)) ]\n",
    "                        self.lenY += 1\n",
    "                        \n",
    "                    if self.c[(b0p,b1p)] == 0 :\n",
    "                        self.c[(b0p,b1p)] = 1\n",
    "                    if self.c[(b0m,b1m)] == 0 :\n",
    "                        self.c[(b0m,b1m)] = 1\n",
    "                    if self.c[(b0m,b1p)] == 0 :\n",
    "                        self.c[(b0m,b1p)] = 1\n",
    "                    if self.c[(b0p,b1m)] == 0 :\n",
    "                        self.c[(b0p,b1m)] = 1\n",
    "\n",
    "    def res_part1(self):\n",
    "        self.add_info()\n",
    "        return sum(self.c[:,self.y_to_i1(self.look_row)]==1)\n",
    "\n",
    "            \n",
    "            \n",
    "            \n",
    "    def __str__(self):\n",
    "        s = \"\"\n",
    "        for l in self.c.transpose() :\n",
    "            for el in l :\n",
    "                if el == -10 :\n",
    "                    s += \"S\"\n",
    "                elif el == -5 :\n",
    "                    s += \"B\"\n",
    "                elif el == 1 :\n",
    "                    s += \"#\"\n",
    "                else :\n",
    "                    s += \".\"\n",
    "            s+=\"\\n\"\n",
    "        return s"
   ]
  },
  {
   "cell_type": "code",
   "execution_count": 221,
   "id": "7d673f2e",
   "metadata": {},
   "outputs": [],
   "source": [
    "l = \"Sensor at x=2, y=18: closest beacon is at x=-2, y=15\""
   ]
  },
  {
   "cell_type": "code",
   "execution_count": 222,
   "id": "e827e6b0",
   "metadata": {},
   "outputs": [],
   "source": [
    "c = beacons(test_input,10)"
   ]
  },
  {
   "cell_type": "code",
   "execution_count": 223,
   "id": "143ce32f",
   "metadata": {},
   "outputs": [
    {
     "name": "stdout",
     "output_type": "stream",
     "text": [
      "............................\n",
      "............................\n",
      "............................\n",
      "............................\n",
      "............................\n",
      "............................\n",
      "............................\n",
      "............................\n",
      "............................\n",
      "............................\n",
      "............................\n",
      "............................\n",
      "............................\n",
      "............................\n",
      "............................\n",
      "............................\n",
      "............................\n",
      "............................\n",
      "............................\n",
      "............................\n",
      "............................\n",
      "............................\n",
      "............................\n",
      "\n"
     ]
    }
   ],
   "source": [
    "print(c)"
   ]
  },
  {
   "cell_type": "code",
   "execution_count": 224,
   "id": "d945d1d8",
   "metadata": {
    "scrolled": true
   },
   "outputs": [
    {
     "data": {
      "text/plain": [
       "26"
      ]
     },
     "execution_count": 224,
     "metadata": {},
     "output_type": "execute_result"
    }
   ],
   "source": [
    "c.res_part1()"
   ]
  },
  {
   "cell_type": "code",
   "execution_count": 225,
   "id": "020cdad5",
   "metadata": {
    "scrolled": false
   },
   "outputs": [
    {
     "name": "stdout",
     "output_type": "stream",
     "text": [
      "..........#..........................\n",
      ".........###.........................\n",
      "........#####........................\n",
      ".......#######.......................\n",
      "......#########.............#........\n",
      ".....###########...........###.......\n",
      "....#############.........#####......\n",
      "...###############.......#######.....\n",
      "..#################.....#########....\n",
      ".###################.#.###########...\n",
      "##########S########################..\n",
      ".###########################S#######.\n",
      "..###################S#############..\n",
      "...###################SB##########...\n",
      "....#############################....\n",
      ".....###########################.....\n",
      "......#########################......\n",
      ".......#########S#######S#####.......\n",
      "........#######################......\n",
      ".......#########################.....\n",
      "......####B######################....\n",
      ".....###S#############.###########...\n",
      "......#############################..\n",
      ".......#############################.\n",
      ".......#############S#######S########\n",
      "......B#############################.\n",
      ".....############SB################..\n",
      "....##################S##########B...\n",
      "...#######S######################....\n",
      "....############################.....\n",
      ".....#############S######S######.....\n",
      "......#########################......\n",
      ".......#######..#############B.......\n",
      "........#####....###..#######........\n",
      ".........###......#....#####.........\n",
      "..........#.............###..........\n",
      ".........................#...........\n",
      "\n"
     ]
    }
   ],
   "source": [
    "print(c)"
   ]
  },
  {
   "cell_type": "code",
   "execution_count": 226,
   "id": "e163eb46",
   "metadata": {
    "scrolled": true
   },
   "outputs": [
    {
     "ename": "MemoryError",
     "evalue": "Unable to allocate 166. TiB for an array with shape (4893543, 4665149) and data type float64",
     "output_type": "error",
     "traceback": [
      "\u001b[1;31m---------------------------------------------------------------------------\u001b[0m",
      "\u001b[1;31mMemoryError\u001b[0m                               Traceback (most recent call last)",
      "Input \u001b[1;32mIn [226]\u001b[0m, in \u001b[0;36m<module>\u001b[1;34m\u001b[0m\n\u001b[1;32m----> 1\u001b[0m c \u001b[38;5;241m=\u001b[39m \u001b[43mbeacons\u001b[49m\u001b[43m(\u001b[49m\u001b[43mmy_input\u001b[49m\u001b[43m,\u001b[49m\u001b[38;5;241;43m2000000\u001b[39;49m\u001b[43m)\u001b[49m\n\u001b[0;32m      2\u001b[0m c\u001b[38;5;241m.\u001b[39mres_part1()\n",
      "Input \u001b[1;32mIn [220]\u001b[0m, in \u001b[0;36mbeacons.__init__\u001b[1;34m(self, this_input, look_row)\u001b[0m\n\u001b[0;32m      6\u001b[0m \u001b[38;5;28mself\u001b[39m\u001b[38;5;241m.\u001b[39mlook_row \u001b[38;5;241m=\u001b[39m look_row\n\u001b[0;32m      7\u001b[0m \u001b[38;5;28mself\u001b[39m\u001b[38;5;241m.\u001b[39mminX, \u001b[38;5;28mself\u001b[39m\u001b[38;5;241m.\u001b[39mminY, \u001b[38;5;28mself\u001b[39m\u001b[38;5;241m.\u001b[39mlenX, \u001b[38;5;28mself\u001b[39m\u001b[38;5;241m.\u001b[39mlenY \u001b[38;5;241m=\u001b[39m \u001b[38;5;28mself\u001b[39m\u001b[38;5;241m.\u001b[39mget_box() \n\u001b[1;32m----> 8\u001b[0m \u001b[38;5;28mself\u001b[39m\u001b[38;5;241m.\u001b[39mc \u001b[38;5;241m=\u001b[39m \u001b[38;5;28;43mself\u001b[39;49m\u001b[38;5;241;43m.\u001b[39;49m\u001b[43mget_empty_cave\u001b[49m\u001b[43m(\u001b[49m\u001b[43m)\u001b[49m\n",
      "Input \u001b[1;32mIn [220]\u001b[0m, in \u001b[0;36mbeacons.get_empty_cave\u001b[1;34m(self)\u001b[0m\n\u001b[0;32m     50\u001b[0m \u001b[38;5;28;01mdef\u001b[39;00m \u001b[38;5;21mget_empty_cave\u001b[39m(\u001b[38;5;28mself\u001b[39m) :\n\u001b[1;32m---> 51\u001b[0m     \u001b[38;5;28;01mreturn\u001b[39;00m \u001b[43mnp\u001b[49m\u001b[38;5;241;43m.\u001b[39;49m\u001b[43mzeros\u001b[49m\u001b[43m(\u001b[49m\u001b[43m(\u001b[49m\u001b[38;5;28;43mself\u001b[39;49m\u001b[38;5;241;43m.\u001b[39;49m\u001b[43mlenX\u001b[49m\u001b[43m,\u001b[49m\u001b[38;5;28;43mself\u001b[39;49m\u001b[38;5;241;43m.\u001b[39;49m\u001b[43mlenY\u001b[49m\u001b[43m)\u001b[49m\u001b[43m)\u001b[49m\n",
      "\u001b[1;31mMemoryError\u001b[0m: Unable to allocate 166. TiB for an array with shape (4893543, 4665149) and data type float64"
     ]
    }
   ],
   "source": [
    "c = beacons(my_input,2000000)\n",
    "c.res_part1()"
   ]
  },
  {
   "cell_type": "code",
   "execution_count": null,
   "id": "b2030a70",
   "metadata": {},
   "outputs": [],
   "source": []
  },
  {
   "cell_type": "code",
   "execution_count": 263,
   "id": "637e56b2",
   "metadata": {},
   "outputs": [],
   "source": [
    "r = set()\n",
    "yr = 18\n",
    "\n",
    "l = \"Sensor at x=2, y=18: closest beacon is at x=-2, y=15\"\n",
    "m = re.findall(\"x=(?P<Xs>-?\\d*), y=(?P<Ys>-?\\d*)\",l)\n",
    "Sx = int(m[0][0])\n",
    "Sy = int(m[0][1])\n",
    "Bx = int(m[1][0])\n",
    "By = int(m[1][1])\n",
    "\n",
    "d = abs(Sx-Bx) + abs(Sy-By)"
   ]
  },
  {
   "cell_type": "code",
   "execution_count": 264,
   "id": "2ec29311",
   "metadata": {},
   "outputs": [
    {
     "name": "stdout",
     "output_type": "stream",
     "text": [
      "touch R\n"
     ]
    }
   ],
   "source": [
    "if Sy-d <= yr and Sy+d >= yr :\n",
    "    print(\"touch R\")\n",
    "    for i in range(d-abs(Sy-yr)+1) : \n",
    "        r.add(Sx+i)\n",
    "        r.add(Sx-i)"
   ]
  },
  {
   "cell_type": "code",
   "execution_count": 265,
   "id": "26d4003f",
   "metadata": {
    "scrolled": true
   },
   "outputs": [
    {
     "data": {
      "text/plain": [
       "{-5, -4, -3, -2, -1, 0, 1, 2, 3, 4, 5, 6, 7, 8, 9}"
      ]
     },
     "execution_count": 265,
     "metadata": {},
     "output_type": "execute_result"
    }
   ],
   "source": [
    "r"
   ]
  },
  {
   "cell_type": "code",
   "execution_count": 266,
   "id": "6d644ffe",
   "metadata": {},
   "outputs": [],
   "source": [
    "known = set()\n",
    "if Sy == yr :\n",
    "    known.add(Sx)\n",
    "if By == yr :\n",
    "    known.add(Bx)"
   ]
  },
  {
   "cell_type": "code",
   "execution_count": 267,
   "id": "19b96a09",
   "metadata": {},
   "outputs": [
    {
     "data": {
      "text/plain": [
       "{2}"
      ]
     },
     "execution_count": 267,
     "metadata": {},
     "output_type": "execute_result"
    }
   ],
   "source": [
    "known"
   ]
  },
  {
   "cell_type": "code",
   "execution_count": 268,
   "id": "0c3a3bd9",
   "metadata": {},
   "outputs": [
    {
     "data": {
      "text/plain": [
       "{-5, -4, -3, -2, -1, 0, 1, 3, 4, 5, 6, 7, 8, 9}"
      ]
     },
     "execution_count": 268,
     "metadata": {},
     "output_type": "execute_result"
    }
   ],
   "source": [
    "r-known"
   ]
  },
  {
   "cell_type": "code",
   "execution_count": null,
   "id": "2dff8c89",
   "metadata": {},
   "outputs": [],
   "source": []
  },
  {
   "cell_type": "code",
   "execution_count": 269,
   "id": "01e315ef",
   "metadata": {},
   "outputs": [
    {
     "data": {
      "text/plain": [
       "26"
      ]
     },
     "execution_count": 269,
     "metadata": {},
     "output_type": "execute_result"
    }
   ],
   "source": [
    "r = set()\n",
    "known = set()\n",
    "yr = 10\n",
    "for l in test_input.split(\"\\n\") :\n",
    "    if l == \"\":\n",
    "        continue\n",
    "    m = re.findall(\"x=(?P<Xs>-?\\d*), y=(?P<Ys>-?\\d*)\",l)\n",
    "    Sx = int(m[0][0])\n",
    "    Sy = int(m[0][1])\n",
    "    Bx = int(m[1][0])\n",
    "    By = int(m[1][1])\n",
    "\n",
    "    d = abs(Sx-Bx) + abs(Sy-By)\n",
    "    \n",
    "    if Sy-d <= yr and Sy+d >= yr :\n",
    "        for i in range(d-abs(Sy-yr)+1) : \n",
    "            r.add(Sx+i)\n",
    "            r.add(Sx-i)\n",
    "    if Sy == yr :\n",
    "        known.add(Sx)\n",
    "    if By == yr :\n",
    "        known.add(Bx)\n",
    "        \n",
    "len(r-known)"
   ]
  },
  {
   "cell_type": "code",
   "execution_count": 272,
   "id": "b6cb409d",
   "metadata": {},
   "outputs": [
    {
     "data": {
      "text/plain": [
       "5240818"
      ]
     },
     "execution_count": 272,
     "metadata": {},
     "output_type": "execute_result"
    }
   ],
   "source": [
    "r = set()\n",
    "known = set()\n",
    "yr = 2000000\n",
    "for l in my_input.split(\"\\n\") :\n",
    "    if l == \"\":\n",
    "        continue\n",
    "    m = re.findall(\"x=(?P<Xs>-?\\d*), y=(?P<Ys>-?\\d*)\",l)\n",
    "    Sx = int(m[0][0])\n",
    "    Sy = int(m[0][1])\n",
    "    Bx = int(m[1][0])\n",
    "    By = int(m[1][1])\n",
    "\n",
    "    d = abs(Sx-Bx) + abs(Sy-By)\n",
    "    \n",
    "    if Sy-d <= yr and Sy+d >= yr :\n",
    "        for i in range(d-abs(Sy-yr)+1) : \n",
    "            r.add(Sx+i)\n",
    "            r.add(Sx-i)\n",
    "    if Sy == yr :\n",
    "        known.add(Sx)\n",
    "    if By == yr :\n",
    "        known.add(Bx)\n",
    "        \n",
    "len(r-known)\n",
    "# 5942322 : too high"
   ]
  },
  {
   "cell_type": "code",
   "execution_count": null,
   "id": "026927eb",
   "metadata": {},
   "outputs": [],
   "source": [
    "for l in self.this_input.split(\"\\n\") :\n",
    "    if l == \"\":\n",
    "        continue"
   ]
  },
  {
   "cell_type": "code",
   "execution_count": 236,
   "id": "6f734579",
   "metadata": {},
   "outputs": [
    {
     "name": "stdout",
     "output_type": "stream",
     "text": [
      "...............\n",
      ".......#.......\n",
      "......###......\n",
      ".....#####.....\n",
      "....#######....\n",
      "...B########...\n",
      "..###########..\n",
      ".#############.\n",
      "#######S#######\n",
      ".#############.\n",
      "..###########..\n",
      "...#########...\n",
      "....#######....\n",
      ".....#####.....\n",
      "......###......\n",
      ".......#.......\n",
      "\n"
     ]
    }
   ],
   "source": [
    "c = beacons(l,10)\n",
    "c.add_info()\n",
    "print(c)"
   ]
  },
  {
   "cell_type": "code",
   "execution_count": 276,
   "id": "8b2e4cb0",
   "metadata": {},
   "outputs": [
    {
     "data": {
      "text/plain": [
       "{0, 1, 2, 3, 4, 5, 6, 7, 8, 9, 10, 11, 12, 13, 14, 15, 16, 17, 18, 19, 20}"
      ]
     },
     "execution_count": 276,
     "metadata": {},
     "output_type": "execute_result"
    }
   ],
   "source": [
    "r = set(range(21))\n",
    "r"
   ]
  },
  {
   "cell_type": "code",
   "execution_count": 281,
   "id": "001ad942",
   "metadata": {},
   "outputs": [
    {
     "name": "stdout",
     "output_type": "stream",
     "text": [
      "14 11 56000011\n"
     ]
    }
   ],
   "source": [
    "for yr in range(20+1):\n",
    "    r = set(range(21))\n",
    "\n",
    "    for l in test_input.split(\"\\n\") :\n",
    "        if l == \"\":\n",
    "            continue\n",
    "        m = re.findall(\"x=(?P<Xs>-?\\d*), y=(?P<Ys>-?\\d*)\",l)\n",
    "        Sx = int(m[0][0])\n",
    "        Sy = int(m[0][1])\n",
    "        Bx = int(m[1][0])\n",
    "        By = int(m[1][1])\n",
    "\n",
    "        d = abs(Sx-Bx) + abs(Sy-By)\n",
    "    \n",
    "        if Sy-d <= yr and Sy+d >= yr :\n",
    "            for i in range(d-abs(Sy-yr)+1) : \n",
    "                if Sx+i in r :\n",
    "                    r.remove(Sx+i)\n",
    "                if Sx-i in r :\n",
    "                    r.remove(Sx-i)\n",
    "        if len(r) == 0 :\n",
    "#             print(\"not for \",yr)\n",
    "            break\n",
    "    if len(r) != 0 :\n",
    "        print(list(r)[0],yr,list(r)[0]*4000000+yr)\n",
    "        break"
   ]
  },
  {
   "cell_type": "code",
   "execution_count": 283,
   "id": "2565ee66",
   "metadata": {
    "scrolled": true
   },
   "outputs": [
    {
     "ename": "KeyboardInterrupt",
     "evalue": "",
     "output_type": "error",
     "traceback": [
      "\u001b[1;31m---------------------------------------------------------------------------\u001b[0m",
      "\u001b[1;31mKeyboardInterrupt\u001b[0m                         Traceback (most recent call last)",
      "Input \u001b[1;32mIn [283]\u001b[0m, in \u001b[0;36m<module>\u001b[1;34m\u001b[0m\n\u001b[0;32m      1\u001b[0m \u001b[38;5;28;01mfor\u001b[39;00m yr \u001b[38;5;129;01min\u001b[39;00m \u001b[38;5;28mrange\u001b[39m(\u001b[38;5;241m4000000\u001b[39m\u001b[38;5;241m+\u001b[39m\u001b[38;5;241m1\u001b[39m):\n\u001b[0;32m      2\u001b[0m     r \u001b[38;5;241m=\u001b[39m \u001b[38;5;28mset\u001b[39m(\u001b[38;5;28mrange\u001b[39m(\u001b[38;5;241m4000001\u001b[39m))\n\u001b[1;32m----> 4\u001b[0m     \u001b[38;5;28;01mfor\u001b[39;00m l \u001b[38;5;129;01min\u001b[39;00m \u001b[43mmy_input\u001b[49m\u001b[38;5;241;43m.\u001b[39;49m\u001b[43msplit\u001b[49m\u001b[43m(\u001b[49m\u001b[38;5;124;43m\"\u001b[39;49m\u001b[38;5;130;43;01m\\n\u001b[39;49;00m\u001b[38;5;124;43m\"\u001b[39;49m\u001b[43m)\u001b[49m :\n\u001b[0;32m      5\u001b[0m         \u001b[38;5;28;01mif\u001b[39;00m l \u001b[38;5;241m==\u001b[39m \u001b[38;5;124m\"\u001b[39m\u001b[38;5;124m\"\u001b[39m:\n\u001b[0;32m      6\u001b[0m             \u001b[38;5;28;01mcontinue\u001b[39;00m\n",
      "\u001b[1;31mKeyboardInterrupt\u001b[0m: "
     ]
    }
   ],
   "source": [
    "for yr in range(4000000+1):\n",
    "    r = set(range(4000001))\n",
    "\n",
    "    for l in my_input.split(\"\\n\") :\n",
    "        if l == \"\":\n",
    "            continue\n",
    "        m = re.findall(\"x=(?P<Xs>-?\\d*), y=(?P<Ys>-?\\d*)\",l)\n",
    "        Sx = int(m[0][0])\n",
    "        Sy = int(m[0][1])\n",
    "        Bx = int(m[1][0])\n",
    "        By = int(m[1][1])\n",
    "\n",
    "        d = abs(Sx-Bx) + abs(Sy-By)\n",
    "    \n",
    "        if Sy-d <= yr and Sy+d >= yr :\n",
    "            for i in range(d-abs(Sy-yr)+1) : \n",
    "                if Sx+i in r :\n",
    "                    r.remove(Sx+i)\n",
    "                if Sx-i in r :\n",
    "                    r.remove(Sx-i)\n",
    "        if len(r) == 0 :\n",
    "#             print(\"not for \",yr)\n",
    "            break\n",
    "    if len(r) != 0 :\n",
    "        print(list(r)[0],yr,list(r)[0]*4000000+yr)\n",
    "        break"
   ]
  },
  {
   "cell_type": "code",
   "execution_count": 285,
   "id": "eea1b83d",
   "metadata": {},
   "outputs": [],
   "source": [
    "LIM = 20"
   ]
  },
  {
   "cell_type": "code",
   "execution_count": 286,
   "id": "2035f237",
   "metadata": {},
   "outputs": [],
   "source": [
    "l = \"Sensor at x=2, y=18: closest beacon is at x=-2, y=15\""
   ]
  },
  {
   "cell_type": "code",
   "execution_count": 292,
   "id": "80f3e998",
   "metadata": {},
   "outputs": [
    {
     "name": "stdout",
     "output_type": "stream",
     "text": [
      "0 8\n",
      "1 7\n",
      "2 6\n",
      "3 5\n",
      "4 4\n",
      "5 3\n",
      "6 2\n",
      "7 1\n",
      "8 0\n"
     ]
    },
    {
     "data": {
      "text/plain": [
       "{(0, 12),\n",
       " (1, 11),\n",
       " (2, 10),\n",
       " (3, 11),\n",
       " (4, 12),\n",
       " (5, 13),\n",
       " (6, 14),\n",
       " (7, 15),\n",
       " (8, 16),\n",
       " (8, 20),\n",
       " (9, 17),\n",
       " (9, 19),\n",
       " (10, 18)}"
      ]
     },
     "execution_count": 292,
     "metadata": {},
     "output_type": "execute_result"
    }
   ],
   "source": [
    "m = re.findall(\"x=(?P<Xs>-?\\d*), y=(?P<Ys>-?\\d*)\",l)\n",
    "Sx = int(m[0][0])\n",
    "Sy = int(m[0][1])\n",
    "Bx = int(m[1][0])\n",
    "By = int(m[1][1])\n",
    "\n",
    "d = abs(Sx-Bx) + abs(Sy-By)\n",
    "\n",
    "border = set()\n",
    "\n",
    "for ix in range(0,d+2) :\n",
    "    iy = d+1-ix\n",
    "    print(ix,iy)\n",
    "    bxp = Sx + ix\n",
    "    bxm = Sx - ix\n",
    "    byp = Sy + iy\n",
    "    bym = Sy - iy\n",
    "\n",
    "    if bxp <= LIM :\n",
    "        if byp <= LIM :\n",
    "#             print(\"\\tpp : \",bxp,byp)\n",
    "            border.add((bxp,byp))\n",
    "        if bym >= 0 :\n",
    "            border.add((bxp,bym))\n",
    "#             print(\"\\tpm : \",bxp,bym)\n",
    "            \n",
    "    if bxm >= 0 :\n",
    "        if byp <= LIM :\n",
    "            border.add((bxm,byp))\n",
    "#             print(\"\\t\",bxm,byp)\n",
    "        if bym >= 0 :\n",
    "            border.add((bxm,bym))\n",
    "#             print(\"\\t\",bxm,bym)\n",
    "            \n",
    "border"
   ]
  },
  {
   "cell_type": "raw",
   "id": "698e8a1a",
   "metadata": {},
   "source": [
    "    ----- +++++++++\n",
    "    543210123456789\n",
    "10  ...............\n",
    "    .......#.......\n",
    "    ......###......\n",
    "    .....#####.....\n",
    "    ....#######....\n",
    "15  ...B########...\n",
    "    ..###########..\n",
    "    .#############.\n",
    "18  #######S#######\n",
    "    .#############.\n",
    "    ..###########..\n",
    "    ...#########...\n",
    "    ....#######....\n",
    "    .....#####.....\n",
    "    ......###......\n",
    "    .......#......."
   ]
  },
  {
   "cell_type": "code",
   "execution_count": null,
   "id": "a72b46a9",
   "metadata": {},
   "outputs": [],
   "source": []
  },
  {
   "cell_type": "code",
   "execution_count": 311,
   "id": "e2afe6e9",
   "metadata": {},
   "outputs": [],
   "source": [
    "all_borders = []\n",
    "\n",
    "LIM = 20\n",
    "\n",
    "for l in test_input.split(\"\\n\") :\n",
    "    if l == \"\":\n",
    "        continue\n",
    "\n",
    "    m = re.findall(\"x=(?P<Xs>-?\\d*), y=(?P<Ys>-?\\d*)\",l)\n",
    "    Sx = int(m[0][0])\n",
    "    Sy = int(m[0][1])\n",
    "    Bx = int(m[1][0])\n",
    "    By = int(m[1][1])\n",
    "\n",
    "    d = abs(Sx-Bx) + abs(Sy-By)\n",
    "\n",
    "    border = set()\n",
    "\n",
    "    for ix in range(0,d+2) :\n",
    "        iy = d+1-ix\n",
    "        bxp = Sx + ix\n",
    "        bxm = Sx - ix\n",
    "        byp = Sy + iy\n",
    "        bym = Sy - iy\n",
    "\n",
    "        if bxp <= LIM :\n",
    "            if byp <= LIM :\n",
    "                border.add((bxp,byp))\n",
    "            if bym >= 0 :\n",
    "                border.add((bxp,bym))\n",
    "\n",
    "        if bxm >= 0 :\n",
    "            if byp <= LIM :\n",
    "                border.add((bxm,byp))\n",
    "            if bym >= 0 :\n",
    "                border.add((bxm,bym))\n",
    "                \n",
    "                \n",
    "    all_borders.append(border)\n",
    "\n"
   ]
  },
  {
   "cell_type": "code",
   "execution_count": 320,
   "id": "f2858066",
   "metadata": {},
   "outputs": [],
   "source": [
    "set_test_Points = set()\n",
    "for i in range(len(all_borders)-1):\n",
    "    for ii in range(1,len(all_borders)) :\n",
    "        set_test_Points.update(set.intersection(all_borders[i],all_borders[ii]))"
   ]
  },
  {
   "cell_type": "code",
   "execution_count": 321,
   "id": "33dd4534",
   "metadata": {},
   "outputs": [
    {
     "data": {
      "text/plain": [
       "124"
      ]
     },
     "execution_count": 321,
     "metadata": {},
     "output_type": "execute_result"
    }
   ],
   "source": [
    "len(set_test_Points)"
   ]
  },
  {
   "cell_type": "code",
   "execution_count": 305,
   "id": "a9448ec9",
   "metadata": {},
   "outputs": [],
   "source": [
    "def test_Point(x,y,this_input) :\n",
    "    for l in this_input.split(\"\\n\") :\n",
    "        \n",
    "        if l == \"\":\n",
    "            continue\n",
    "            \n",
    "        m = re.findall(\"x=(?P<Xs>-?\\d*), y=(?P<Ys>-?\\d*)\",l)\n",
    "        Sx = int(m[0][0])\n",
    "        Sy = int(m[0][1])\n",
    "        Bx = int(m[1][0])\n",
    "        By = int(m[1][1])\n",
    "\n",
    "        dist_B = abs(Sx-Bx) + abs(Sy-By)\n",
    "        dist_P = abs(Sx-x) + abs(Sy-y)\n",
    "        if dist_P <= dist_B :\n",
    "            return False\n",
    "    return True"
   ]
  },
  {
   "cell_type": "code",
   "execution_count": 322,
   "id": "77e90858",
   "metadata": {},
   "outputs": [
    {
     "name": "stdout",
     "output_type": "stream",
     "text": [
      "14 11 56000011\n"
     ]
    }
   ],
   "source": [
    "for x,y in set_test_Points :\n",
    "    if test_Point(x,y,test_input):\n",
    "        print(x,y,x*4000000+y)\n",
    "        break\n",
    "        "
   ]
  },
  {
   "cell_type": "code",
   "execution_count": null,
   "id": "1f931d7d",
   "metadata": {},
   "outputs": [],
   "source": []
  },
  {
   "cell_type": "code",
   "execution_count": 307,
   "id": "91f64ed8",
   "metadata": {},
   "outputs": [],
   "source": [
    "all_borders = set()\n",
    "\n",
    "LIM = 4000000\n",
    "\n",
    "for l in my_input.split(\"\\n\") :\n",
    "    if l == \"\":\n",
    "        continue\n",
    "\n",
    "    m = re.findall(\"x=(?P<Xs>-?\\d*), y=(?P<Ys>-?\\d*)\",l)\n",
    "    Sx = int(m[0][0])\n",
    "    Sy = int(m[0][1])\n",
    "    Bx = int(m[1][0])\n",
    "    By = int(m[1][1])\n",
    "\n",
    "    d = abs(Sx-Bx) + abs(Sy-By)\n",
    "\n",
    "    border = set()\n",
    "\n",
    "    for ix in range(0,d+2) :\n",
    "        iy = d+1-ix\n",
    "        bxp = Sx + ix\n",
    "        bxm = Sx - ix\n",
    "        byp = Sy + iy\n",
    "        bym = Sy - iy\n",
    "\n",
    "        if bxp <= LIM :\n",
    "            if byp <= LIM :\n",
    "                all_borders.add((bxp,byp))\n",
    "            if bym >= 0 :\n",
    "                all_borders.add((bxp,bym))\n",
    "\n",
    "        if bxm >= 0 :\n",
    "            if byp <= LIM :\n",
    "                all_borders.add((bxm,byp))\n",
    "            if bym >= 0 :\n",
    "                all_borders.add((bxm,bym))\n",
    "\n",
    "\n"
   ]
  },
  {
   "cell_type": "code",
   "execution_count": 308,
   "id": "e14223ae",
   "metadata": {},
   "outputs": [
    {
     "data": {
      "text/plain": [
       "59206204"
      ]
     },
     "execution_count": 308,
     "metadata": {},
     "output_type": "execute_result"
    }
   ],
   "source": [
    "len(all_borders)"
   ]
  },
  {
   "cell_type": "code",
   "execution_count": 309,
   "id": "13e374c7",
   "metadata": {
    "collapsed": true
   },
   "outputs": [
    {
     "ename": "KeyboardInterrupt",
     "evalue": "",
     "output_type": "error",
     "traceback": [
      "\u001b[1;31m---------------------------------------------------------------------------\u001b[0m",
      "\u001b[1;31mKeyboardInterrupt\u001b[0m                         Traceback (most recent call last)",
      "Input \u001b[1;32mIn [309]\u001b[0m, in \u001b[0;36m<module>\u001b[1;34m\u001b[0m\n\u001b[0;32m      1\u001b[0m \u001b[38;5;28;01mfor\u001b[39;00m x,y \u001b[38;5;129;01min\u001b[39;00m all_borders :\n\u001b[1;32m----> 2\u001b[0m     \u001b[38;5;28;01mif\u001b[39;00m \u001b[43mtest_Point\u001b[49m\u001b[43m(\u001b[49m\u001b[43mx\u001b[49m\u001b[43m,\u001b[49m\u001b[43my\u001b[49m\u001b[43m,\u001b[49m\u001b[43mmy_input\u001b[49m\u001b[43m)\u001b[49m:\n\u001b[0;32m      3\u001b[0m         \u001b[38;5;28mprint\u001b[39m(x,y,x\u001b[38;5;241m*\u001b[39m\u001b[38;5;241m4000000\u001b[39m\u001b[38;5;241m+\u001b[39my)\n\u001b[0;32m      4\u001b[0m         \u001b[38;5;28;01mbreak\u001b[39;00m\n",
      "Input \u001b[1;32mIn [305]\u001b[0m, in \u001b[0;36mtest_Point\u001b[1;34m(x, y, this_input)\u001b[0m\n\u001b[0;32m      4\u001b[0m \u001b[38;5;28;01mif\u001b[39;00m l \u001b[38;5;241m==\u001b[39m \u001b[38;5;124m\"\u001b[39m\u001b[38;5;124m\"\u001b[39m:\n\u001b[0;32m      5\u001b[0m     \u001b[38;5;28;01mcontinue\u001b[39;00m\n\u001b[1;32m----> 7\u001b[0m m \u001b[38;5;241m=\u001b[39m \u001b[43mre\u001b[49m\u001b[38;5;241;43m.\u001b[39;49m\u001b[43mfindall\u001b[49m\u001b[43m(\u001b[49m\u001b[38;5;124;43m\"\u001b[39;49m\u001b[38;5;124;43mx=(?P<Xs>-?\u001b[39;49m\u001b[38;5;124;43m\\\u001b[39;49m\u001b[38;5;124;43md*), y=(?P<Ys>-?\u001b[39;49m\u001b[38;5;124;43m\\\u001b[39;49m\u001b[38;5;124;43md*)\u001b[39;49m\u001b[38;5;124;43m\"\u001b[39;49m\u001b[43m,\u001b[49m\u001b[43ml\u001b[49m\u001b[43m)\u001b[49m\n\u001b[0;32m      8\u001b[0m Sx \u001b[38;5;241m=\u001b[39m \u001b[38;5;28mint\u001b[39m(m[\u001b[38;5;241m0\u001b[39m][\u001b[38;5;241m0\u001b[39m])\n\u001b[0;32m      9\u001b[0m Sy \u001b[38;5;241m=\u001b[39m \u001b[38;5;28mint\u001b[39m(m[\u001b[38;5;241m0\u001b[39m][\u001b[38;5;241m1\u001b[39m])\n",
      "File \u001b[1;32m~\\AppData\\Local\\Programs\\Python\\Python310\\lib\\re.py:240\u001b[0m, in \u001b[0;36mfindall\u001b[1;34m(pattern, string, flags)\u001b[0m\n\u001b[0;32m    232\u001b[0m \u001b[38;5;28;01mdef\u001b[39;00m \u001b[38;5;21mfindall\u001b[39m(pattern, string, flags\u001b[38;5;241m=\u001b[39m\u001b[38;5;241m0\u001b[39m):\n\u001b[0;32m    233\u001b[0m     \u001b[38;5;124;03m\"\"\"Return a list of all non-overlapping matches in the string.\u001b[39;00m\n\u001b[0;32m    234\u001b[0m \n\u001b[0;32m    235\u001b[0m \u001b[38;5;124;03m    If one or more capturing groups are present in the pattern, return\u001b[39;00m\n\u001b[1;32m   (...)\u001b[0m\n\u001b[0;32m    238\u001b[0m \n\u001b[0;32m    239\u001b[0m \u001b[38;5;124;03m    Empty matches are included in the result.\"\"\"\u001b[39;00m\n\u001b[1;32m--> 240\u001b[0m     \u001b[38;5;28;01mreturn\u001b[39;00m \u001b[43m_compile\u001b[49m\u001b[43m(\u001b[49m\u001b[43mpattern\u001b[49m\u001b[43m,\u001b[49m\u001b[43m \u001b[49m\u001b[43mflags\u001b[49m\u001b[43m)\u001b[49m\u001b[38;5;241m.\u001b[39mfindall(string)\n",
      "File \u001b[1;32m~\\AppData\\Local\\Programs\\Python\\Python310\\lib\\re.py:288\u001b[0m, in \u001b[0;36m_compile\u001b[1;34m(pattern, flags)\u001b[0m\n\u001b[0;32m    285\u001b[0m _cache \u001b[38;5;241m=\u001b[39m {}  \u001b[38;5;66;03m# ordered!\u001b[39;00m\n\u001b[0;32m    287\u001b[0m _MAXCACHE \u001b[38;5;241m=\u001b[39m \u001b[38;5;241m512\u001b[39m\n\u001b[1;32m--> 288\u001b[0m \u001b[38;5;28;01mdef\u001b[39;00m \u001b[38;5;21m_compile\u001b[39m(pattern, flags):\n\u001b[0;32m    289\u001b[0m     \u001b[38;5;66;03m# internal: compile pattern\u001b[39;00m\n\u001b[0;32m    290\u001b[0m     \u001b[38;5;28;01mif\u001b[39;00m \u001b[38;5;28misinstance\u001b[39m(flags, RegexFlag):\n\u001b[0;32m    291\u001b[0m         flags \u001b[38;5;241m=\u001b[39m flags\u001b[38;5;241m.\u001b[39mvalue\n",
      "\u001b[1;31mKeyboardInterrupt\u001b[0m: "
     ]
    }
   ],
   "source": [
    "for x,y in all_borders :\n",
    "    if test_Point(x,y,my_input):\n",
    "        print(x,y,x*4000000+y)\n",
    "        break\n",
    "        "
   ]
  },
  {
   "cell_type": "code",
   "execution_count": null,
   "id": "fe830916",
   "metadata": {},
   "outputs": [],
   "source": []
  },
  {
   "cell_type": "code",
   "execution_count": 323,
   "id": "806ae225",
   "metadata": {},
   "outputs": [],
   "source": [
    "all_borders = []\n",
    "\n",
    "LIM = 4000000\n",
    "\n",
    "for l in my_input.split(\"\\n\") :\n",
    "    if l == \"\":\n",
    "        continue\n",
    "\n",
    "    m = re.findall(\"x=(?P<Xs>-?\\d*), y=(?P<Ys>-?\\d*)\",l)\n",
    "    Sx = int(m[0][0])\n",
    "    Sy = int(m[0][1])\n",
    "    Bx = int(m[1][0])\n",
    "    By = int(m[1][1])\n",
    "\n",
    "    d = abs(Sx-Bx) + abs(Sy-By)\n",
    "\n",
    "    border = set()\n",
    "\n",
    "    for ix in range(0,d+2) :\n",
    "        iy = d+1-ix\n",
    "        bxp = Sx + ix\n",
    "        bxm = Sx - ix\n",
    "        byp = Sy + iy\n",
    "        bym = Sy - iy\n",
    "\n",
    "        if bxp <= LIM :\n",
    "            if byp <= LIM :\n",
    "                border.add((bxp,byp))\n",
    "            if bym >= 0 :\n",
    "                border.add((bxp,bym))\n",
    "\n",
    "        if bxm >= 0 :\n",
    "            if byp <= LIM :\n",
    "                border.add((bxm,byp))\n",
    "            if bym >= 0 :\n",
    "                border.add((bxm,bym))\n",
    "                \n",
    "                \n",
    "    all_borders.append(border)\n",
    "\n"
   ]
  },
  {
   "cell_type": "code",
   "execution_count": 325,
   "id": "fc862aad",
   "metadata": {},
   "outputs": [
    {
     "data": {
      "text/plain": [
       "33"
      ]
     },
     "execution_count": 325,
     "metadata": {},
     "output_type": "execute_result"
    }
   ],
   "source": [
    "len(all_borders)"
   ]
  },
  {
   "cell_type": "code",
   "execution_count": 327,
   "id": "bef0946d",
   "metadata": {},
   "outputs": [],
   "source": [
    "set_test_Points = set()\n",
    "for i in range(len(all_borders)-2):\n",
    "    for ii in range(i,len(all_borders)-1) :\n",
    "        for iii in range(ii,len(all_borders)):\n",
    "            set_test_Points.update(set.intersection(all_borders[i],all_borders[ii],all_borders[iii]))"
   ]
  },
  {
   "cell_type": "code",
   "execution_count": 328,
   "id": "b0e117fe",
   "metadata": {},
   "outputs": [
    {
     "data": {
      "text/plain": [
       "57901989"
      ]
     },
     "execution_count": 328,
     "metadata": {},
     "output_type": "execute_result"
    }
   ],
   "source": [
    "len(set_test_Points)"
   ]
  },
  {
   "cell_type": "code",
   "execution_count": 305,
   "id": "e4b0a0bc",
   "metadata": {},
   "outputs": [],
   "source": [
    "def test_Point(x,y,this_input) :\n",
    "    for l in this_input.split(\"\\n\") :\n",
    "        \n",
    "        if l == \"\":\n",
    "            continue\n",
    "            \n",
    "        m = re.findall(\"x=(?P<Xs>-?\\d*), y=(?P<Ys>-?\\d*)\",l)\n",
    "        Sx = int(m[0][0])\n",
    "        Sy = int(m[0][1])\n",
    "        Bx = int(m[1][0])\n",
    "        By = int(m[1][1])\n",
    "\n",
    "        dist_B = abs(Sx-Bx) + abs(Sy-By)\n",
    "        dist_P = abs(Sx-x) + abs(Sy-y)\n",
    "        if dist_P <= dist_B :\n",
    "            return False\n",
    "    return True"
   ]
  },
  {
   "cell_type": "code",
   "execution_count": 329,
   "id": "fc083fc5",
   "metadata": {},
   "outputs": [
    {
     "name": "stdout",
     "output_type": "stream",
     "text": [
      "3303271 2906101 13213086906101\n"
     ]
    }
   ],
   "source": [
    "for x,y in set_test_Points :\n",
    "    if test_Point(x,y,my_input):\n",
    "        print(x,y,x*4000000+y)\n",
    "        break\n",
    "        "
   ]
  },
  {
   "cell_type": "code",
   "execution_count": null,
   "id": "15924ad1",
   "metadata": {},
   "outputs": [],
   "source": []
  },
  {
   "cell_type": "code",
   "execution_count": 330,
   "id": "ab70d030",
   "metadata": {},
   "outputs": [],
   "source": [
    "capteurs = []\n",
    "\n",
    "for l in my_input.split(\"\\n\") :\n",
    "    if l == \"\":\n",
    "        continue\n",
    "\n",
    "    m = re.findall(\"x=(?P<Xs>-?\\d*), y=(?P<Ys>-?\\d*)\",l)\n",
    "    Sx = int(m[0][0])\n",
    "    Sy = int(m[0][1])\n",
    "    Bx = int(m[1][0])\n",
    "    By = int(m[1][1])\n",
    "\n",
    "    d = abs(Sx-Bx) + abs(Sy-By)\n",
    "    \n",
    "    capteurs.append((Sx,Sy,d))\n"
   ]
  },
  {
   "cell_type": "code",
   "execution_count": 331,
   "id": "f5769f24",
   "metadata": {},
   "outputs": [
    {
     "data": {
      "text/plain": [
       "[(2899860, 3122031, 619340),\n",
       " (1836719, 1116779, 1083557),\n",
       " (3995802, 2706630, 397919),\n",
       " (2591204, 2008272, 507531),\n",
       " (2546593, 1538222, 971316),\n",
       " (252214, 61954, 1587428),\n",
       " (950, 1106672, 1064820),\n",
       " (1349445, 1752783, 934827),\n",
       " (3195828, 3483667, 186685),\n",
       " (2057761, 2154359, 175065),\n",
       " (2315350, 3364640, 564059),\n",
       " (327139, 2426600, 1635906),\n",
       " (3943522, 2854345, 199956),\n",
       " (3358620, 516881, 1827302),\n",
       " (1788376, 8679, 1399613),\n",
       " (3344883, 3537985, 16688),\n",
       " (2961064, 2697125, 551182),\n",
       " (3780090, 2093546, 672107),\n",
       " (3291917, 3398703, 175560),\n",
       " (3999864, 2998005, 110606),\n",
       " (2919272, 3732950, 408173),\n",
       " (2057404, 2947435, 967784),\n",
       " (1072126, 645784, 1351346),\n",
       " (3549465, 2554712, 597582),\n",
       " (3550313, 3121694, 462634),\n",
       " (3405149, 3483630, 118385),\n",
       " (2600212, 3961193, 519470),\n",
       " (1102632, 3932527, 1476632),\n",
       " (67001, 3506079, 296289),\n",
       " (3994250, 3975025, 971452),\n",
       " (3019750, 2125144, 361701),\n",
       " (3282319, 3656404, 177219),\n",
       " (2797371, 3645126, 198448)]"
      ]
     },
     "execution_count": 331,
     "metadata": {},
     "output_type": "execute_result"
    }
   ],
   "source": [
    "capteurs"
   ]
  },
  {
   "cell_type": "code",
   "execution_count": 332,
   "id": "56917e05",
   "metadata": {},
   "outputs": [],
   "source": [
    "def result() :\n",
    "    LIM = 4000000\n",
    "\n",
    "    for (Sx,Sy,d) in capteurs:\n",
    "\n",
    "        for ix in range(0,d+2) :\n",
    "            iy = d+1-ix\n",
    "            bxp = Sx + ix\n",
    "            bxm = Sx - ix\n",
    "            byp = Sy + iy\n",
    "            bym = Sy - iy\n",
    "\n",
    "            if bxp <= LIM :\n",
    "                if byp <= LIM :\n",
    "                    if test_Point(bxp,byp,my_input):\n",
    "                        print(bxp,byp,bxp*4000000+byp)\n",
    "                        return True\n",
    "                if bym >= 0 :\n",
    "                    if test_Point(bxp,bym,my_input):\n",
    "                        print(bxp,bym,bxp*4000000+bym)\n",
    "                        return True\n",
    "\n",
    "            if bxm >= 0 :\n",
    "                if byp <= LIM :\n",
    "                    if test_Point(bxm,byp,my_input):\n",
    "                        print(bxm,byp,bxm*4000000+byp)\n",
    "                        return True\n",
    "                if bym >= 0 :\n",
    "                    if test_Point(bxm,bym,my_input):\n",
    "                        print(bxm,bym,bxm*4000000+bym)\n",
    "                        return True"
   ]
  },
  {
   "cell_type": "code",
   "execution_count": 333,
   "id": "7e730cdf",
   "metadata": {},
   "outputs": [
    {
     "name": "stdout",
     "output_type": "stream",
     "text": [
      "3303271 2906101 13213086906101\n"
     ]
    },
    {
     "data": {
      "text/plain": [
       "True"
      ]
     },
     "execution_count": 333,
     "metadata": {},
     "output_type": "execute_result"
    }
   ],
   "source": [
    "result()"
   ]
  },
  {
   "cell_type": "code",
   "execution_count": null,
   "id": "f4c1ac6c",
   "metadata": {},
   "outputs": [],
   "source": [
    "13213086906101"
   ]
  }
 ],
 "metadata": {
  "kernelspec": {
   "display_name": "Python 3 (ipykernel)",
   "language": "python",
   "name": "python3"
  },
  "language_info": {
   "codemirror_mode": {
    "name": "ipython",
    "version": 3
   },
   "file_extension": ".py",
   "mimetype": "text/x-python",
   "name": "python",
   "nbconvert_exporter": "python",
   "pygments_lexer": "ipython3",
   "version": "3.10.2"
  }
 },
 "nbformat": 4,
 "nbformat_minor": 5
}
