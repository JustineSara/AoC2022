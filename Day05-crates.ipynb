{
 "cells": [
  {
   "cell_type": "code",
   "execution_count": 19,
   "id": "8d2d537a",
   "metadata": {},
   "outputs": [],
   "source": [
    "import pandas as pd\n",
    "import re"
   ]
  },
  {
   "cell_type": "code",
   "execution_count": 1,
   "id": "5760d4d6",
   "metadata": {},
   "outputs": [],
   "source": [
    "test_input = \"\"\"    [D]    \n",
    "[N] [C]    \n",
    "[Z] [M] [P]\n",
    " 1   2   3 \n",
    "\n",
    "move 1 from 2 to 1\n",
    "move 3 from 1 to 3\n",
    "move 2 from 2 to 1\n",
    "move 1 from 1 to 2\"\"\""
   ]
  },
  {
   "cell_type": "code",
   "execution_count": 2,
   "id": "f35293e7",
   "metadata": {},
   "outputs": [],
   "source": [
    "import requests\n",
    "\n",
    "URL = \"https://adventofcode.com/{year}/day/{day}/input\"\n",
    "url = URL.format(year='2022', day=5)\n",
    "cookies = {\"session\":\"53616c7465645f5fd345d8c12076a357c8d31b2c0c4ad1c152eefbd5c1cf09e0c8d6d7f657fc558887d443d2d07fbc90728ada9b6a91afcecb9926ffb4981a93\"}\n",
    "req = requests.get(url, cookies=cookies)\n",
    "\n",
    "if req.status_code != 200:\n",
    "    print(\"Error. Got status:\", req.status_code)\n",
    "    print(req.text)\n",
    "    exit(3)\n",
    "else:\n",
    "    my_input = req.text"
   ]
  },
  {
   "cell_type": "code",
   "execution_count": null,
   "id": "ad7411cc",
   "metadata": {},
   "outputs": [],
   "source": []
  },
  {
   "cell_type": "code",
   "execution_count": 97,
   "id": "d80fd9c7",
   "metadata": {},
   "outputs": [],
   "source": [
    "# test input\n",
    "this_input = test_input\n",
    "[stacks,moves]=this_input.split(\"\\n\\n\")\n",
    "n_col = 3\n"
   ]
  },
  {
   "cell_type": "code",
   "execution_count": null,
   "id": "29f96fed",
   "metadata": {},
   "outputs": [],
   "source": []
  },
  {
   "cell_type": "code",
   "execution_count": 115,
   "id": "3f335344",
   "metadata": {},
   "outputs": [],
   "source": [
    "this_input = my_input\n",
    "[stacks,moves]=this_input.split(\"\\n\\n\")\n",
    "n_col = 9"
   ]
  },
  {
   "cell_type": "code",
   "execution_count": null,
   "id": "5e77152c",
   "metadata": {},
   "outputs": [],
   "source": []
  },
  {
   "cell_type": "code",
   "execution_count": 87,
   "id": "7cd6a860",
   "metadata": {
    "scrolled": true
   },
   "outputs": [],
   "source": [
    "def get_stacks(stacks,n_col):\n",
    "    st = {i+1:[] for i in range(n_col) }\n",
    "\n",
    "    for l in stacks.split(\"\\n\") :\n",
    "        for i in range(n_col) :\n",
    "            letter = l[i*4 + 1]\n",
    "            if letter != \" \" :\n",
    "                st[i+1].append(letter)\n",
    "    return st"
   ]
  },
  {
   "cell_type": "code",
   "execution_count": 98,
   "id": "d8add49c",
   "metadata": {},
   "outputs": [
    {
     "data": {
      "text/plain": [
       "{1: ['N', 'Z', '1'], 2: ['D', 'C', 'M', '2'], 3: ['P', '3']}"
      ]
     },
     "execution_count": 98,
     "metadata": {},
     "output_type": "execute_result"
    }
   ],
   "source": [
    "st = get_stacks(stacks,n_col)\n",
    "st"
   ]
  },
  {
   "cell_type": "code",
   "execution_count": null,
   "id": "c956c05f",
   "metadata": {},
   "outputs": [],
   "source": []
  },
  {
   "cell_type": "code",
   "execution_count": 90,
   "id": "bcd7e254",
   "metadata": {},
   "outputs": [],
   "source": [
    "def evolv_stacks(st,move):\n",
    "    m = re.search(\"move (?P<Ncrates>\\d*) from (?P<startS>\\d*) to (?P<endS>\\d*)\",move)\n",
    "    Ncrates = int(m.group(\"Ncrates\"))\n",
    "    startS = int(m.group(\"startS\"))\n",
    "    endS = int(m.group(\"endS\"))\n",
    "    for i in range(Ncrates) :\n",
    "        letter = st[startS].pop(0)\n",
    "        st[endS].insert(0,letter)\n",
    "    return st"
   ]
  },
  {
   "cell_type": "code",
   "execution_count": 95,
   "id": "eacb3fa4",
   "metadata": {
    "scrolled": true
   },
   "outputs": [],
   "source": [
    "for move in moves.split(\"\\n\") :\n",
    "    if move == \"\":\n",
    "        continue\n",
    "    st = evolv_stacks(st,move)\n",
    "#     print(move)\n",
    "#     print(st)"
   ]
  },
  {
   "cell_type": "code",
   "execution_count": null,
   "id": "307a9efa",
   "metadata": {},
   "outputs": [],
   "source": []
  },
  {
   "cell_type": "code",
   "execution_count": 96,
   "id": "355d1f08",
   "metadata": {},
   "outputs": [
    {
     "data": {
      "text/plain": [
       "'TQRFCBSJJ'"
      ]
     },
     "execution_count": 96,
     "metadata": {},
     "output_type": "execute_result"
    }
   ],
   "source": [
    "res = ''\n",
    "for i in range(n_col):\n",
    "    res += st[i+1][0]\n",
    "res"
   ]
  },
  {
   "cell_type": "code",
   "execution_count": null,
   "id": "8890ee27",
   "metadata": {},
   "outputs": [],
   "source": []
  },
  {
   "cell_type": "code",
   "execution_count": null,
   "id": "063df476",
   "metadata": {},
   "outputs": [],
   "source": []
  },
  {
   "cell_type": "code",
   "execution_count": 111,
   "id": "1b9f2fc8",
   "metadata": {},
   "outputs": [],
   "source": [
    "def evolv_stacks_2(st,move):\n",
    "    m = re.search(\"move (?P<Ncrates>\\d*) from (?P<startS>\\d*) to (?P<endS>\\d*)\",move)\n",
    "    Ncrates = int(m.group(\"Ncrates\"))\n",
    "    startS = int(m.group(\"startS\"))\n",
    "    endS = int(m.group(\"endS\"))\n",
    "    letters = st[startS][0:Ncrates]\n",
    "    st[startS] = st[startS][Ncrates:]\n",
    "    letters.extend(st[endS])\n",
    "    st[endS] = letters\n",
    "    return st"
   ]
  },
  {
   "cell_type": "code",
   "execution_count": 116,
   "id": "928b974f",
   "metadata": {},
   "outputs": [
    {
     "data": {
      "text/plain": [
       "{1: ['H', 'L', 'R', 'F', 'B', 'C', 'J', 'M', '1'],\n",
       " 2: ['D', 'C', 'Z', '2'],\n",
       " 3: ['W', 'G', 'N', 'C', 'F', 'J', 'H', '3'],\n",
       " 4: ['B', 'S', 'T', 'M', 'D', 'J', 'P', '4'],\n",
       " 5: ['J', 'R', 'D', 'C', 'N', '5'],\n",
       " 6: ['Z', 'G', 'J', 'P', 'Q', 'D', 'L', 'W', '6'],\n",
       " 7: ['H', 'R', 'F', 'T', 'Z', 'P', '7'],\n",
       " 8: ['G', 'M', 'V', 'L', '8'],\n",
       " 9: ['J', 'R', 'Q', 'F', 'P', 'G', 'B', 'C', '9']}"
      ]
     },
     "execution_count": 116,
     "metadata": {},
     "output_type": "execute_result"
    }
   ],
   "source": [
    "st = get_stacks(stacks,n_col)\n",
    "st"
   ]
  },
  {
   "cell_type": "code",
   "execution_count": 117,
   "id": "f8cc6d77",
   "metadata": {},
   "outputs": [],
   "source": [
    "for move in moves.split(\"\\n\") :\n",
    "    if move == \"\":\n",
    "        continue\n",
    "    st = evolv_stacks_2(st,move)"
   ]
  },
  {
   "cell_type": "code",
   "execution_count": 118,
   "id": "803a1479",
   "metadata": {},
   "outputs": [
    {
     "data": {
      "text/plain": [
       "'RMHFJNVFP'"
      ]
     },
     "execution_count": 118,
     "metadata": {},
     "output_type": "execute_result"
    }
   ],
   "source": [
    "res = ''\n",
    "for i in range(n_col):\n",
    "    res += st[i+1][0]\n",
    "res"
   ]
  },
  {
   "cell_type": "code",
   "execution_count": null,
   "id": "490d38e7",
   "metadata": {},
   "outputs": [],
   "source": []
  },
  {
   "cell_type": "code",
   "execution_count": null,
   "id": "b4e1e6d8",
   "metadata": {},
   "outputs": [],
   "source": []
  },
  {
   "cell_type": "code",
   "execution_count": null,
   "id": "29079e44",
   "metadata": {},
   "outputs": [],
   "source": []
  },
  {
   "cell_type": "code",
   "execution_count": null,
   "id": "9970bef2",
   "metadata": {},
   "outputs": [],
   "source": []
  },
  {
   "cell_type": "code",
   "execution_count": null,
   "id": "20341388",
   "metadata": {},
   "outputs": [],
   "source": []
  },
  {
   "cell_type": "code",
   "execution_count": 99,
   "id": "4737be9a",
   "metadata": {},
   "outputs": [],
   "source": [
    "move = moves.split(\"\\n\")[0]\n",
    "st = evolv_stacks(st,move)\n",
    "move = moves.split(\"\\n\")[1]\n"
   ]
  },
  {
   "cell_type": "code",
   "execution_count": 100,
   "id": "bae59b07",
   "metadata": {},
   "outputs": [
    {
     "data": {
      "text/plain": [
       "{1: ['D', 'N', 'Z', '1'], 2: ['C', 'M', '2'], 3: ['P', '3']}"
      ]
     },
     "execution_count": 100,
     "metadata": {},
     "output_type": "execute_result"
    }
   ],
   "source": [
    "st"
   ]
  },
  {
   "cell_type": "code",
   "execution_count": 101,
   "id": "9ac418fb",
   "metadata": {},
   "outputs": [
    {
     "data": {
      "text/plain": [
       "'move 3 from 1 to 3'"
      ]
     },
     "execution_count": 101,
     "metadata": {},
     "output_type": "execute_result"
    }
   ],
   "source": [
    "move"
   ]
  },
  {
   "cell_type": "code",
   "execution_count": 102,
   "id": "2e280325",
   "metadata": {},
   "outputs": [],
   "source": [
    "\n",
    "m = re.search(\"move (?P<Ncrates>\\d*) from (?P<startS>\\d*) to (?P<endS>\\d*)\",move)\n",
    "Ncrates = int(m.group(\"Ncrates\"))\n",
    "startS = int(m.group(\"startS\"))\n",
    "endS = int(m.group(\"endS\"))"
   ]
  },
  {
   "cell_type": "code",
   "execution_count": 110,
   "id": "6228db63",
   "metadata": {},
   "outputs": [
    {
     "data": {
      "text/plain": [
       "{1: ['1'], 2: ['C', 'M', '2'], 3: ['D', 'N', 'Z', 'P', '3']}"
      ]
     },
     "execution_count": 110,
     "metadata": {},
     "output_type": "execute_result"
    }
   ],
   "source": []
  },
  {
   "cell_type": "code",
   "execution_count": 108,
   "id": "755373b9",
   "metadata": {},
   "outputs": [],
   "source": [
    "letters.extend(st[endS])"
   ]
  },
  {
   "cell_type": "code",
   "execution_count": 109,
   "id": "1306318a",
   "metadata": {},
   "outputs": [
    {
     "data": {
      "text/plain": [
       "['D', 'N', 'Z', 'P', '3']"
      ]
     },
     "execution_count": 109,
     "metadata": {},
     "output_type": "execute_result"
    }
   ],
   "source": [
    "letters"
   ]
  },
  {
   "cell_type": "code",
   "execution_count": null,
   "id": "a4c04a48",
   "metadata": {},
   "outputs": [],
   "source": []
  }
 ],
 "metadata": {
  "kernelspec": {
   "display_name": "Python 3 (ipykernel)",
   "language": "python",
   "name": "python3"
  },
  "language_info": {
   "codemirror_mode": {
    "name": "ipython",
    "version": 3
   },
   "file_extension": ".py",
   "mimetype": "text/x-python",
   "name": "python",
   "nbconvert_exporter": "python",
   "pygments_lexer": "ipython3",
   "version": "3.9.13"
  }
 },
 "nbformat": 4,
 "nbformat_minor": 5
}
