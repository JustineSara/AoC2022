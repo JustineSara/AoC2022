{
 "cells": [
  {
   "cell_type": "code",
   "execution_count": null,
   "id": "fd5a6d73",
   "metadata": {},
   "outputs": [],
   "source": []
  },
  {
   "cell_type": "code",
   "execution_count": 7,
   "id": "c579f2a1",
   "metadata": {},
   "outputs": [],
   "source": [
    "long_test_input = \"\"\"addx 15\n",
    "addx -11\n",
    "addx 6\n",
    "addx -3\n",
    "addx 5\n",
    "addx -1\n",
    "addx -8\n",
    "addx 13\n",
    "addx 4\n",
    "noop\n",
    "addx -1\n",
    "addx 5\n",
    "addx -1\n",
    "addx 5\n",
    "addx -1\n",
    "addx 5\n",
    "addx -1\n",
    "addx 5\n",
    "addx -1\n",
    "addx -35\n",
    "addx 1\n",
    "addx 24\n",
    "addx -19\n",
    "addx 1\n",
    "addx 16\n",
    "addx -11\n",
    "noop\n",
    "noop\n",
    "addx 21\n",
    "addx -15\n",
    "noop\n",
    "noop\n",
    "addx -3\n",
    "addx 9\n",
    "addx 1\n",
    "addx -3\n",
    "addx 8\n",
    "addx 1\n",
    "addx 5\n",
    "noop\n",
    "noop\n",
    "noop\n",
    "noop\n",
    "noop\n",
    "addx -36\n",
    "noop\n",
    "addx 1\n",
    "addx 7\n",
    "noop\n",
    "noop\n",
    "noop\n",
    "addx 2\n",
    "addx 6\n",
    "noop\n",
    "noop\n",
    "noop\n",
    "noop\n",
    "noop\n",
    "addx 1\n",
    "noop\n",
    "noop\n",
    "addx 7\n",
    "addx 1\n",
    "noop\n",
    "addx -13\n",
    "addx 13\n",
    "addx 7\n",
    "noop\n",
    "addx 1\n",
    "addx -33\n",
    "noop\n",
    "noop\n",
    "noop\n",
    "addx 2\n",
    "noop\n",
    "noop\n",
    "noop\n",
    "addx 8\n",
    "noop\n",
    "addx -1\n",
    "addx 2\n",
    "addx 1\n",
    "noop\n",
    "addx 17\n",
    "addx -9\n",
    "addx 1\n",
    "addx 1\n",
    "addx -3\n",
    "addx 11\n",
    "noop\n",
    "noop\n",
    "addx 1\n",
    "noop\n",
    "addx 1\n",
    "noop\n",
    "noop\n",
    "addx -13\n",
    "addx -19\n",
    "addx 1\n",
    "addx 3\n",
    "addx 26\n",
    "addx -30\n",
    "addx 12\n",
    "addx -1\n",
    "addx 3\n",
    "addx 1\n",
    "noop\n",
    "noop\n",
    "noop\n",
    "addx -9\n",
    "addx 18\n",
    "addx 1\n",
    "addx 2\n",
    "noop\n",
    "noop\n",
    "addx 9\n",
    "noop\n",
    "noop\n",
    "noop\n",
    "addx -1\n",
    "addx 2\n",
    "addx -37\n",
    "addx 1\n",
    "addx 3\n",
    "noop\n",
    "addx 15\n",
    "addx -21\n",
    "addx 22\n",
    "addx -6\n",
    "addx 1\n",
    "noop\n",
    "addx 2\n",
    "addx 1\n",
    "noop\n",
    "addx -10\n",
    "noop\n",
    "noop\n",
    "addx 20\n",
    "addx 1\n",
    "addx 2\n",
    "addx 2\n",
    "addx -6\n",
    "addx -11\n",
    "noop\n",
    "noop\n",
    "noop\"\"\""
   ]
  },
  {
   "cell_type": "code",
   "execution_count": 8,
   "id": "0e599d37",
   "metadata": {},
   "outputs": [],
   "source": [
    "test_input = \"\"\"noop\n",
    "addx 3\n",
    "addx -5\"\"\""
   ]
  },
  {
   "cell_type": "code",
   "execution_count": 2,
   "id": "32ba4129",
   "metadata": {},
   "outputs": [],
   "source": [
    "import requests\n",
    "\n",
    "URL = \"https://adventofcode.com/{year}/day/{day}/input\"\n",
    "url = URL.format(year='2022', day=10)\n",
    "cookies = {\"session\":\"53616c7465645f5fd345d8c12076a357c8d31b2c0c4ad1c152eefbd5c1cf09e0c8d6d7f657fc558887d443d2d07fbc90728ada9b6a91afcecb9926ffb4981a93\"}\n",
    "req = requests.get(url, cookies=cookies)\n",
    "\n",
    "if req.status_code != 200:\n",
    "    print(\"Error. Got status:\", req.status_code)\n",
    "    print(req.text)\n",
    "    exit(3)\n",
    "else:\n",
    "    my_input = req.text"
   ]
  },
  {
   "cell_type": "code",
   "execution_count": null,
   "id": "8181e512",
   "metadata": {},
   "outputs": [],
   "source": []
  },
  {
   "cell_type": "code",
   "execution_count": 9,
   "id": "a7690fa0",
   "metadata": {},
   "outputs": [],
   "source": [
    "this_input = test_input"
   ]
  },
  {
   "cell_type": "code",
   "execution_count": 14,
   "id": "61f47a1a",
   "metadata": {},
   "outputs": [],
   "source": [
    "def get_signal_values(this_input):\n",
    "    values = [1,1]\n",
    "    for l in this_input.split(\"\\n\"):\n",
    "        if l == \"\":\n",
    "            continue\n",
    "        last_v = values[-1]\n",
    "        if l == \"noop\" :\n",
    "            values.append(last_v)\n",
    "        else :\n",
    "            [instruction , v] = l.split(\" \")\n",
    "            v = int(v)\n",
    "            values.append(last_v)\n",
    "            values.append(last_v+v)\n",
    "    return values\n"
   ]
  },
  {
   "cell_type": "code",
   "execution_count": 15,
   "id": "31596dd3",
   "metadata": {},
   "outputs": [
    {
     "data": {
      "text/plain": [
       "[1, 1, 1, 1, 4, 4, -1]"
      ]
     },
     "execution_count": 15,
     "metadata": {},
     "output_type": "execute_result"
    }
   ],
   "source": [
    "values = get_signal_values(test_input)\n",
    "values"
   ]
  },
  {
   "cell_type": "code",
   "execution_count": 22,
   "id": "5129c935",
   "metadata": {},
   "outputs": [
    {
     "data": {
      "text/plain": [
       "13140"
      ]
     },
     "execution_count": 22,
     "metadata": {},
     "output_type": "execute_result"
    }
   ],
   "source": [
    "values = get_signal_values(long_test_input)\n",
    "\n",
    "res_sum = 0 \n",
    "for i in [20,60,100,140,180,220]:\n",
    "    res_sum += values[i]*i\n",
    "res_sum"
   ]
  },
  {
   "cell_type": "code",
   "execution_count": 23,
   "id": "e226e265",
   "metadata": {},
   "outputs": [
    {
     "data": {
      "text/plain": [
       "15220"
      ]
     },
     "execution_count": 23,
     "metadata": {},
     "output_type": "execute_result"
    }
   ],
   "source": [
    "values = get_signal_values(my_input)\n",
    "\n",
    "res_sum = 0 \n",
    "for i in [20,60,100,140,180,220]:\n",
    "    res_sum += values[i]*i\n",
    "res_sum"
   ]
  },
  {
   "cell_type": "code",
   "execution_count": null,
   "id": "f869f31c",
   "metadata": {
    "scrolled": true
   },
   "outputs": [],
   "source": []
  },
  {
   "cell_type": "code",
   "execution_count": 27,
   "id": "cdd54780",
   "metadata": {},
   "outputs": [],
   "source": [
    "values = get_signal_values(long_test_input)"
   ]
  },
  {
   "cell_type": "code",
   "execution_count": 33,
   "id": "3cd5d9e4",
   "metadata": {
    "scrolled": false
   },
   "outputs": [],
   "source": [
    "values = get_signal_values(my_input)"
   ]
  },
  {
   "cell_type": "code",
   "execution_count": 34,
   "id": "e6955a7e",
   "metadata": {},
   "outputs": [
    {
     "name": "stdout",
     "output_type": "stream",
     "text": [
      "###..####.####.####.#..#.###..####..##..\n",
      "#..#.#.......#.#....#.#..#..#.#....#..#.\n",
      "#..#.###....#..###..##...###..###..#..#.\n",
      "###..#.....#...#....#.#..#..#.#....####.\n",
      "#.#..#....#....#....#.#..#..#.#....#..#.\n",
      "#..#.#....####.####.#..#.###..#....#..#.\n",
      "\n"
     ]
    }
   ],
   "source": [
    "screen = \"\"\n",
    "for i0 in range(6) :\n",
    "    for i1 in range(40) :\n",
    "        cycle =  i0*40 + i1 + 1\n",
    "        v = values[cycle]\n",
    "        sprite = [v-1,v,v+1]\n",
    "        cursor = i1\n",
    "        if cursor in sprite :\n",
    "            screen += \"#\"\n",
    "        else :\n",
    "            screen += \".\"\n",
    "#         print(i0,i1,cycle,v)\n",
    "    screen += \"\\n\"\n",
    "print(screen)"
   ]
  },
  {
   "cell_type": "code",
   "execution_count": null,
   "id": "668dd4e5",
   "metadata": {},
   "outputs": [],
   "source": [
    "RFZEKBFA"
   ]
  },
  {
   "cell_type": "code",
   "execution_count": null,
   "id": "a371df69",
   "metadata": {},
   "outputs": [],
   "source": []
  }
 ],
 "metadata": {
  "kernelspec": {
   "display_name": "Python 3 (ipykernel)",
   "language": "python",
   "name": "python3"
  },
  "language_info": {
   "codemirror_mode": {
    "name": "ipython",
    "version": 3
   },
   "file_extension": ".py",
   "mimetype": "text/x-python",
   "name": "python",
   "nbconvert_exporter": "python",
   "pygments_lexer": "ipython3",
   "version": "3.10.2"
  }
 },
 "nbformat": 4,
 "nbformat_minor": 5
}
