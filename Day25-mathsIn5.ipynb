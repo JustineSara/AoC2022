{
 "cells": [
  {
   "cell_type": "code",
   "execution_count": null,
   "id": "90ded9c3",
   "metadata": {},
   "outputs": [],
   "source": []
  },
  {
   "cell_type": "code",
   "execution_count": 1,
   "id": "12975303",
   "metadata": {},
   "outputs": [],
   "source": [
    "test_input = \"\"\"1=-0-2\n",
    "12111\n",
    "2=0=\n",
    "21\n",
    "2=01\n",
    "111\n",
    "20012\n",
    "112\n",
    "1=-1=\n",
    "1-12\n",
    "12\n",
    "1=\n",
    "122\"\"\""
   ]
  },
  {
   "cell_type": "code",
   "execution_count": 46,
   "id": "cbd21fbb",
   "metadata": {},
   "outputs": [],
   "source": [
    "import requests\n",
    "\n",
    "URL = \"https://adventofcode.com/{year}/day/{day}/input\"\n",
    "url = URL.format(year='2022', day=25)\n",
    "cookies = {\"session\":\"53616c7465645f5fd345d8c12076a357c8d31b2c0c4ad1c152eefbd5c1cf09e0c8d6d7f657fc558887d443d2d07fbc90728ada9b6a91afcecb9926ffb4981a93\"}\n",
    "req = requests.get(url, cookies=cookies)\n",
    "\n",
    "if req.status_code != 200:\n",
    "    print(\"Error. Got status:\", req.status_code)\n",
    "    print(req.text)\n",
    "    exit(3)\n",
    "else:\n",
    "    my_input = req.text"
   ]
  },
  {
   "cell_type": "code",
   "execution_count": null,
   "id": "f5dbc22b",
   "metadata": {},
   "outputs": [],
   "source": []
  },
  {
   "cell_type": "code",
   "execution_count": 4,
   "id": "bc191cca",
   "metadata": {},
   "outputs": [],
   "source": [
    "def str_to_num(s) :\n",
    "    if s == \"-\" :\n",
    "        return -1\n",
    "    elif s == \"=\":\n",
    "        return -2\n",
    "    else :\n",
    "        return int(s)"
   ]
  },
  {
   "cell_type": "code",
   "execution_count": 5,
   "id": "3284e6b2",
   "metadata": {},
   "outputs": [],
   "source": [
    "def num_to_str(n) :\n",
    "    if n == -1 :\n",
    "        return \"-\"\n",
    "    elif n == -2 :\n",
    "        return \"=\"\n",
    "    else :\n",
    "        return str(n)"
   ]
  },
  {
   "cell_type": "code",
   "execution_count": 44,
   "id": "5c35bf76",
   "metadata": {},
   "outputs": [],
   "source": [
    "def sum_in5(a,b) :\n",
    "    \n",
    "    s = []\n",
    "    r = 0\n",
    "    \n",
    "    i = 0\n",
    "    \n",
    "    a = list(a)\n",
    "    b = list(b)\n",
    "    \n",
    "    while len(a)>0 or len(b)>0 :\n",
    "        \n",
    "        \n",
    "        if len(a) > 0:\n",
    "            aa = str_to_num(a.pop(-1))\n",
    "        else :\n",
    "            aa = 0\n",
    "        if len(b) > 0:\n",
    "            bb =  str_to_num(b.pop(-1))\n",
    "        else : \n",
    "            bb = 0\n",
    "        \n",
    "#         print(aa,bb,r)\n",
    "        nn = aa + bb + r\n",
    "        \n",
    "        if nn == 4 :\n",
    "            r = 1\n",
    "            s.insert(0,\"-\")\n",
    "        elif nn == 3 :\n",
    "            r = 1\n",
    "            s.insert(0,\"=\")\n",
    "        elif nn == -3 :\n",
    "            r = -1\n",
    "            s.insert(0,\"2\")\n",
    "        elif nn == -4 :\n",
    "            r = -1\n",
    "            s.insert(0,\"1\")\n",
    "        elif nn == 5 :\n",
    "            r = 1\n",
    "            s.insert(0,\"0\")\n",
    "        elif nn == -5 :\n",
    "            r = -1\n",
    "            s.insert(0,\"0\")\n",
    "        else :\n",
    "            r = 0\n",
    "            s.insert(0,num_to_str(nn))\n",
    "    \n",
    "    if r != 0 :\n",
    "        s.insert(0,num_to_str(r))\n",
    "    \n",
    "    return \"\".join(s)"
   ]
  },
  {
   "cell_type": "code",
   "execution_count": 42,
   "id": "fbebc46c",
   "metadata": {},
   "outputs": [
    {
     "name": "stdout",
     "output_type": "stream",
     "text": [
      "2 1 0\n",
      "-1 1 1\n",
      "0 1 0\n",
      "-1 2 0\n",
      "-2 1 0\n",
      "1 0 0\n"
     ]
    },
    {
     "data": {
      "text/plain": [
       "'1-111='"
      ]
     },
     "execution_count": 42,
     "metadata": {},
     "output_type": "execute_result"
    }
   ],
   "source": [
    "# 1=-0-2\n",
    "#  12111\n",
    "# 1-111=\n",
    "\n",
    "SNAFU_to_DEC(\"1-111=\") # this is correct - my function is wrong\n",
    "\n",
    "sum_in5(\"1=-0-2\",\"12111\")"
   ]
  },
  {
   "cell_type": "code",
   "execution_count": 34,
   "id": "480ed539",
   "metadata": {},
   "outputs": [],
   "source": [
    "def SNAFU_to_DEC(s) :\n",
    "    \n",
    "    s = list(s)\n",
    "    \n",
    "    d = 0\n",
    "    \n",
    "    p = 0\n",
    "    \n",
    "    \n",
    "    while len(s) > 0 :\n",
    "        \n",
    "        n = str_to_num(s.pop(-1))\n",
    "        \n",
    "        d += n * (5**p)\n",
    "        \n",
    "        p += 1\n",
    "    \n",
    "    return d"
   ]
  },
  {
   "cell_type": "code",
   "execution_count": null,
   "id": "7f0f140f",
   "metadata": {},
   "outputs": [],
   "source": []
  },
  {
   "cell_type": "code",
   "execution_count": null,
   "id": "73dd6983",
   "metadata": {},
   "outputs": [],
   "source": []
  },
  {
   "cell_type": "code",
   "execution_count": 45,
   "id": "7989b707",
   "metadata": {},
   "outputs": [
    {
     "name": "stdout",
     "output_type": "stream",
     "text": [
      "2=-1=0\n"
     ]
    }
   ],
   "source": [
    "\n",
    "N = \"0\"\n",
    "# N is built backwards : with units first and so on\n",
    "# N is numbers and will do the translation back to symbols later\n",
    "\n",
    "for l in test_input.split(\"\\n\") :\n",
    "    \n",
    "    if l == \"\":\n",
    "        continue\n",
    "    \n",
    "    N = sum_in5(N,l)\n",
    "    \n",
    "#     print(l,\"\\t\",SNAFU_to_DEC(l))\n",
    "    \n",
    "#     print(\"\\t\",N,\"\\t\",SNAFU_to_DEC(N))\n",
    "        \n",
    "        \n",
    "print(N)        \n",
    "    "
   ]
  },
  {
   "cell_type": "code",
   "execution_count": null,
   "id": "e6aa18cd",
   "metadata": {},
   "outputs": [],
   "source": []
  },
  {
   "cell_type": "code",
   "execution_count": null,
   "id": "61006060",
   "metadata": {},
   "outputs": [],
   "source": []
  },
  {
   "cell_type": "code",
   "execution_count": 48,
   "id": "3f681c0e",
   "metadata": {},
   "outputs": [
    {
     "name": "stdout",
     "output_type": "stream",
     "text": [
      "2==221=-002=0-02-000\n"
     ]
    }
   ],
   "source": [
    "\n",
    "N = \"0\"\n",
    "# N is built backwards : with units first and so on\n",
    "# N is numbers and will do the translation back to symbols later\n",
    "\n",
    "for l in my_input.split(\"\\n\") :\n",
    "    \n",
    "    if l == \"\":\n",
    "        continue\n",
    "    \n",
    "    N = sum_in5(N,l)\n",
    "    \n",
    "#     print(l,\"\\t\",SNAFU_to_DEC(l))\n",
    "    \n",
    "#     print(\"\\t\",N,\"\\t\",SNAFU_to_DEC(N))\n",
    "        \n",
    "        \n",
    "print(N)        \n",
    "    "
   ]
  },
  {
   "cell_type": "code",
   "execution_count": null,
   "id": "e35b3152",
   "metadata": {},
   "outputs": [],
   "source": []
  }
 ],
 "metadata": {
  "kernelspec": {
   "display_name": "Python 3 (ipykernel)",
   "language": "python",
   "name": "python3"
  },
  "language_info": {
   "codemirror_mode": {
    "name": "ipython",
    "version": 3
   },
   "file_extension": ".py",
   "mimetype": "text/x-python",
   "name": "python",
   "nbconvert_exporter": "python",
   "pygments_lexer": "ipython3",
   "version": "3.10.2"
  }
 },
 "nbformat": 4,
 "nbformat_minor": 5
}
