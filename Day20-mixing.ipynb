{
 "cells": [
  {
   "cell_type": "code",
   "execution_count": 80,
   "id": "843cdec6",
   "metadata": {},
   "outputs": [],
   "source": [
    "import time"
   ]
  },
  {
   "cell_type": "code",
   "execution_count": 2,
   "id": "93c8de45",
   "metadata": {},
   "outputs": [],
   "source": [
    "test_input = \"\"\"1\n",
    "2\n",
    "-3\n",
    "3\n",
    "-2\n",
    "0\n",
    "4\"\"\""
   ]
  },
  {
   "cell_type": "code",
   "execution_count": 1,
   "id": "5721d2f5",
   "metadata": {},
   "outputs": [],
   "source": [
    "import requests\n",
    "\n",
    "URL = \"https://adventofcode.com/{year}/day/{day}/input\"\n",
    "url = URL.format(year='2022', day=20)\n",
    "cookies = {\"session\":\"53616c7465645f5fd345d8c12076a357c8d31b2c0c4ad1c152eefbd5c1cf09e0c8d6d7f657fc558887d443d2d07fbc90728ada9b6a91afcecb9926ffb4981a93\"}\n",
    "req = requests.get(url, cookies=cookies)\n",
    "\n",
    "if req.status_code != 200:\n",
    "    print(\"Error. Got status:\", req.status_code)\n",
    "    print(req.text)\n",
    "    exit(3)\n",
    "else:\n",
    "    my_input = req.text"
   ]
  },
  {
   "cell_type": "code",
   "execution_count": null,
   "id": "608d08b9",
   "metadata": {},
   "outputs": [],
   "source": []
  },
  {
   "cell_type": "code",
   "execution_count": 79,
   "id": "7a571bf0",
   "metadata": {},
   "outputs": [],
   "source": [
    "init_list = []\n",
    "for l in test_input.split(\"\\n\"):\n",
    "    if l==\"\":\n",
    "        continue\n",
    "    init_list.append(int(l))"
   ]
  },
  {
   "cell_type": "code",
   "execution_count": 85,
   "id": "475bf824",
   "metadata": {},
   "outputs": [],
   "source": [
    "init_list = []\n",
    "for l in my_input.split(\"\\n\"):\n",
    "    if l==\"\":\n",
    "        continue\n",
    "    init_list.append(int(l))"
   ]
  },
  {
   "cell_type": "raw",
   "id": "230dcdb2",
   "metadata": {},
   "source": [
    "numbers are not unique"
   ]
  },
  {
   "cell_type": "code",
   "execution_count": null,
   "id": "0befeb6b",
   "metadata": {},
   "outputs": [],
   "source": []
  },
  {
   "cell_type": "code",
   "execution_count": 13,
   "id": "d5222312",
   "metadata": {},
   "outputs": [
    {
     "data": {
      "text/plain": [
       "[1, 2, -3, 3, -2, 0, 4]"
      ]
     },
     "execution_count": 13,
     "metadata": {},
     "output_type": "execute_result"
    }
   ],
   "source": [
    "init_list"
   ]
  },
  {
   "cell_type": "code",
   "execution_count": 47,
   "id": "606e5398",
   "metadata": {},
   "outputs": [],
   "source": [
    "def get_idx(i, llist) :\n",
    "    if i < llist and i >= 0 :\n",
    "        return i\n",
    "    else : #if i >= llist :\n",
    "         return i % (llist-1)\n",
    "#     elif i <= 0 :\n",
    "#         return "
   ]
  },
  {
   "cell_type": "code",
   "execution_count": 56,
   "id": "6598901e",
   "metadata": {},
   "outputs": [
    {
     "data": {
      "text/plain": [
       "2"
      ]
     },
     "execution_count": 56,
     "metadata": {},
     "output_type": "execute_result"
    }
   ],
   "source": [
    "get_idx(2,7)"
   ]
  },
  {
   "cell_type": "code",
   "execution_count": 77,
   "id": "5f8b017f",
   "metadata": {},
   "outputs": [],
   "source": [
    "\n",
    "indices = [i for i in range(len(init_list))]\n",
    "mixing_list = init_list.copy()\n",
    "\n",
    "for i in range(len(init_list)) :\n",
    "    \n",
    "    idx = indices.index(i)\n",
    "    \n",
    "    im = indices.pop(idx)\n",
    "    nm = mixing_list.pop(idx)\n",
    "    \n",
    "#     if idx + nm < 0 :\n",
    "#         new_idx = ( idx + nm ) % len(init_list) -1\n",
    "#     else :\n",
    "#         new_idx = ( idx + nm ) % len(init_list)\n",
    "    \n",
    "    new_idx = get_idx(idx + nm , len(init_list))\n",
    "    \n",
    "    indices.insert(new_idx,im)\n",
    "    mixing_list.insert(new_idx,nm)\n",
    "    \n",
    "#     print(i,nm,idx,new_idx,\"\\t\",mixing_list)"
   ]
  },
  {
   "cell_type": "code",
   "execution_count": 78,
   "id": "49282a98",
   "metadata": {},
   "outputs": [
    {
     "data": {
      "text/plain": [
       "8302"
      ]
     },
     "execution_count": 78,
     "metadata": {},
     "output_type": "execute_result"
    }
   ],
   "source": [
    "idx0 = mixing_list.index(0)\n",
    "mixing_list[(idx0+1000)%len(mixing_list)] + mixing_list[(idx0+2000)%len(mixing_list)] + mixing_list[(idx0+3000)%len(mixing_list)]"
   ]
  },
  {
   "cell_type": "code",
   "execution_count": null,
   "id": "1d4e6097",
   "metadata": {},
   "outputs": [],
   "source": []
  },
  {
   "cell_type": "code",
   "execution_count": null,
   "id": "974ea14f",
   "metadata": {},
   "outputs": [],
   "source": []
  },
  {
   "cell_type": "code",
   "execution_count": null,
   "id": "e3d2151c",
   "metadata": {},
   "outputs": [],
   "source": []
  },
  {
   "cell_type": "code",
   "execution_count": 86,
   "id": "75ce9520",
   "metadata": {},
   "outputs": [
    {
     "name": "stdout",
     "output_type": "stream",
     "text": [
      "0 0.1951234000007389\n",
      "1 0.2562731999933021\n",
      "2 0.2060192999924766\n",
      "3 0.20732639999187086\n",
      "4 0.19612320000305772\n",
      "5 0.17368639999767765\n",
      "6 0.23664119999739341\n",
      "7 0.16619459999492392\n",
      "8 0.19428999999945518\n",
      "9 0.18025849999685306\n"
     ]
    }
   ],
   "source": [
    "\n",
    "indices = [i for i in range(len(init_list))]\n",
    "mixing_list = init_list.copy()\n",
    "\n",
    "mixing_list = [mixing_list[i]*811589153 for i in range(len(mixing_list))]\n",
    "\n",
    "for ii in range(10) :\n",
    "    \n",
    "    st = time.perf_counter()\n",
    "    for i in range(len(init_list)) :\n",
    "\n",
    "        idx = indices.index(i)\n",
    "\n",
    "        im = indices.pop(idx)\n",
    "        nm = mixing_list.pop(idx)\n",
    "\n",
    "    #     if idx + nm < 0 :\n",
    "    #         new_idx = ( idx + nm ) % len(init_list) -1\n",
    "    #     else :\n",
    "    #         new_idx = ( idx + nm ) % len(init_list)\n",
    "\n",
    "        new_idx = get_idx(idx + nm , len(init_list))\n",
    "\n",
    "        indices.insert(new_idx,im)\n",
    "        mixing_list.insert(new_idx,nm)\n",
    "\n",
    "    print(ii, time.perf_counter()-st)\n",
    "#     print(i,nm,idx,new_idx,\"\\t\",mixing_list)"
   ]
  },
  {
   "cell_type": "code",
   "execution_count": 87,
   "id": "b0b53be8",
   "metadata": {},
   "outputs": [
    {
     "data": {
      "text/plain": [
       "656575624777"
      ]
     },
     "execution_count": 87,
     "metadata": {},
     "output_type": "execute_result"
    }
   ],
   "source": [
    "idx0 = mixing_list.index(0)\n",
    "mixing_list[(idx0+1000)%len(mixing_list)] + mixing_list[(idx0+2000)%len(mixing_list)] + mixing_list[(idx0+3000)%len(mixing_list)]"
   ]
  },
  {
   "cell_type": "code",
   "execution_count": null,
   "id": "b155d916",
   "metadata": {},
   "outputs": [],
   "source": []
  }
 ],
 "metadata": {
  "kernelspec": {
   "display_name": "Python 3 (ipykernel)",
   "language": "python",
   "name": "python3"
  },
  "language_info": {
   "codemirror_mode": {
    "name": "ipython",
    "version": 3
   },
   "file_extension": ".py",
   "mimetype": "text/x-python",
   "name": "python",
   "nbconvert_exporter": "python",
   "pygments_lexer": "ipython3",
   "version": "3.10.2"
  }
 },
 "nbformat": 4,
 "nbformat_minor": 5
}
