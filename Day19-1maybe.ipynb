{
 "cells": [
  {
   "cell_type": "code",
   "execution_count": 3,
   "id": "60c40991",
   "metadata": {},
   "outputs": [],
   "source": [
    "import numpy as np\n",
    "import re\n",
    "import math"
   ]
  },
  {
   "cell_type": "code",
   "execution_count": 4,
   "id": "78c1f7ce",
   "metadata": {},
   "outputs": [],
   "source": [
    "test_input = \"\"\"Blueprint 1: Each ore robot costs 4 ore. Each clay robot costs 2 ore. Each obsidian robot costs 3 ore and 14 clay. Each geode robot costs 2 ore and 7 obsidian.\n",
    "Blueprint 2: Each ore robot costs 2 ore. Each clay robot costs 3 ore. Each obsidian robot costs 3 ore and 8 clay. Each geode robot costs 3 ore and 12 obsidian.\"\"\""
   ]
  },
  {
   "cell_type": "code",
   "execution_count": 5,
   "id": "e8637c9e",
   "metadata": {},
   "outputs": [],
   "source": [
    "import requests\n",
    "\n",
    "URL = \"https://adventofcode.com/{year}/day/{day}/input\"\n",
    "url = URL.format(year='2022', day=19)\n",
    "cookies = {\"session\":\"53616c7465645f5fd345d8c12076a357c8d31b2c0c4ad1c152eefbd5c1cf09e0c8d6d7f657fc558887d443d2d07fbc90728ada9b6a91afcecb9926ffb4981a93\"}\n",
    "req = requests.get(url, cookies=cookies)\n",
    "\n",
    "if req.status_code != 200:\n",
    "    print(\"Error. Got status:\", req.status_code)\n",
    "    print(req.text)\n",
    "    exit(3)\n",
    "else:\n",
    "    my_input = req.text"
   ]
  },
  {
   "cell_type": "code",
   "execution_count": null,
   "id": "f43301bc",
   "metadata": {},
   "outputs": [],
   "source": []
  },
  {
   "cell_type": "raw",
   "id": "41a9a839",
   "metadata": {},
   "source": [
    "0 <=> ore\n",
    "1 <=> clay\n",
    "2 <=> obsidian\n",
    "3 <=> geode"
   ]
  },
  {
   "cell_type": "code",
   "execution_count": 6,
   "id": "5d9f3f51",
   "metadata": {},
   "outputs": [],
   "source": [
    "def get_blueprints(this_input):\n",
    "    blueprints = []\n",
    "    for l in this_input.split(\"\\n\"):\n",
    "        if l == \"\" :\n",
    "            continue\n",
    "        m = [int(i) for i in re.findall(\" \\d* \",l)]\n",
    "#         cost_R0 = {0:m[0]}\n",
    "#         cost_R1 = {0:m[1]}\n",
    "#         cost_R2 = {0:m[2],1:m[3]}\n",
    "#         cost_R3 = {0:m[4],2:m[5]}\n",
    "        blueprints.append(\n",
    "            [\n",
    "                [m[0],0,0,0],\n",
    "                [m[1],0,0,0],\n",
    "                [m[2],m[3],0,0],\n",
    "                [m[4],0,m[5],0]\n",
    "            ]\n",
    "        )\n",
    "    return blueprints"
   ]
  },
  {
   "cell_type": "code",
   "execution_count": 7,
   "id": "5843a57a",
   "metadata": {},
   "outputs": [],
   "source": [
    "class digging :\n",
    "    \n",
    "    def __init__(self,blueprint) :\n",
    "        \n",
    "        self.R = [1,0,0,0] # number of robots in dict or in list\n",
    "        self.M = [0,0,0,0] # number of minerals\n",
    "        self.b = blueprint\n",
    "        \n",
    "        self.verbose = True\n",
    "        \n",
    "    def factory_break_potential(self,T) :\n",
    "        return self.M[3] + T*self.R[3]\n",
    "    \n",
    "    def N_geode(self):\n",
    "        return self.M[3]\n",
    "    \n",
    "    def one_digging_step(self):\n",
    "        self.M = [self.M[i] + self.R[i] for i in range(4)]\n",
    "        return self.M\n",
    "        \n",
    "    def construction_option(self) :\n",
    "        opt = [None]\n",
    "        for i in range(4):\n",
    "            if all([self.b[i][ii]<=self.M[ii] for ii in range(4)]) :\n",
    "                opt.append(i)\n",
    "        return opt\n",
    "    \n",
    "    def buildR(self,iR):\n",
    "        if iR is not None :\n",
    "            self.R[iR] += 1\n",
    "            self.M = [self.M[i]-self.b[iR][i] for i in range(4)]\n",
    "        return self.R , self.M\n",
    "                "
   ]
  },
  {
   "cell_type": "code",
   "execution_count": null,
   "id": "5915b130",
   "metadata": {},
   "outputs": [],
   "source": []
  },
  {
   "cell_type": "code",
   "execution_count": 8,
   "id": "60968a86",
   "metadata": {},
   "outputs": [
    {
     "data": {
      "text/plain": [
       "[[4, 0, 0, 0], [2, 0, 0, 0], [3, 14, 0, 0], [2, 0, 7, 0]]"
      ]
     },
     "execution_count": 8,
     "metadata": {},
     "output_type": "execute_result"
    }
   ],
   "source": [
    "blueprints=get_blueprints(test_input)\n",
    "blueprints[0]"
   ]
  },
  {
   "cell_type": "code",
   "execution_count": null,
   "id": "a21e6cc2",
   "metadata": {},
   "outputs": [],
   "source": []
  },
  {
   "cell_type": "code",
   "execution_count": 69,
   "id": "f9d0ab63",
   "metadata": {},
   "outputs": [],
   "source": [
    "def one_digging_step(R, M):\n",
    "#     M = [M[i] + R[i] for i in range(4)]\n",
    "    return R, [M[i] + R[i] for i in range(4)]\n",
    "\n",
    "def construction_option(R, M, b) :\n",
    "    opt = [None]\n",
    "    for i in range(4):\n",
    "        if all([b[i][ii]<=M[ii] for ii in range(4)]) :\n",
    "            opt.append(i)\n",
    "    return opt\n",
    "\n",
    "def buildR(R, M, b, iR):\n",
    "#     print(iR)\n",
    "    Rn = R.copy()\n",
    "    Mn = M.copy()\n",
    "    if iR is not None :\n",
    "        Rn[iR] += 1\n",
    "        Mn = [Mn[i]-b[iR][i] for i in range(4)]\n",
    "    return Rn, Mn"
   ]
  },
  {
   "cell_type": "code",
   "execution_count": 65,
   "id": "4d9591ee",
   "metadata": {},
   "outputs": [
    {
     "data": {
      "text/plain": [
       "[[4, 0, 0, 0], [2, 0, 0, 0], [3, 14, 0, 0], [2, 0, 7, 0]]"
      ]
     },
     "execution_count": 65,
     "metadata": {},
     "output_type": "execute_result"
    }
   ],
   "source": [
    "b"
   ]
  },
  {
   "cell_type": "code",
   "execution_count": 71,
   "id": "f5e6098f",
   "metadata": {},
   "outputs": [
    {
     "data": {
      "text/plain": [
       "[None, 0, 1, 2]"
      ]
     },
     "execution_count": 71,
     "metadata": {},
     "output_type": "execute_result"
    }
   ],
   "source": [
    "construction_option([1, 3, 0, 0], [4, 15, 0, 0],b)"
   ]
  },
  {
   "cell_type": "raw",
   "id": "b13bf31f",
   "metadata": {},
   "source": [
    "9 2 0\n",
    "\t 132 132\n",
    "\t [1, 3, 0, 0] [4, 15, 0, 0] A {None, 0, 1, 2}\n",
    "\t 158 132\n",
    "\t [1, 4, 0, 0] [2, 15, 0, 0]\n",
    "\t 160 132\n",
    "\t [1, 4, 0, 0] [2, 16, 0, 0]\n",
    "10 3 0\n",
    "\t 132 504\n",
    "\t [1, 3, 0, 0] [5, 18, 0, 0] A - None\n",
    "\t 141 504\n",
    "\t [2, 3, 0, 0] [1, 18, 0, 0] A - 0\n",
    "\t 165 504\n",
    "\t [2, 4, 0, 0] [-1, 18, 0, 0] A - 1 ?!\n",
    "\t 537 504\n",
    "\t [2, 4, 1, 0] [-4, 4, 0, 0]\n",
    "\t 158 504\n",
    "\t [1, 4, 0, 0] [3, 19, 0, 0]\n",
    "\t 182 504\n",
    "\t [1, 5, 0, 0] [1, 19, 0, 0]\n",
    "\t 160 504\n",
    "\t [1, 4, 0, 0] [3, 20, 0, 0]\n",
    "\t 184 504\n",
    "\t [1, 5, 0, 0] [1, 20, 0, 0]"
   ]
  },
  {
   "cell_type": "code",
   "execution_count": null,
   "id": "3446904a",
   "metadata": {},
   "outputs": [],
   "source": []
  },
  {
   "cell_type": "code",
   "execution_count": null,
   "id": "22c4ffa2",
   "metadata": {},
   "outputs": [],
   "source": []
  },
  {
   "cell_type": "raw",
   "id": "3df16260",
   "metadata": {},
   "source": [
    "notion de frequence\n",
    "\n",
    "# if sudden infinit supply of materials to build robots \n",
    "if R[3]!=0\n",
    "max[R,M,b] = M[3] + R[3] * T!\n",
    "if R[2]!=0 :\n",
    "max[R,M,b] = (T-1)!\n",
    "if R[1]+=0 :\n",
    "max[R,M,b] = (T-2)!\n",
    "\n",
    "max is just the max robot built\n",
    "\n",
    "if max of this version < min  \n",
    "\n",
    "\n"
   ]
  },
  {
   "cell_type": "code",
   "execution_count": 79,
   "id": "9bee7d91",
   "metadata": {},
   "outputs": [
    {
     "name": "stdout",
     "output_type": "stream",
     "text": [
      "1 [1, 0, 0, 0] [1, 0, 0, 0] 2 3 inf inf 23\n",
      "2 [1, 0, 0, 0] [2, 0, 0, 0] 1 2 inf inf 23\n",
      "3 [1, 0, 0, 0] [3, 0, 0, 0] 0 1 inf inf 23\n",
      "4 [1, 1, 0, 0] [1, 0, 0, 0] 2 3 7 inf 77\n",
      "5 [1, 1, 0, 0] [2, 1, 0, 0] 1 2 6 inf 77\n",
      "6 [1, 1, 0, 0] [3, 2, 0, 0] 0 1 5 inf 77\n",
      "7 [1, 2, 0, 0] [1, 3, 0, 0] 2 3 4 inf 122\n",
      "8 [1, 2, 0, 0] [2, 5, 0, 0] 1 2 3 inf 122\n",
      "9 [2, 2, 0, 0] [1, 7, 0, 0] 2 2 2 inf 134\n",
      "10 [2, 2, 0, 0] [3, 9, 0, 0] 1 1 1 inf 134\n",
      "11 [2, 2, 1, 0] [2, 3, 0, 0] 1 2 4 9 431\n",
      "12 [2, 2, 1, 0] [4, 5, 1, 0] 0 1 3 8 431\n",
      "13 [2, 3, 1, 0] [3, 7, 2, 0] 1 1 2 7 458\n",
      "14 [3, 3, 1, 0] [3, 10, 3, 0] 1 1 1 6 465\n",
      "15 [3, 3, 2, 0] [3, 5, 4, 0] 1 1 2 5 654\n",
      "16 [3, 4, 2, 0] [3, 8, 6, 0] 1 1 1 4 672\n",
      "17 [3, 4, 3, 0] [3, 4, 8, 0] 1 1 2 3 807\n",
      "18 [3, 5, 3, 0] [3, 8, 11, 0] 1 1 1 2 819\n",
      "19 [3, 5, 4, 0] [3, 5, 14, 0] 1 1 2 1 900\n",
      "20 [3, 5, 4, 1] [3, 10, 6, 0] 1 1 1 3 1554\n",
      "21 [3, 5, 5, 1] [3, 7, 10, 1] 1 1 2 2 1581\n",
      "22 [4, 5, 5, 1] [4, 12, 15, 2] 1 1 1 1 1580\n",
      "23 [4, 5, 5, 2] [5, 17, 8, 3] 1 1 1 2 1253\n",
      "24 [4, 5, 6, 2] [6, 14, 13, 5] 0 2 2 2 1199\n",
      "0 [1, 0, 0, 0] [0, 0, 0, 0] 3 4 inf inf 24\n",
      "1 [1, 0, 0, 0] [1, 0, 0, 0] 2 3 inf inf 24\n",
      "2 [1, 0, 0, 0] [2, 0, 0, 0] 1 2 inf inf 24\n",
      "3 [2, 0, 0, 0] [1, 0, 0, 0] 2 2 inf inf 43\n",
      "4 [2, 0, 0, 0] [3, 0, 0, 0] 1 1 inf inf 43\n",
      "5 [2, 1, 0, 0] [2, 0, 0, 0] 1 2 6 inf 97\n",
      "6 [3, 1, 0, 0] [2, 1, 0, 0] 1 2 6 inf 113\n",
      "7 [4, 1, 0, 0] [3, 2, 0, 0] 1 1 5 inf 128\n",
      "8 [4, 2, 0, 0] [4, 3, 0, 0] 1 1 3 inf 173\n",
      "9 [4, 3, 0, 0] [5, 5, 0, 0] 1 1 2 inf 215\n",
      "10 [4, 4, 0, 0] [6, 8, 0, 0] 0 2 2 inf 254\n",
      "11 [4, 4, 1, 0] [7, 4, 0, 0] 0 0 2 8 578\n",
      "12 [4, 5, 1, 0] [8, 8, 1, 0] 0 0 2 8 611\n",
      "13 [4, 5, 2, 0] [9, 5, 2, 0] 0 0 2 5 881\n",
      "14 [4, 6, 2, 0] [10, 10, 4, 0] -1 2 2 5 908\n",
      "15 [4, 6, 3, 0] [11, 8, 6, 0] -1 -1 2 3 1124\n",
      "16 [4, 6, 4, 0] [12, 6, 9, 0] -1 -1 2 2 1313\n",
      "17 [4, 7, 4, 0] [13, 12, 13, 0] -1 -1 2 2 1331\n",
      "18 [4, 7, 4, 1] [14, 19, 5, 0] -2 2 2 3 2966\n",
      "19 [4, 7, 5, 1] [15, 18, 9, 1] -2 -2 2 2 3074\n",
      "20 [4, 7, 6, 1] [16, 17, 14, 2] -2 -2 2 2 3155\n",
      "21 [4, 7, 6, 2] [17, 24, 8, 3] -2 -2 2 2 3809\n",
      "22 [4, 7, 7, 2] [18, 23, 14, 5] -3 2 2 2 3836\n",
      "23 [4, 7, 7, 3] [19, 30, 9, 7] -3 -3 2 2 3836\n"
     ]
    }
   ],
   "source": [
    "ib = 1\n",
    "b = blueprints[ib]\n",
    "\n",
    "r1, V1 = get_most_geode(b)\n",
    "r2, V2 = get_most_geode_2(b)"
   ]
  },
  {
   "cell_type": "code",
   "execution_count": null,
   "id": "1f1410fd",
   "metadata": {},
   "outputs": [],
   "source": []
  },
  {
   "cell_type": "code",
   "execution_count": 80,
   "id": "cca4db63",
   "metadata": {},
   "outputs": [],
   "source": [
    "if r1 >= r2 :\n",
    "    V = V1\n",
    "else :\n",
    "    V = V2"
   ]
  },
  {
   "cell_type": "code",
   "execution_count": 84,
   "id": "a6a3472d",
   "metadata": {},
   "outputs": [],
   "source": [
    "V = [min(V1[i],V2[i]) for i in range(len(V1))]"
   ]
  },
  {
   "cell_type": "code",
   "execution_count": 85,
   "id": "977f2da0",
   "metadata": {
    "scrolled": false
   },
   "outputs": [
    {
     "name": "stdout",
     "output_type": "stream",
     "text": [
      "0 1 0\n",
      "1 1 0\n",
      "2 1 0\n",
      "3 2 0\n",
      "4 2 0\n",
      "5 2 0\n",
      "6 4 0\n",
      "7 3 0\n",
      "8 6 0\n",
      "9 15 0\n",
      "10 42 0\n",
      "11 27 0\n",
      "12 78 0\n",
      "13 232 0\n",
      "14 840 0\n",
      "15 1327 0\n",
      "16 4850 0\n",
      "17 7989 0\n",
      "18 29882 0\n"
     ]
    },
    {
     "ename": "KeyboardInterrupt",
     "evalue": "",
     "output_type": "error",
     "traceback": [
      "\u001b[1;31m---------------------------------------------------------------------------\u001b[0m",
      "\u001b[1;31mKeyboardInterrupt\u001b[0m                         Traceback (most recent call last)",
      "Input \u001b[1;32mIn [85]\u001b[0m, in \u001b[0;36m<module>\u001b[1;34m\u001b[0m\n\u001b[0;32m     25\u001b[0m             \u001b[38;5;28;01mif\u001b[39;00m Rn \u001b[38;5;129;01min\u001b[39;00m n_all_Rs:\n\u001b[0;32m     26\u001b[0m                 iir \u001b[38;5;241m=\u001b[39m n_all_Rs\u001b[38;5;241m.\u001b[39mindex(Rn)\n\u001b[1;32m---> 27\u001b[0m                 \u001b[38;5;28;01mif\u001b[39;00m \u001b[43mMn\u001b[49m\u001b[43m \u001b[49m\u001b[38;5;241;43m==\u001b[39;49m\u001b[43m \u001b[49m\u001b[43mn_all_Ms\u001b[49m\u001b[43m[\u001b[49m\u001b[43miir\u001b[49m\u001b[43m]\u001b[49m :\n\u001b[0;32m     28\u001b[0m                     \u001b[38;5;28;01mcontinue\u001b[39;00m\n\u001b[0;32m     29\u001b[0m \u001b[38;5;66;03m#             print(\"\\t\",value(Rn,Mn,b,r+1) , V[r])\u001b[39;00m\n\u001b[0;32m     30\u001b[0m \u001b[38;5;66;03m#             print(\"\\t\",Rn,Mn)\u001b[39;00m\n",
      "\u001b[1;31mKeyboardInterrupt\u001b[0m: "
     ]
    }
   ],
   "source": [
    "# ib = 0\n",
    "# b = blueprints[ib]\n",
    "# all_d = [{\"R\":[1,0,0,0],\"M\":[0,0,0,0]}]\n",
    "\n",
    "all_Rs = [[1,0,0,0]]\n",
    "all_Ms = [[0,0,0,0]]\n",
    "\n",
    "\n",
    "for r in range(24) :\n",
    "    \n",
    "    print(r,len(all_Rs),max([M[3] for M in all_Ms]))\n",
    "    \n",
    "    n_all_Rs = []\n",
    "    n_all_Ms = []\n",
    "    \n",
    "    for i in range(len(all_Ms)) :\n",
    "        R = all_Rs[i]\n",
    "        M = all_Ms[i]\n",
    "#         print(R,M)\n",
    "        opt = construction_option(R,M,b)\n",
    "        R,M = one_digging_step(R,M)\n",
    "        for iR in opt :\n",
    "            Rn, Mn = buildR(R,M,b,iR)\n",
    "#             print(\"\\t\",R,M)\n",
    "            if Rn in n_all_Rs:\n",
    "                iir = n_all_Rs.index(Rn)\n",
    "                if Mn == n_all_Ms[iir] :\n",
    "                    continue\n",
    "#             print(\"\\t\",value(Rn,Mn,b,r+1) , V[r])\n",
    "#             print(\"\\t\",Rn,Mn)\n",
    "            if value(Rn,Mn,b,r+1) >= V[r] :\n",
    "                n_all_Rs.append(Rn)\n",
    "                n_all_Ms.append(Mn)\n",
    "\n",
    "    all_Rs = n_all_Rs\n",
    "    all_Ms = n_all_Ms\n",
    "#     print(all_Rs)\n",
    "\n",
    "print(r,len(all_Rs),max([M[3] for M in all_Ms]))"
   ]
  },
  {
   "cell_type": "code",
   "execution_count": 78,
   "id": "9c84e4e8",
   "metadata": {},
   "outputs": [
    {
     "data": {
      "text/plain": [
       "[24,\n",
       " 24,\n",
       " 43,\n",
       " 43,\n",
       " 97,\n",
       " 113,\n",
       " 128,\n",
       " 173,\n",
       " 215,\n",
       " 254,\n",
       " 578,\n",
       " 611,\n",
       " 881,\n",
       " 908,\n",
       " 1124,\n",
       " 1313,\n",
       " 1331,\n",
       " 2966,\n",
       " 3074,\n",
       " 3155,\n",
       " 3809,\n",
       " 3836,\n",
       " 3836,\n",
       " 3809]"
      ]
     },
     "execution_count": 78,
     "metadata": {},
     "output_type": "execute_result"
    }
   ],
   "source": [
    "V2"
   ]
  },
  {
   "cell_type": "raw",
   "id": "2d9d4e06",
   "metadata": {},
   "source": []
  },
  {
   "cell_type": "code",
   "execution_count": null,
   "id": "6abdba7a",
   "metadata": {},
   "outputs": [],
   "source": []
  },
  {
   "cell_type": "raw",
   "id": "c4f99f25",
   "metadata": {},
   "source": [
    "0 1 0\n",
    "1 1 0\n",
    "2 1 0\n",
    "3 2 0\n",
    "4 3 0\n",
    "5 7 0\n",
    "6 11 0\n",
    "7 23 0\n",
    "8 42 0\n",
    "9 93 0\n",
    "10 195 0\n",
    "11 466 0\n",
    "12 1145 0\n",
    "13 3048 0\n",
    "14 8520 0\n",
    "15 25249 0\n",
    "16 78914 0\n",
    "17 259960 0\n",
    "18 898584 0\n",
    "19 3226953 0\n",
    "20 11941656 1\n",
    "21 45340184 2\n",
    "22 176780489 4"
   ]
  },
  {
   "cell_type": "code",
   "execution_count": 15,
   "id": "1e93d93d",
   "metadata": {},
   "outputs": [
    {
     "data": {
      "text/plain": [
       "[0, 1, 2]"
      ]
     },
     "execution_count": 15,
     "metadata": {},
     "output_type": "execute_result"
    }
   ],
   "source": [
    "A = [0,1,2]\n",
    "A"
   ]
  },
  {
   "cell_type": "code",
   "execution_count": null,
   "id": "340e0273",
   "metadata": {},
   "outputs": [],
   "source": []
  },
  {
   "cell_type": "code",
   "execution_count": null,
   "id": "128d22ba",
   "metadata": {},
   "outputs": [],
   "source": []
  },
  {
   "cell_type": "code",
   "execution_count": null,
   "id": "047ee9e9",
   "metadata": {},
   "outputs": [],
   "source": []
  },
  {
   "cell_type": "code",
   "execution_count": null,
   "id": "942a925e",
   "metadata": {},
   "outputs": [],
   "source": [
    "blueprints=get_blueprints(test_input)\n",
    "\n",
    "R = 0\n",
    "\n",
    "for ib in range(len(blueprints)) :\n",
    "    b = blueprints[ib]\n",
    "\n",
    "    all_Rs = [[1,0,0,0]]\n",
    "    all_Ms = [[0,0,0,0]]\n",
    "\n",
    "\n",
    "    for r in range(24) :\n",
    "\n",
    "        print(r,len(all_Rs),max([M[3] for M in all_Ms]))\n",
    "\n",
    "        n_all_Rs = []\n",
    "        n_all_Ms = []\n",
    "\n",
    "        for i in range(len(all_Ms)) :\n",
    "            R = all_Rs[i]\n",
    "            M = all_Ms[i]\n",
    "            opt = construction_option(R,M,b)\n",
    "            R,M = one_digging_step(R,M)\n",
    "            for iR in opt :\n",
    "                R, M = buildR(R,M,b,iR)\n",
    "                n_all_Rs.append(R)\n",
    "                n_all_Ms.append(M)\n",
    "\n",
    "        all_Rs = n_all_Rs\n",
    "        all_Ms = n_all_Ms\n",
    "    \n",
    "    \n",
    "    R += (ib+1) * max([M[3] for M in all_Ms])\n",
    "    print(ib,R)\n",
    "    "
   ]
  },
  {
   "cell_type": "code",
   "execution_count": null,
   "id": "266b20ee",
   "metadata": {},
   "outputs": [],
   "source": [
    "blueprints=get_blueprints(my_input)\n",
    "\n",
    "R = 0\n",
    "\n",
    "for ib in range(len(blueprints)) :\n",
    "    b = blueprints[ib]\n",
    "\n",
    "    all_Rs = [[1,0,0,0]]\n",
    "    all_Ms = [[0,0,0,0]]\n",
    "\n",
    "\n",
    "    for r in range(24) :\n",
    "\n",
    "        print(r,len(all_Rs),max([M[3] for M in all_Ms]))\n",
    "\n",
    "        n_all_Rs = []\n",
    "        n_all_Ms = []\n",
    "\n",
    "        for i in range(len(all_Ms)) :\n",
    "            R = all_Rs[i]\n",
    "            M = all_Ms[i]\n",
    "            opt = construction_option(R,M,b)\n",
    "            R,M = one_digging_step(R,M)\n",
    "            for iR in opt :\n",
    "                R, M = buildR(R,M,b,iR)\n",
    "                n_all_Rs.append(R)\n",
    "                n_all_Ms.append(M)\n",
    "\n",
    "        all_Rs = n_all_Rs\n",
    "        all_Ms = n_all_Ms\n",
    "    \n",
    "    \n",
    "    R += (ib+1) * max([M[3] for M in all_Ms])\n",
    "    print(ib,R)\n",
    "    \n"
   ]
  },
  {
   "cell_type": "code",
   "execution_count": null,
   "id": "fd43101c",
   "metadata": {},
   "outputs": [],
   "source": []
  },
  {
   "cell_type": "code",
   "execution_count": null,
   "id": "2f0dad54",
   "metadata": {},
   "outputs": [],
   "source": []
  },
  {
   "cell_type": "code",
   "execution_count": 336,
   "id": "fc0d9bfb",
   "metadata": {},
   "outputs": [
    {
     "data": {
      "text/plain": [
       "[0, 0, 0, 0]"
      ]
     },
     "execution_count": 336,
     "metadata": {},
     "output_type": "execute_result"
    }
   ],
   "source": [
    "M"
   ]
  },
  {
   "cell_type": "code",
   "execution_count": 337,
   "id": "470507cd",
   "metadata": {},
   "outputs": [],
   "source": [
    "R,M = one_digging_step(R,M)"
   ]
  },
  {
   "cell_type": "code",
   "execution_count": 338,
   "id": "9ba7538c",
   "metadata": {},
   "outputs": [
    {
     "data": {
      "text/plain": [
       "[1, 0, 0, 0]"
      ]
     },
     "execution_count": 338,
     "metadata": {},
     "output_type": "execute_result"
    }
   ],
   "source": [
    "M"
   ]
  },
  {
   "cell_type": "code",
   "execution_count": 340,
   "id": "e5473a5c",
   "metadata": {},
   "outputs": [
    {
     "data": {
      "text/plain": [
       "True"
      ]
     },
     "execution_count": 340,
     "metadata": {},
     "output_type": "execute_result"
    }
   ],
   "source": [
    "[0,0,0,0] in all_Ms"
   ]
  },
  {
   "cell_type": "code",
   "execution_count": 41,
   "id": "054da709",
   "metadata": {},
   "outputs": [],
   "source": [
    "def time_to_create_R0(R,M,b):\n",
    "    if M[0]>=b[0][0]:\n",
    "        return 1\n",
    "    else :\n",
    "        return math.ceil( (b[0][0]-M[0]) / R[0] ) +1"
   ]
  },
  {
   "cell_type": "code",
   "execution_count": 45,
   "id": "ad403fef",
   "metadata": {},
   "outputs": [
    {
     "data": {
      "text/plain": [
       "3"
      ]
     },
     "execution_count": 45,
     "metadata": {},
     "output_type": "execute_result"
    }
   ],
   "source": [
    "time_to_create_R0([1,0,0,0],[2,0,0,0],b)"
   ]
  },
  {
   "cell_type": "code",
   "execution_count": 43,
   "id": "ae12a12d",
   "metadata": {},
   "outputs": [],
   "source": [
    "def time_to_create_R1(R,M,b):\n",
    "    if M[0]>=b[1][0] :\n",
    "        return 1\n",
    "    else :\n",
    "        return math.ceil( (b[1][0]-M[0]) / R[0] ) +1"
   ]
  },
  {
   "cell_type": "code",
   "execution_count": 48,
   "id": "3e22ca89",
   "metadata": {},
   "outputs": [
    {
     "data": {
      "text/plain": [
       "3"
      ]
     },
     "execution_count": 48,
     "metadata": {},
     "output_type": "execute_result"
    }
   ],
   "source": [
    "time_to_create_R1([1,0,0,0],[0,0,0,0],b)"
   ]
  },
  {
   "cell_type": "code",
   "execution_count": null,
   "id": "dd4fbbdb",
   "metadata": {},
   "outputs": [],
   "source": [
    "def time_to_create_R2(R,M,b):\n",
    "    if M[0]>=b[2][0]:\n",
    "        if M[1]>=b[2][1] :\n",
    "            return 1\n",
    "        else :\n",
    "            if R[1] == 0 :\n",
    "                return time_to_create_R1(R,M,b) + (b[1][0]-M[0]) + 1\n",
    "    else :\n",
    "        return math.ceil( (b[1][0]-M[0]) / R[0] ) +1"
   ]
  },
  {
   "cell_type": "code",
   "execution_count": null,
   "id": "979596c7",
   "metadata": {},
   "outputs": [],
   "source": []
  },
  {
   "cell_type": "code",
   "execution_count": null,
   "id": "65945028",
   "metadata": {},
   "outputs": [],
   "source": [
    "def time_to_create_R3(R,M,b):\n",
    "    if all([b[3][ii]<=M[ii] for ii in range(4)]) :\n",
    "        return 1\n",
    "    else :\n",
    "        if\n",
    "        return b[3][0]\n",
    "    "
   ]
  },
  {
   "cell_type": "code",
   "execution_count": 35,
   "id": "4b231994",
   "metadata": {},
   "outputs": [
    {
     "data": {
      "text/plain": [
       "1"
      ]
     },
     "execution_count": 35,
     "metadata": {},
     "output_type": "execute_result"
    }
   ],
   "source": [
    "def time_to_get_3(R,M,b) :\n",
    "    \n",
    "    if R[3] > 0 :\n",
    "        return 1\n",
    "\n",
    "    else :\n",
    "        return time_to_create_R3(R,M,b) + 1\n",
    "    "
   ]
  },
  {
   "cell_type": "code",
   "execution_count": null,
   "id": "bfa440f4",
   "metadata": {},
   "outputs": [],
   "source": []
  },
  {
   "cell_type": "code",
   "execution_count": null,
   "id": "55361641",
   "metadata": {},
   "outputs": [],
   "source": [
    "def pot_time_to_get_R0(R,M,b) :\n",
    "    if M[0]>=b[0][0] :\n",
    "        return 1\n",
    "    else :\n",
    "        return math.ceil( (b[0][0]-M[0]) / R[0] ) +1"
   ]
  },
  {
   "cell_type": "code",
   "execution_count": null,
   "id": "28705036",
   "metadata": {},
   "outputs": [],
   "source": [
    "def pot_time_to_get_R1(R,M,b) :\n",
    "    if M[0]>=b[1][0] :\n",
    "        return 1\n",
    "    else :\n",
    "        return math.ceil( (b[1][0]-M[0]) / R[0] ) +1"
   ]
  },
  {
   "cell_type": "code",
   "execution_count": null,
   "id": "3c8ae425",
   "metadata": {},
   "outputs": [],
   "source": [
    "def pot_time_to_get_R2(R,M,b) :\n",
    "    if M[1]>=b[2][1] :\n",
    "        if M[0]>=b[2][0]:\n",
    "            return 1\n",
    "        else :\n",
    "            if \n",
    "    else :\n",
    "        return math.ceil( (b[1][0]-M[0]) / R[0] ) +1"
   ]
  },
  {
   "cell_type": "code",
   "execution_count": null,
   "id": "a1c6fd62",
   "metadata": {},
   "outputs": [],
   "source": []
  },
  {
   "cell_type": "raw",
   "id": "e4d8eef4",
   "metadata": {},
   "source": [
    "[[4, 0, 0, 0], [2, 0, 0, 0], [3, 14, 0, 0], [2, 0, 7, 0]]"
   ]
  },
  {
   "cell_type": "code",
   "execution_count": null,
   "id": "841e026a",
   "metadata": {},
   "outputs": [],
   "source": []
  },
  {
   "cell_type": "code",
   "execution_count": null,
   "id": "373e3471",
   "metadata": {},
   "outputs": [],
   "source": [
    "# if factory breaks :\n",
    "\n",
    "min_gather = M[3] + T*R[3]\n",
    "\n",
    "M[3] + \n",
    "\n",
    " "
   ]
  },
  {
   "cell_type": "code",
   "execution_count": null,
   "id": "ae6b5959",
   "metadata": {},
   "outputs": [],
   "source": [
    "def opt_time_to_gathe_N_of0() :\n",
    "    \n",
    "    nR = 1\n",
    "    T = math.ceil(N/nR)\n",
    "\n",
    "    newT =-1\n",
    "    \n",
    "    while newT <= T :\n",
    "        new_nR += 1\n",
    "        newT = (new_nR-nR) * time_to_build0()\n",
    "        \n",
    "    \n",
    "    "
   ]
  },
  {
   "cell_type": "code",
   "execution_count": null,
   "id": "ba26d273",
   "metadata": {},
   "outputs": [],
   "source": []
  },
  {
   "cell_type": "code",
   "execution_count": null,
   "id": "7271fb34",
   "metadata": {},
   "outputs": [],
   "source": [
    "1 geode = b[3][0] ore + b[3][2] obs\n",
    "\n",
    "1 obs = b[2][0] ore + b[2][1] clay\n",
    "1 geode = b[3][0] ore + b[3][2] obs\n",
    "        = b[3][0] ore + b[3][2] * ( b[2][0] ore + b[2][1] clay  )\n",
    "    \n",
    "1 clay = b[1][0] ore\n",
    "1 geode = b[3][0] ore + b[3][2] obs\n",
    "        = b[3][0] ore + b[3][2] * ( b[2][0] ore + b[2][1] clay  )\n",
    "        = b[3][0] ore + b[3][2] * ( b[2][0] ore + b[2][1] * b[1][0] ore  )\n",
    "\n",
    "        \n",
    "# no construction time \n",
    "\n",
    "# estimated miracle geode/turn\n",
    "    if R[4] > 0 :\n",
    "        geode = R[4] + b[3][0] * R[0] + b[3][2] * R[2]"
   ]
  },
  {
   "cell_type": "code",
   "execution_count": null,
   "id": "b24a5577",
   "metadata": {},
   "outputs": [],
   "source": [
    "# worse geode / turn :\n",
    "    # bulid one Rgeode \n",
    "    1 - (b[1][0] + 1 + max(b[2]) + 1 + max(b[3]) + 1) / 24\n",
    "    "
   ]
  },
  {
   "cell_type": "raw",
   "id": "9e05ac48",
   "metadata": {},
   "source": [
    "0 <=> ore\n",
    "1 <=> clay\n",
    "2 <=> obsidian\n",
    "3 <=> geode"
   ]
  },
  {
   "cell_type": "code",
   "execution_count": null,
   "id": "c5b195f2",
   "metadata": {},
   "outputs": [],
   "source": [
    "## temps pour construire 0 :\n",
    "# T * R[0] + M[0] = b[0][0]\n",
    "# T0 = math.ceil ( (b[0][0]-M[0]) / R[0] ) + 1 # T0 = T to gather material + T building\n",
    "\n",
    "## temps pour construire 1 :\n",
    "# if no new machine :\n",
    "#     T * R[0] + M[0] = b[1][0]\n",
    "#     T1 = math.ceil (  (b[1][0]-M[0])/R[0] )\n",
    "# if one more new machine :\n",
    "#     (T - T0 + 1) * R[0] + (T-T0) = b[1][0]   = T * R[0] + M[0] - b[0][0] + T0\n",
    "#     T * (R[0]+1) = b[1][0] + T0 * R[0] + T0 - r[0]\n",
    "#     T1 =  math.ceil( (b[1][0] + T0 * R[0] + T0 - r[0]) / (R[0]+1) )\n",
    "\n",
    "#  if T1_newmachine >= T1_notnewmachine ==> build a M0\n",
    "\n",
    "## temps pour construire M 2 :\n",
    "# if no new machine :\n",
    "#      T * R[0] + M [0] = b[2][0] } max\n",
    "#      T * R[1] + M[1]  = b[2][1] } of\n",
    "#      T2 = max( math.ceil() , math.ceil() )\n",
    "\n",
    "# if newM1 :\n",
    "#      (T - T1 + 1) * R[0] = b[2][0]   } max\n",
    "#      T * R[1] + (T-T1) = b[2][1]     } of\n",
    "#      T2 = max( , )\n",
    "\n",
    "# if newM0 :\n",
    "#      (T - T0 + 1) * R[0] + (T-T0) = b[1][0]\n",
    "#      T * R[1] + M[1]  = b[2][1]\n",
    "#      T2 = max( , )\n",
    "\n",
    "# choose to build M2, M1, or M0\n",
    "\n",
    "\n",
    "## temps pour construire M 3 :\n",
    "# if no new machine :\n",
    "#      T * R[0] + M [0] = b[3][0] } max\n",
    "#      T * R[2] + M[2]  = b[3][2] } of\n",
    "#      T2 = max( math.ceil() , math.ceil() )\n",
    "\n",
    "# if newM2 :\n",
    "#      (T - T1 + 1) * R[0] = b[2][0]   } max\n",
    "#      T * R[1] + (T-T1) = b[2][1]     } of\n",
    "#      T2 = max( , )\n",
    "\n",
    "# if newM0 :\n",
    "#      (T - T0 + 1) * R[0] + (T-T0) = b[1][0]\n",
    "#      T * R[1] + M[1]  = b[2][1]\n",
    "#      T2 = max( , )\n",
    "\n",
    "# choose to build M2, M1, or M0\n",
    "\n"
   ]
  },
  {
   "cell_type": "code",
   "execution_count": 52,
   "id": "2e0de8d7",
   "metadata": {},
   "outputs": [
    {
     "data": {
      "text/plain": [
       "[[4, 0, 0, 0], [2, 0, 0, 0], [3, 14, 0, 0], [2, 0, 7, 0]]"
      ]
     },
     "execution_count": 52,
     "metadata": {},
     "output_type": "execute_result"
    }
   ],
   "source": [
    "b"
   ]
  },
  {
   "cell_type": "code",
   "execution_count": 57,
   "id": "0e44b21a",
   "metadata": {},
   "outputs": [],
   "source": [
    "M = [0,0,0,0]\n",
    "R = [1,0,0,0]"
   ]
  },
  {
   "cell_type": "code",
   "execution_count": 28,
   "id": "aaba64da",
   "metadata": {},
   "outputs": [],
   "source": [
    "def time_to_build_R0(R,M,b) :\n",
    "    T0 = math.ceil ( (b[0][0]-M[0]) / R[0] ) + 1 \n",
    "    return T0,0\n",
    "\n",
    "def time_to_build_R1(R,M,b,T0) :\n",
    "    # if no new robot :\n",
    "    T1asis = math.ceil(  (b[1][0]-M[0])/R[0] ) + 1\n",
    "\n",
    "    if T0 < T1asis :\n",
    "        # maybe better to build one more R0 :\n",
    "        T1more0 = math.ceil( (b[1][0]+T0-M[0]+b[0][0])/(R[0]+1) ) + 1\n",
    "        if T1more0 <= T1asis :\n",
    "            return max(2,T1more0),0\n",
    "    return T1asis,1\n",
    "\n",
    "def time_to_build_R2(R,M,b,T0,T1) :\n",
    "    \n",
    "    if R[1] == 0 :\n",
    "        return math.inf, 1\n",
    "    \n",
    "    # if no new robot :\n",
    "    T2asis = max( math.ceil( (b[2][0]-M[0])/R[0] ) , math.ceil( (b[2][1]-M[1])/R[1] ) ) + 1\n",
    "    \n",
    "    if T1 < T2asis :\n",
    "        # if one more R1\n",
    "        # b[2][0] = M[0] + T * R[0] - b[1][0]\n",
    "        # b[2][1] = M[1] + T * R[1] + (T-T1) \n",
    "        T2more1 = max( math.ceil( (b[2][0]+b[1][0]-M[0])/R[0] ) , math.ceil( (b[2][1]+T1-M[1])/(R[1]+1) ) ) + 1\n",
    "    else :\n",
    "        T2more1 = math.inf\n",
    "        \n",
    "    if T0 < T2asis :\n",
    "        # if one more R0\n",
    "        # b[2][0] = M[0] + T * R[0] - b[0][0] + (T-T0) \n",
    "        T2more0 = max( math.ceil( (b[2][0]+T0-M[0]+b[0][0])/(R[0]+1) ) , math.ceil( (b[2][1]-M[1])/R[1] ) ) + 1\n",
    "    else :\n",
    "        T2more0 = math.inf\n",
    "    \n",
    "    T2 = min(T2asis,T2more1,T2more0)\n",
    "    \n",
    "    if T2more1 == T2 :\n",
    "        return max(2,T2), 1\n",
    "    if T2more0 == T2 :\n",
    "        return max(2,T2), 0\n",
    "    else :\n",
    "        return T2, 2\n",
    "\n",
    "\n",
    "def time_to_build_R3(R,M,b,T0,T1,T2) :\n",
    "    \n",
    "    if R[2] == 0 :\n",
    "        return math.inf, 2\n",
    "    \n",
    "    # if no new machine :\n",
    "    T3asis = max( math.ceil( (b[3][0]-M[0])/R[0] ) , math.ceil( (b[3][2]-M[2])/R[2] ) ) + 1\n",
    "    \n",
    "    if T0 < T3asis :\n",
    "        # if one more R0\n",
    "        # b[3][0] = M[0] + T*R[0] - b[0][0] + (T-T0)   ==>   T = (b[3][0]-M[0]+b[0][0]+T0)/(R[0]+1)\n",
    "        # b[3][2] = M[2] + T*R[2]\n",
    "        T3more0 = max(math.ceil( (b[3][0]-M[0]+b[0][0]+T0)/(R[0]+1) ) ,\n",
    "                      math.ceil( (b[3][2]-M[2])/R[2] ) ) + 1\n",
    "    else :\n",
    "        T3more0 = math.inf\n",
    "    \n",
    "    if T2 < T3asis :\n",
    "    # if one more R2\n",
    "        # b[3][0] = M[0] + T*R[0] - b[2][0] ==> T = (b[3][0]-M[0]+b[2][0])/R[0]\n",
    "        # b[3][2] = M[2] + T*R[2] + (T-T2)*1 ==> T = (b[3][2]-M[2]+T2)/(R[2]+1)\n",
    "        T3more2 = max(math.ceil( (b[3][0]-M[0]+b[2][0])/R[0] ) ,\n",
    "                      math.ceil( (b[3][2]-M[2]+T2)/(R[2]+1) ) ) + 1\n",
    "    else :\n",
    "        T3more2 = math.inf\n",
    "\n",
    "    \n",
    "    T3 = min(T3asis,T3more2,T3more0)\n",
    "    \n",
    "    if T3more2 == T3 :\n",
    "        return max(2,T3), 2\n",
    "    if T3more0 == T3 :\n",
    "        return max(2,T3), 0\n",
    "    else :\n",
    "        return T3, 3"
   ]
  },
  {
   "cell_type": "code",
   "execution_count": 78,
   "id": "c826bbb1",
   "metadata": {},
   "outputs": [
    {
     "name": "stdout",
     "output_type": "stream",
     "text": [
      "5 0\n"
     ]
    }
   ],
   "source": [
    "T0, iR =  time_to_build_R0(R,M,b)\n",
    "print(T0, iR)"
   ]
  },
  {
   "cell_type": "code",
   "execution_count": 79,
   "id": "95a8a9de",
   "metadata": {},
   "outputs": [
    {
     "name": "stdout",
     "output_type": "stream",
     "text": [
      "3 1\n"
     ]
    }
   ],
   "source": [
    "T1, iR = time_to_build_R1(R,M,b,T0)\n",
    "print(T1, iR)"
   ]
  },
  {
   "cell_type": "code",
   "execution_count": 84,
   "id": "a175b28f",
   "metadata": {},
   "outputs": [
    {
     "ename": "ZeroDivisionError",
     "evalue": "division by zero",
     "output_type": "error",
     "traceback": [
      "\u001b[1;31m---------------------------------------------------------------------------\u001b[0m",
      "\u001b[1;31mZeroDivisionError\u001b[0m                         Traceback (most recent call last)",
      "Input \u001b[1;32mIn [84]\u001b[0m, in \u001b[0;36m<module>\u001b[1;34m\u001b[0m\n\u001b[1;32m----> 1\u001b[0m T2, iR \u001b[38;5;241m=\u001b[39m \u001b[43mtime_to_build_R2\u001b[49m\u001b[43m(\u001b[49m\u001b[43mR\u001b[49m\u001b[43m,\u001b[49m\u001b[43mM\u001b[49m\u001b[43m,\u001b[49m\u001b[43mb\u001b[49m\u001b[43m,\u001b[49m\u001b[43mT0\u001b[49m\u001b[43m,\u001b[49m\u001b[43mT1\u001b[49m\u001b[43m)\u001b[49m\n",
      "Input \u001b[1;32mIn [77]\u001b[0m, in \u001b[0;36mtime_to_build_R2\u001b[1;34m(R, M, b, T0, T1)\u001b[0m\n\u001b[0;32m     16\u001b[0m \u001b[38;5;28;01mdef\u001b[39;00m \u001b[38;5;21mtime_to_build_R2\u001b[39m(R,M,b,T0,T1) :\n\u001b[0;32m     17\u001b[0m     \u001b[38;5;66;03m# if no new robot :\u001b[39;00m\n\u001b[1;32m---> 18\u001b[0m     T2asis \u001b[38;5;241m=\u001b[39m \u001b[38;5;28mmax\u001b[39m( math\u001b[38;5;241m.\u001b[39mceil( (b[\u001b[38;5;241m2\u001b[39m][\u001b[38;5;241m0\u001b[39m]\u001b[38;5;241m-\u001b[39mM[\u001b[38;5;241m0\u001b[39m])\u001b[38;5;241m/\u001b[39mR[\u001b[38;5;241m0\u001b[39m] ) , math\u001b[38;5;241m.\u001b[39mceil( \u001b[43m(\u001b[49m\u001b[43mb\u001b[49m\u001b[43m[\u001b[49m\u001b[38;5;241;43m2\u001b[39;49m\u001b[43m]\u001b[49m\u001b[43m[\u001b[49m\u001b[38;5;241;43m1\u001b[39;49m\u001b[43m]\u001b[49m\u001b[38;5;241;43m-\u001b[39;49m\u001b[43mM\u001b[49m\u001b[43m[\u001b[49m\u001b[38;5;241;43m1\u001b[39;49m\u001b[43m]\u001b[49m\u001b[43m)\u001b[49m\u001b[38;5;241;43m/\u001b[39;49m\u001b[43mR\u001b[49m\u001b[43m[\u001b[49m\u001b[38;5;241;43m1\u001b[39;49m\u001b[43m]\u001b[49m ) ) \u001b[38;5;241m+\u001b[39m \u001b[38;5;241m1\u001b[39m\n\u001b[0;32m     20\u001b[0m     \u001b[38;5;28;01mif\u001b[39;00m T1 \u001b[38;5;241m<\u001b[39m T2asis :\n\u001b[0;32m     21\u001b[0m         \u001b[38;5;66;03m# if one more R1\u001b[39;00m\n\u001b[0;32m     22\u001b[0m         \u001b[38;5;66;03m# b[2][0] = M[0] + T * R[0] - b[1][0]\u001b[39;00m\n\u001b[0;32m     23\u001b[0m         T2more1 \u001b[38;5;241m=\u001b[39m \u001b[38;5;28mmax\u001b[39m( math\u001b[38;5;241m.\u001b[39mceil( (b[\u001b[38;5;241m2\u001b[39m][\u001b[38;5;241m0\u001b[39m]\u001b[38;5;241m/\u001b[39mR[\u001b[38;5;241m0\u001b[39m])\u001b[38;5;241m-\u001b[39m\u001b[38;5;241m1\u001b[39m\u001b[38;5;241m+\u001b[39mT1 ) , math\u001b[38;5;241m.\u001b[39mceil( (b[\u001b[38;5;241m2\u001b[39m][\u001b[38;5;241m1\u001b[39m]\u001b[38;5;241m+\u001b[39mT1)\u001b[38;5;241m/\u001b[39m(r[\u001b[38;5;241m1\u001b[39m]\u001b[38;5;241m-\u001b[39m\u001b[38;5;241m1\u001b[39m) ) ) \u001b[38;5;241m+\u001b[39m \u001b[38;5;241m1\u001b[39m\n",
      "\u001b[1;31mZeroDivisionError\u001b[0m: division by zero"
     ]
    }
   ],
   "source": [
    "T2, iR = time_to_build_R2(R,M,b,T0,T1)"
   ]
  },
  {
   "cell_type": "code",
   "execution_count": null,
   "id": "321752e8",
   "metadata": {},
   "outputs": [],
   "source": []
  },
  {
   "cell_type": "code",
   "execution_count": null,
   "id": "549f6dcd",
   "metadata": {},
   "outputs": [],
   "source": []
  },
  {
   "cell_type": "code",
   "execution_count": null,
   "id": "b8279172",
   "metadata": {},
   "outputs": [],
   "source": []
  },
  {
   "cell_type": "code",
   "execution_count": null,
   "id": "2ec7781e",
   "metadata": {},
   "outputs": [],
   "source": []
  },
  {
   "cell_type": "code",
   "execution_count": null,
   "id": "8e13f61a",
   "metadata": {},
   "outputs": [],
   "source": []
  },
  {
   "cell_type": "code",
   "execution_count": 80,
   "id": "eb950d49",
   "metadata": {},
   "outputs": [
    {
     "data": {
      "text/plain": [
       "[1, 0, 0, 0]"
      ]
     },
     "execution_count": 80,
     "metadata": {},
     "output_type": "execute_result"
    }
   ],
   "source": [
    "R"
   ]
  },
  {
   "cell_type": "code",
   "execution_count": 81,
   "id": "4fe7664d",
   "metadata": {},
   "outputs": [
    {
     "data": {
      "text/plain": [
       "[0, 0, 0, 0]"
      ]
     },
     "execution_count": 81,
     "metadata": {},
     "output_type": "execute_result"
    }
   ],
   "source": [
    "M"
   ]
  },
  {
   "cell_type": "code",
   "execution_count": 82,
   "id": "b1cf41bc",
   "metadata": {},
   "outputs": [
    {
     "data": {
      "text/plain": [
       "[[4, 0, 0, 0], [2, 0, 0, 0], [3, 14, 0, 0], [2, 0, 7, 0]]"
      ]
     },
     "execution_count": 82,
     "metadata": {},
     "output_type": "execute_result"
    }
   ],
   "source": [
    "b"
   ]
  },
  {
   "cell_type": "code",
   "execution_count": 83,
   "id": "4aa55627",
   "metadata": {},
   "outputs": [],
   "source": []
  },
  {
   "cell_type": "code",
   "execution_count": 223,
   "id": "2fb88595",
   "metadata": {},
   "outputs": [],
   "source": [
    "t = 0\n",
    "R = [1,0,0,0]\n",
    "M = [0,0,0,0]"
   ]
  },
  {
   "cell_type": "code",
   "execution_count": 63,
   "id": "2ff6a1f5",
   "metadata": {},
   "outputs": [],
   "source": [
    "def one_digging_step(R, M):\n",
    "    M = [M[i] + R[i] for i in range(4)]\n",
    "    return R, M\n",
    "\n",
    "def construction_option_2(R, M, b) :\n",
    "    opt = []\n",
    "    for i in range(4):\n",
    "        if all([b[i][ii]<=M[ii] for ii in range(4)]) :\n",
    "            opt.append(i)\n",
    "    return opt\n",
    "\n",
    "def buildR(R, M, b, iR):\n",
    "#     print(iR)\n",
    "    if iR is not None :\n",
    "        R[iR] += 1\n",
    "        M = [M[i]-b[iR][i] for i in range(4)]\n",
    "    return R, M\n",
    "\n",
    "\n",
    "def get_most_geode(b) :\n",
    "    \n",
    "    t = 0\n",
    "    R = [1,0,0,0]\n",
    "    M = [0,0,0,0]\n",
    "    all_V = []\n",
    "    while t < 24 :\n",
    "\n",
    "        T0,iR0 = time_to_build_R0(R,M,b)\n",
    "        T1,iR1 = time_to_build_R1(R,M,b,T0)\n",
    "        T2,iR2 = time_to_build_R2(R,M,b,T0,T1)\n",
    "        T3,iR3 = time_to_build_R3(R,M,b,T0,T1,T2)\n",
    "\n",
    "        Ts = [T0,T1,T2,T3]\n",
    "        iR = [iR0,iR1,iR2,iR3]\n",
    "        ir = 3\n",
    "\n",
    "        while iR[ir] != ir :\n",
    "            ir = iR[ir]\n",
    "\n",
    "        # build robot ir\n",
    "#         print(\"\\tbuild\",ir)\n",
    "\n",
    "        for i in range(Ts[ir]-1) :\n",
    "            \n",
    "            R,M = one_digging_step(R, M)\n",
    "            t += 1\n",
    "            all_V.append(value(R,M,b,t))\n",
    "            \n",
    "            ## for print\n",
    "            T0,iR0 = time_to_build_R0(R,M,b)\n",
    "            T1,iR1 = time_to_build_R1(R,M,b,T0)\n",
    "            T2,iR2 = time_to_build_R2(R,M,b,T0,T1)\n",
    "            T3,iR3 = time_to_build_R3(R,M,b,T0,T1,T2)\n",
    "            print(t,R,M,T0,T1,T2,T3,value(R,M,b,t+1))\n",
    "            ##\n",
    "            \n",
    "            if t == 24 :\n",
    "                return M[3]\n",
    "\n",
    "\n",
    "        R,M = one_digging_step(R, M)\n",
    "        R,M = buildR(R, M, b, ir)\n",
    "        \n",
    "        t+=1\n",
    "        all_V.append(value(R,M,b,t))\n",
    "        \n",
    "        ## for print\n",
    "        T0,iR0 = time_to_build_R0(R,M,b)\n",
    "        T1,iR1 = time_to_build_R1(R,M,b,T0)\n",
    "        T2,iR2 = time_to_build_R2(R,M,b,T0,T1)\n",
    "        T3,iR3 = time_to_build_R3(R,M,b,T0,T1,T2)\n",
    "        print(t,R,M,T0,T1,T2,T3,value(R,M,b,t+1))\n",
    "        ##\n",
    "        \n",
    "        if t == 24 :\n",
    "            return M[3] , all_V\n",
    "\n",
    "\n",
    "\n",
    "def get_most_geode_2(b) :\n",
    "    \n",
    "    \n",
    "    R = [1,0,0,0]\n",
    "    M = [0,0,0,0]\n",
    "    all_V = []\n",
    "    \n",
    "    for t in range(24) :\n",
    "        \n",
    "        ## for print\n",
    "        T0,iR0 = time_to_build_R0(R,M,b)\n",
    "        T1,iR1 = time_to_build_R1(R,M,b,T0)\n",
    "        T2,iR2 = time_to_build_R2(R,M,b,T0,T1)\n",
    "        T3,iR3 = time_to_build_R3(R,M,b,T0,T1,T2)\n",
    "        print(t,R,M,T0,T1,T2,T3,value(R,M,b,t))\n",
    "        ##\n",
    "        \n",
    "        \n",
    "        opt = construction_option_2(R, M, b)\n",
    "        \n",
    "        R,M = one_digging_step(R, M)\n",
    "        if len(opt) > 0:\n",
    "            R,M = buildR(R, M, b, max(opt))    \n",
    "        \n",
    "        all_V.append(value(R,M,b,t+1))\n",
    "        \n",
    "\n",
    "    return M[3], all_V\n",
    "\n",
    "\n",
    "\n",
    "# def get_most_geode_3(b) :\n",
    "    \n",
    "    \n",
    "#     R = [1,0,0,0]\n",
    "#     M = [0,0,0,0]\n",
    "    \n",
    "#     max_R0 = max([b[i][0] for i in range(4)])\n",
    "#     max_R1 = max([b[i][1] for i in range(4)])\n",
    "#     max_R2 = max([b[i][2] for i in range(4)])\n",
    "    \n",
    "# #     print(max_R0,max_R1,max_R2)\n",
    "    \n",
    "#     for t in range(24) :\n",
    "        \n",
    "#         opt = construction_option(R, M, b)\n",
    "        \n",
    "#         R,M = one_digging_step(R, M)\n",
    "#         if R[0]<max_R0 and 0 in opt :\n",
    "#             R,M = buildR(R, M, b, 0)\n",
    "#         elif R[1]<max_R1 and 1 in opt :\n",
    "#             R,M = buildR(R, M, b, 1)\n",
    "#         elif R[2]<max_R2 and 2 in opt :\n",
    "#             R,M = buildR(R, M, b, 2)\n",
    "#         elif 3 in opt :\n",
    "#             R,M = buildR(R, M, b, 3)     \n",
    "        \n",
    "# #         print(t,R,M)\n",
    "\n",
    "\n",
    "#     return M[3]"
   ]
  },
  {
   "cell_type": "code",
   "execution_count": 30,
   "id": "15123287",
   "metadata": {},
   "outputs": [],
   "source": [
    "def value(R,M,b,t) :\n",
    "    \n",
    "    V0 = b[0][0]\n",
    "    V1 = b[1][0] \n",
    "    V2 = b[2][0] + b[2][1] * V1\n",
    "    V3 = b[3][0] + b[3][2] * V2\n",
    "    \n",
    "    return (M[0] + M[1]*V1 + M[2]*V2 + M[3]*V3) + (R[0] + R[1]*V1 + R[2]*V2 + R[3]*V3) * (24-t) "
   ]
  },
  {
   "cell_type": "code",
   "execution_count": 322,
   "id": "a5950c83",
   "metadata": {},
   "outputs": [
    {
     "name": "stdout",
     "output_type": "stream",
     "text": [
      "0 [1, 0, 0, 0] [0, 0, 0, 0] 3 4 inf inf\n",
      "1 [1, 0, 0, 0] [1, 0, 0, 0] 2 3 inf inf\n",
      "2 [1, 0, 0, 0] [2, 0, 0, 0] 1 2 inf inf\n",
      "3 [1, 0, 0, 0] [3, 0, 0, 0] 0 1 inf inf\n",
      "4 [1, 1, 0, 0] [1, 0, 0, 0] 2 3 7 inf\n",
      "5 [1, 1, 0, 0] [2, 1, 0, 0] 1 2 6 inf\n",
      "6 [1, 1, 0, 0] [3, 2, 0, 0] 0 1 5 inf\n",
      "7 [1, 2, 0, 0] [1, 3, 0, 0] 2 3 4 inf\n",
      "8 [1, 2, 0, 0] [2, 5, 0, 0] 1 2 3 inf\n",
      "9 [2, 2, 0, 0] [1, 7, 0, 0] 2 2 2 inf\n",
      "10 [2, 2, 0, 0] [3, 9, 0, 0] 1 1 1 inf\n",
      "11 [2, 2, 1, 0] [2, 3, 0, 0] 1 2 4 9\n",
      "12 [2, 2, 1, 0] [4, 5, 1, 0] 0 1 3 8\n",
      "13 [2, 3, 1, 0] [3, 7, 2, 0] 1 1 2 7\n",
      "14 [3, 3, 1, 0] [3, 10, 3, 0] 1 1 1 6\n",
      "15 [3, 3, 2, 0] [3, 5, 4, 0] 1 1 2 5\n",
      "16 [3, 4, 2, 0] [3, 8, 6, 0] 1 1 1 4\n",
      "17 [3, 4, 3, 0] [3, 4, 8, 0] 1 1 2 3\n",
      "18 [3, 5, 3, 0] [3, 8, 11, 0] 1 1 1 2\n",
      "19 [3, 5, 4, 0] [3, 5, 14, 0] 1 1 2 1\n",
      "20 [3, 5, 4, 1] [3, 10, 6, 0] 1 1 1 3\n",
      "21 [3, 5, 5, 1] [3, 7, 10, 1] 1 1 2 2\n",
      "22 [4, 5, 5, 1] [4, 12, 15, 2] 1 1 1 1\n",
      "23 [4, 5, 5, 2] [5, 17, 8, 3] 1 1 1 2\n"
     ]
    },
    {
     "data": {
      "text/plain": [
       "5"
      ]
     },
     "execution_count": 322,
     "metadata": {},
     "output_type": "execute_result"
    }
   ],
   "source": [
    "get_most_geode(b)"
   ]
  },
  {
   "cell_type": "code",
   "execution_count": 323,
   "id": "89505d80",
   "metadata": {},
   "outputs": [
    {
     "name": "stdout",
     "output_type": "stream",
     "text": [
      "0 [1, 0, 0, 0] [0, 0, 0, 0] 5 3 inf inf\n",
      "1 [1, 0, 0, 0] [1, 0, 0, 0] 4 2 inf inf\n",
      "2 [1, 0, 0, 0] [2, 0, 0, 0] 3 1 inf inf\n",
      "3 [1, 1, 0, 0] [1, 0, 0, 0] 4 2 9 inf\n",
      "4 [1, 1, 0, 0] [2, 1, 0, 0] 3 1 8 inf\n",
      "5 [1, 2, 0, 0] [1, 2, 0, 0] 4 2 6 inf\n",
      "6 [1, 2, 0, 0] [2, 4, 0, 0] 3 1 5 inf\n",
      "7 [1, 3, 0, 0] [1, 6, 0, 0] 4 2 4 inf\n",
      "8 [1, 3, 0, 0] [2, 9, 0, 0] 3 1 3 inf\n",
      "9 [1, 3, 0, 0] [3, 12, 0, 0] 2 0 2 inf\n",
      "10 [1, 3, 0, 0] [4, 15, 0, 0] 1 -1 1 inf\n",
      "11 [1, 3, 1, 0] [2, 4, 0, 0] 3 1 4 7\n",
      "12 [1, 4, 1, 0] [1, 7, 1, 0] 4 2 3 6\n",
      "13 [1, 4, 1, 0] [2, 11, 2, 0] 3 1 2 5\n",
      "14 [1, 4, 1, 0] [3, 15, 3, 0] 2 0 1 4\n",
      "15 [1, 4, 2, 0] [1, 5, 4, 0] 4 2 4 3\n",
      "16 [1, 4, 2, 0] [2, 9, 6, 0] 3 1 3 2\n",
      "17 [1, 4, 2, 0] [3, 13, 8, 0] 2 0 2 1\n",
      "18 [1, 4, 2, 1] [2, 17, 3, 0] 3 1 2 3\n",
      "19 [1, 4, 2, 1] [3, 21, 5, 1] 2 0 1 2\n",
      "20 [1, 4, 2, 1] [4, 25, 7, 2] 1 -1 0 1\n",
      "21 [1, 4, 2, 2] [3, 29, 2, 3] 2 0 1 3\n",
      "22 [1, 4, 3, 2] [1, 19, 4, 5] 4 2 3 2\n",
      "23 [1, 4, 3, 2] [2, 23, 7, 7] 3 1 2 1\n",
      "0 [1, 0, 0, 0] [0, 0, 0, 0] 5 3 inf inf\n",
      "1 [1, 0, 0, 0] [1, 0, 0, 0] 4 2 inf inf\n",
      "2 [1, 0, 0, 0] [2, 0, 0, 0] 3 1 inf inf\n",
      "3 [1, 1, 0, 0] [1, 0, 0, 0] 4 2 9 inf\n",
      "4 [1, 1, 0, 0] [2, 1, 0, 0] 3 1 8 inf\n",
      "5 [1, 2, 0, 0] [1, 2, 0, 0] 4 2 6 inf\n",
      "6 [1, 2, 0, 0] [2, 4, 0, 0] 3 1 5 inf\n",
      "7 [1, 3, 0, 0] [1, 6, 0, 0] 4 2 4 inf\n",
      "8 [1, 3, 0, 0] [2, 9, 0, 0] 3 1 3 inf\n",
      "9 [1, 4, 0, 0] [1, 12, 0, 0] 4 2 3 inf\n",
      "10 [1, 4, 0, 0] [2, 16, 0, 0] 3 1 2 inf\n",
      "11 [1, 5, 0, 0] [1, 20, 0, 0] 4 2 3 inf\n",
      "12 [1, 5, 0, 0] [2, 25, 0, 0] 3 1 2 inf\n",
      "13 [1, 6, 0, 0] [1, 30, 0, 0] 4 2 3 inf\n",
      "14 [1, 6, 0, 0] [2, 36, 0, 0] 3 1 2 inf\n",
      "15 [1, 7, 0, 0] [1, 42, 0, 0] 4 2 3 inf\n",
      "16 [1, 7, 0, 0] [2, 49, 0, 0] 3 1 2 inf\n",
      "17 [1, 8, 0, 0] [1, 56, 0, 0] 4 2 3 inf\n",
      "18 [1, 8, 0, 0] [2, 64, 0, 0] 3 1 2 inf\n",
      "19 [1, 9, 0, 0] [1, 72, 0, 0] 4 2 3 inf\n",
      "20 [1, 9, 0, 0] [2, 81, 0, 0] 3 1 2 inf\n",
      "21 [1, 10, 0, 0] [1, 90, 0, 0] 4 2 3 inf\n",
      "22 [1, 10, 0, 0] [2, 100, 0, 0] 3 1 2 inf\n",
      "23 [1, 11, 0, 0] [1, 110, 0, 0] 4 2 3 inf\n",
      "0 9 0\n",
      "0 [1, 0, 0, 0] [0, 0, 0, 0] 3 4 inf inf\n",
      "1 [1, 0, 0, 0] [1, 0, 0, 0] 2 3 inf inf\n",
      "2 [1, 0, 0, 0] [2, 0, 0, 0] 1 2 inf inf\n",
      "3 [1, 0, 0, 0] [3, 0, 0, 0] 0 1 inf inf\n",
      "4 [1, 1, 0, 0] [1, 0, 0, 0] 2 3 7 inf\n",
      "5 [1, 1, 0, 0] [2, 1, 0, 0] 1 2 6 inf\n",
      "6 [1, 1, 0, 0] [3, 2, 0, 0] 0 1 5 inf\n",
      "7 [1, 2, 0, 0] [1, 3, 0, 0] 2 3 4 inf\n",
      "8 [1, 2, 0, 0] [2, 5, 0, 0] 1 2 3 inf\n",
      "9 [2, 2, 0, 0] [1, 7, 0, 0] 2 2 2 inf\n",
      "10 [2, 2, 0, 0] [3, 9, 0, 0] 1 1 1 inf\n",
      "11 [2, 2, 1, 0] [2, 3, 0, 0] 1 2 4 9\n",
      "12 [2, 2, 1, 0] [4, 5, 1, 0] 0 1 3 8\n",
      "13 [2, 3, 1, 0] [3, 7, 2, 0] 1 1 2 7\n",
      "14 [3, 3, 1, 0] [3, 10, 3, 0] 1 1 1 6\n",
      "15 [3, 3, 2, 0] [3, 5, 4, 0] 1 1 2 5\n",
      "16 [3, 4, 2, 0] [3, 8, 6, 0] 1 1 1 4\n",
      "17 [3, 4, 3, 0] [3, 4, 8, 0] 1 1 2 3\n",
      "18 [3, 5, 3, 0] [3, 8, 11, 0] 1 1 1 2\n",
      "19 [3, 5, 4, 0] [3, 5, 14, 0] 1 1 2 1\n",
      "20 [3, 5, 4, 1] [3, 10, 6, 0] 1 1 1 3\n",
      "21 [3, 5, 5, 1] [3, 7, 10, 1] 1 1 2 2\n",
      "22 [4, 5, 5, 1] [4, 12, 15, 2] 1 1 1 1\n",
      "23 [4, 5, 5, 2] [5, 17, 8, 3] 1 1 1 2\n",
      "0 [1, 0, 0, 0] [0, 0, 0, 0] 3 4 inf inf\n",
      "1 [1, 0, 0, 0] [1, 0, 0, 0] 2 3 inf inf\n",
      "2 [1, 0, 0, 0] [2, 0, 0, 0] 1 2 inf inf\n",
      "3 [2, 0, 0, 0] [1, 0, 0, 0] 2 2 inf inf\n",
      "4 [2, 0, 0, 0] [3, 0, 0, 0] 1 1 inf inf\n",
      "5 [2, 1, 0, 0] [2, 0, 0, 0] 1 2 6 inf\n",
      "6 [3, 1, 0, 0] [2, 1, 0, 0] 1 2 6 inf\n",
      "7 [4, 1, 0, 0] [3, 2, 0, 0] 1 1 5 inf\n",
      "8 [4, 2, 0, 0] [4, 3, 0, 0] 1 1 3 inf\n",
      "9 [4, 3, 0, 0] [5, 5, 0, 0] 1 1 2 inf\n",
      "10 [4, 4, 0, 0] [6, 8, 0, 0] 0 2 2 inf\n",
      "11 [4, 4, 1, 0] [7, 4, 0, 0] 0 0 2 8\n",
      "12 [4, 5, 1, 0] [8, 8, 1, 0] 0 0 2 8\n",
      "13 [4, 5, 2, 0] [9, 5, 2, 0] 0 0 2 5\n",
      "14 [4, 6, 2, 0] [10, 10, 4, 0] -1 2 2 5\n",
      "15 [4, 6, 3, 0] [11, 8, 6, 0] -1 -1 2 3\n",
      "16 [4, 6, 4, 0] [12, 6, 9, 0] -1 -1 2 2\n",
      "17 [4, 7, 4, 0] [13, 12, 13, 0] -1 -1 2 2\n",
      "18 [4, 7, 4, 1] [14, 19, 5, 0] -2 2 2 3\n",
      "19 [4, 7, 5, 1] [15, 18, 9, 1] -2 -2 2 2\n",
      "20 [4, 7, 6, 1] [16, 17, 14, 2] -2 -2 2 2\n",
      "21 [4, 7, 6, 2] [17, 24, 8, 3] -2 -2 2 2\n",
      "22 [4, 7, 7, 2] [18, 23, 14, 5] -3 2 2 2\n",
      "23 [4, 7, 7, 3] [19, 30, 9, 7] -3 -3 2 2\n",
      "1 5 10\n"
     ]
    }
   ],
   "source": [
    "for i in range(len(blueprints)):\n",
    "    print(i,get_most_geode(blueprints[i]), get_most_geode_2(blueprints[i]))"
   ]
  },
  {
   "cell_type": "code",
   "execution_count": 26,
   "id": "b471d92a",
   "metadata": {},
   "outputs": [
    {
     "data": {
      "text/plain": [
       "[[4, 0, 0, 0], [2, 0, 0, 0], [3, 14, 0, 0], [2, 0, 7, 0]]"
      ]
     },
     "execution_count": 26,
     "metadata": {},
     "output_type": "execute_result"
    }
   ],
   "source": [
    "blueprints[0]"
   ]
  },
  {
   "cell_type": "code",
   "execution_count": 34,
   "id": "4a840bb5",
   "metadata": {},
   "outputs": [
    {
     "name": "stdout",
     "output_type": "stream",
     "text": [
      "0 [1, 0, 0, 0] [0, 0, 0, 0] 5 3 inf inf 23\n",
      "1 [1, 0, 0, 0] [1, 0, 0, 0] 4 2 inf inf 23\n",
      "2 [1, 0, 0, 0] [2, 0, 0, 0] 3 1 inf inf 23\n",
      "3 [1, 1, 0, 0] [1, 0, 0, 0] 4 2 9 inf 61\n",
      "4 [1, 1, 0, 0] [2, 1, 0, 0] 3 1 8 inf 61\n",
      "5 [1, 2, 0, 0] [1, 2, 0, 0] 4 2 6 inf 95\n",
      "6 [1, 2, 0, 0] [2, 4, 0, 0] 3 1 5 inf 95\n",
      "7 [1, 3, 0, 0] [1, 6, 0, 0] 4 2 4 inf 125\n",
      "8 [1, 3, 0, 0] [2, 9, 0, 0] 3 1 3 inf 125\n",
      "9 [1, 3, 0, 0] [3, 12, 0, 0] 2 0 2 inf 125\n",
      "10 [1, 3, 0, 0] [4, 15, 0, 0] 1 -1 1 inf 125\n",
      "11 [1, 3, 1, 0] [2, 4, 0, 0] 3 1 4 7 466\n",
      "12 [1, 4, 1, 0] [1, 7, 1, 0] 4 2 3 6 486\n",
      "13 [1, 4, 1, 0] [2, 11, 2, 0] 3 1 2 5 486\n",
      "14 [1, 4, 1, 0] [3, 15, 3, 0] 2 0 1 4 486\n",
      "15 [1, 4, 2, 0] [1, 5, 4, 0] 4 2 4 3 703\n",
      "16 [1, 4, 2, 0] [2, 9, 6, 0] 3 1 3 2 703\n",
      "17 [1, 4, 2, 0] [3, 13, 8, 0] 2 0 2 1 703\n",
      "18 [1, 4, 2, 1] [2, 17, 3, 0] 3 1 2 3 1579\n",
      "19 [1, 4, 2, 1] [3, 21, 5, 1] 2 0 1 2 1579\n",
      "20 [1, 4, 2, 1] [4, 25, 7, 2] 1 -1 0 1 1579\n",
      "21 [1, 4, 2, 2] [3, 29, 2, 3] 2 0 1 3 1798\n",
      "22 [1, 4, 3, 2] [1, 19, 4, 5] 4 2 3 2 1798\n",
      "23 [1, 4, 3, 2] [2, 23, 7, 7] 3 1 2 1 1798\n"
     ]
    },
    {
     "data": {
      "text/plain": [
       "9"
      ]
     },
     "execution_count": 34,
     "metadata": {},
     "output_type": "execute_result"
    }
   ],
   "source": [
    "get_most_geode(blueprints[0])"
   ]
  },
  {
   "cell_type": "code",
   "execution_count": 35,
   "id": "9fed5775",
   "metadata": {
    "scrolled": false
   },
   "outputs": [
    {
     "name": "stdout",
     "output_type": "stream",
     "text": [
      "0 [1, 0, 0, 0] [0, 0, 0, 0] 5 3 inf inf 23\n",
      "1 [1, 0, 0, 0] [1, 0, 0, 0] 4 2 inf inf 23\n",
      "2 [1, 0, 0, 0] [2, 0, 0, 0] 3 1 inf inf 23\n",
      "3 [1, 1, 0, 0] [1, 0, 0, 0] 4 2 9 inf 61\n",
      "4 [1, 1, 0, 0] [2, 1, 0, 0] 3 1 8 inf 61\n",
      "5 [1, 2, 0, 0] [1, 2, 0, 0] 4 2 6 inf 95\n",
      "6 [1, 2, 0, 0] [2, 4, 0, 0] 3 1 5 inf 95\n",
      "7 [1, 3, 0, 0] [1, 6, 0, 0] 4 2 4 inf 125\n",
      "8 [1, 3, 0, 0] [2, 9, 0, 0] 3 1 3 inf 125\n",
      "9 [1, 4, 0, 0] [1, 12, 0, 0] 4 2 3 inf 151\n",
      "10 [1, 4, 0, 0] [2, 16, 0, 0] 3 1 2 inf 151\n",
      "11 [1, 5, 0, 0] [1, 20, 0, 0] 4 2 3 inf 173\n",
      "12 [1, 5, 0, 0] [2, 25, 0, 0] 3 1 2 inf 173\n",
      "13 [1, 6, 0, 0] [1, 30, 0, 0] 4 2 3 inf 191\n",
      "14 [1, 6, 0, 0] [2, 36, 0, 0] 3 1 2 inf 191\n",
      "15 [1, 7, 0, 0] [1, 42, 0, 0] 4 2 3 inf 205\n",
      "16 [1, 7, 0, 0] [2, 49, 0, 0] 3 1 2 inf 205\n",
      "17 [1, 8, 0, 0] [1, 56, 0, 0] 4 2 3 inf 215\n",
      "18 [1, 8, 0, 0] [2, 64, 0, 0] 3 1 2 inf 215\n",
      "19 [1, 9, 0, 0] [1, 72, 0, 0] 4 2 3 inf 221\n",
      "20 [1, 9, 0, 0] [2, 81, 0, 0] 3 1 2 inf 221\n",
      "21 [1, 10, 0, 0] [1, 90, 0, 0] 4 2 3 inf 223\n",
      "22 [1, 10, 0, 0] [2, 100, 0, 0] 3 1 2 inf 223\n",
      "23 [1, 11, 0, 0] [1, 110, 0, 0] 4 2 3 inf 221\n"
     ]
    },
    {
     "data": {
      "text/plain": [
       "0"
      ]
     },
     "execution_count": 35,
     "metadata": {},
     "output_type": "execute_result"
    }
   ],
   "source": [
    "get_most_geode_2(blueprints[0])"
   ]
  },
  {
   "cell_type": "code",
   "execution_count": 280,
   "id": "15a75733",
   "metadata": {},
   "outputs": [
    {
     "data": {
      "text/plain": [
       "[[2, 0, 0, 0], [3, 0, 0, 0], [3, 8, 0, 0], [3, 0, 12, 0]]"
      ]
     },
     "execution_count": 280,
     "metadata": {},
     "output_type": "execute_result"
    }
   ],
   "source": [
    "b = blueprints[1]\n",
    "b"
   ]
  },
  {
   "cell_type": "code",
   "execution_count": 281,
   "id": "713859fa",
   "metadata": {},
   "outputs": [],
   "source": [
    "t = 0\n",
    "R = [1,0,0,0]\n",
    "M = [0,0,0,0]"
   ]
  },
  {
   "cell_type": "code",
   "execution_count": 290,
   "id": "a94f4d56",
   "metadata": {},
   "outputs": [
    {
     "name": "stdout",
     "output_type": "stream",
     "text": [
      "14 [3, 3, 1, 0] [3, 10, 3, 0]\n",
      "[1, 1, 1, 6]\n",
      "[0, 1, 2, 2]\n",
      "\tbuild 2\n",
      "15 [3, 3, 2, 0] [3, 5, 4, 0]\n"
     ]
    }
   ],
   "source": [
    "print(t,R,M)\n",
    "T0,iR0 = time_to_build_R0(R,M,b)\n",
    "T1,iR1 = time_to_build_R1(R,M,b,T0)\n",
    "T2,iR2 = time_to_build_R2(R,M,b,T0,T1)\n",
    "T3,iR3 = time_to_build_R3(R,M,b,T0,T1,T2)\n",
    "\n",
    "Ts = [T0,T1,T2,T3]\n",
    "iR = [iR0,iR1,iR2,iR3]\n",
    "ir = 3\n",
    "\n",
    "while iR[ir] != ir :\n",
    "    ir = iR[ir]\n",
    "\n",
    "print(Ts)\n",
    "print(iR)\n",
    "print(\"\\tbuild\",ir)\n",
    "\n",
    "for i in range(Ts[ir]-1) :\n",
    "    R,M = one_digging_step(R, M)\n",
    "    t += 1\n",
    "    print(t,R,M)\n",
    "\n",
    "\n",
    "R,M = one_digging_step(R, M)\n",
    "R,M = buildR(R, M, b, ir)\n",
    "t+=1\n",
    "print(t,R,M)"
   ]
  },
  {
   "cell_type": "code",
   "execution_count": 207,
   "id": "82fd49a9",
   "metadata": {},
   "outputs": [
    {
     "data": {
      "text/plain": [
       "9"
      ]
     },
     "execution_count": 207,
     "metadata": {},
     "output_type": "execute_result"
    }
   ],
   "source": [
    "T2asis = max( math.ceil( (b[2][0]-M[0])/R[0] ) , math.ceil( (b[2][1]-M[1])/R[1] ) ) + 1\n",
    "\n",
    "T2asis"
   ]
  },
  {
   "cell_type": "code",
   "execution_count": 208,
   "id": "73ed394e",
   "metadata": {},
   "outputs": [
    {
     "data": {
      "text/plain": [
       "7"
      ]
     },
     "execution_count": 208,
     "metadata": {},
     "output_type": "execute_result"
    }
   ],
   "source": [
    "T2more1 = max( math.ceil( (b[2][0]+b[1][0]-M[0])/R[0] ) , math.ceil( (b[2][1]+T1-M[1])/(R[1]+1) ) ) + 1\n",
    "T2more1"
   ]
  },
  {
   "cell_type": "code",
   "execution_count": 210,
   "id": "473cc9eb",
   "metadata": {},
   "outputs": [
    {
     "data": {
      "text/plain": [
       "9"
      ]
     },
     "execution_count": 210,
     "metadata": {},
     "output_type": "execute_result"
    }
   ],
   "source": [
    "T2more0 = max( math.ceil( (b[2][0]+T0-M[0]+b[0][0])/(R[0]+1) ) , math.ceil( (b[2][1]-M[1])/R[1] ) ) + 1\n",
    "T2more0"
   ]
  },
  {
   "cell_type": "code",
   "execution_count": 241,
   "id": "214adeea",
   "metadata": {},
   "outputs": [
    {
     "name": "stdout",
     "output_type": "stream",
     "text": [
      "0 \t\t[0, 0, 0, 0] [0, 0, 0, 0]\n",
      "1 \t\t[0, 0, 0, 0] [0, 0, 0, 0]\n",
      "2 \t\t[0, 0, 0, 0] [0, 0, 0, 0]\n",
      "3 \t\t[0, 0, 0, 0] [0, 0, 0, 0]\n",
      "4 \t\t[0, 0, 0, 0] [0, 0, 0, 0]\n",
      "5 \t\t[0, 0, 0, 0] [0, 0, 0, 0]\n",
      "6 \t\t[0, 0, 0, 0] [0, 0, 0, 0]\n",
      "7 \t\t[0, 0, 0, 0] [0, 0, 0, 0]\n",
      "8 \t\t[0, 0, 0, 0] [0, 0, 0, 0]\n",
      "9 \t\t[0, 0, 0, 0] [0, 0, 0, 0]\n",
      "10 \t\t[0, 0, 0, 0] [0, 0, 0, 0]\n",
      "11 \t\t[0, 0, 0, 0] [0, 0, 0, 0]\n",
      "12 \t\t[0, 0, 0, 0] [0, 0, 0, 0]\n",
      "13 \t\t[0, 0, 0, 0] [0, 0, 0, 0]\n",
      "14 \t\t[0, 0, 0, 0] [0, 0, 0, 0]\n",
      "15 \t\t[0, 0, 0, 0] [0, 0, 0, 0]\n",
      "16 \t\t[0, 0, 0, 0] [0, 0, 0, 0]\n",
      "17 \t\t[0, 0, 0, 0] [0, 0, 0, 0]\n",
      "18 \t\t[0, 0, 0, 0] [0, 0, 0, 0]\n",
      "19 \t\t[0, 0, 0, 0] [0, 0, 0, 0]\n",
      "20 \t\t[0, 0, 0, 0] [0, 0, 0, 0]\n",
      "21 \t\t[0, 0, 0, 0] [0, 0, 0, 0]\n",
      "22 \t\t[0, 0, 0, 0] [0, 0, 0, 0]\n",
      "23 \t\t[0, 0, 0, 0] [0, 0, 0, 0]\n"
     ]
    }
   ],
   "source": [
    "for i in range(24) :\n",
    "    print(i,\"\\t\\t[0, 0, 0, 0] [0, 0, 0, 0]\")"
   ]
  },
  {
   "cell_type": "code",
   "execution_count": null,
   "id": "9e251d80",
   "metadata": {},
   "outputs": [],
   "source": [
    "\n",
    "    if T1 < T2asis :\n",
    "        # if one more R1\n",
    "        # b[2][0] = M[0] + T * R[0] - b[1][0]\n",
    "        # b[2][1] = M[1] + T * R[1] + (T-T1) \n",
    "        T2more1 = max( math.ceil( (b[2][0]+b[1][0]-M[0])/R[0] ) , math.ceil( (b[2][1]+T1-M[1])/(R[1]+1) ) ) + 1\n",
    "    else :\n",
    "        T2more1 = math.inf\n",
    "        \n",
    "    if T0 < T2asis :\n",
    "        # if one more R0\n",
    "        # b[2][0] = M[0] + T * R[0] - b[0][0] + (T-T0) \n",
    "        T2more0 = max( math.ceil( (b[2][0]+T0-M[0]+b[0][0])/(R[0]+1) ) , math.ceil( (b[2][1]-M[1])/R[1] ) ) + 1\n",
    "    else :\n",
    "        T2more0 = math.inf\n",
    "    \n",
    "    T2 = min(T2asis,T2more1,T2more0"
   ]
  },
  {
   "cell_type": "code",
   "execution_count": 186,
   "id": "8c460aed",
   "metadata": {},
   "outputs": [
    {
     "data": {
      "text/plain": [
       "[[2, 0, 0, 0], [3, 0, 0, 0], [3, 8, 0, 0], [3, 0, 12, 0]]"
      ]
     },
     "execution_count": 186,
     "metadata": {},
     "output_type": "execute_result"
    }
   ],
   "source": [
    "b"
   ]
  },
  {
   "cell_type": "code",
   "execution_count": 187,
   "id": "be9f176b",
   "metadata": {},
   "outputs": [
    {
     "data": {
      "text/plain": [
       "1"
      ]
     },
     "execution_count": 187,
     "metadata": {},
     "output_type": "execute_result"
    }
   ],
   "source": [
    "T1asis = math.ceil(  (b[1][0]-M[0])/R[0] ) + 1\n",
    "T1asis"
   ]
  },
  {
   "cell_type": "code",
   "execution_count": 152,
   "id": "7ffa433b",
   "metadata": {},
   "outputs": [
    {
     "data": {
      "text/plain": [
       "5"
      ]
     },
     "execution_count": 152,
     "metadata": {},
     "output_type": "execute_result"
    }
   ],
   "source": [
    "T1more0 = math.ceil( (b[1][0]+T0-M[0]+b[0][0])/(R[0]+1) ) + 1\n",
    "T1more0"
   ]
  },
  {
   "cell_type": "code",
   "execution_count": null,
   "id": "8d16aeea",
   "metadata": {},
   "outputs": [],
   "source": [
    "b[1][0] = M[0] + T*R[0] - b[0][0] + (T-T0)\n",
    "   3    =   0   + T*1    -  2      +  T-3\n",
    "       \n"
   ]
  },
  {
   "cell_type": "raw",
   "id": "074f8193",
   "metadata": {},
   "source": [
    "round Nore Nrobot0\n",
    "    0  0   1\n",
    "    1  1   1\n",
    "    2  2   1\n",
    "    3  1   2\n",
    "    4  3   2\n",
    "    5  2   2    1"
   ]
  },
  {
   "cell_type": "code",
   "execution_count": 149,
   "id": "f9c5ce2b",
   "metadata": {},
   "outputs": [
    {
     "data": {
      "text/plain": [
       "2"
      ]
     },
     "execution_count": 149,
     "metadata": {},
     "output_type": "execute_result"
    }
   ],
   "source": [
    "b[1][0] - T0 + M[0] + b[0][0]"
   ]
  },
  {
   "cell_type": "code",
   "execution_count": null,
   "id": "c5474997",
   "metadata": {},
   "outputs": [],
   "source": [
    "def time_to_build_R1(R,M,b,T0) :\n",
    "    # if no new robot :\n",
    "    T1asis = math.ceil(  (b[1][0]-M[0])/R[0] ) + 1\n",
    "\n",
    "    if T0 < T1asis :\n",
    "        # maybe better to build one more R0 :\n",
    "        T1more0 = math.ceil( (b[1][0]-T0-M[0]+b[0][0])/R[0] ) + 1\n",
    "        if T1more0 <= T1asis :\n",
    "            return T1more0,0\n",
    "    return T1asis,1"
   ]
  },
  {
   "cell_type": "code",
   "execution_count": null,
   "id": "f4dbd3b5",
   "metadata": {},
   "outputs": [],
   "source": []
  },
  {
   "cell_type": "raw",
   "id": "7a83fb5a",
   "metadata": {},
   "source": [
    "min = Ore * t\n"
   ]
  },
  {
   "cell_type": "code",
   "execution_count": 292,
   "id": "4721b319",
   "metadata": {},
   "outputs": [
    {
     "data": {
      "text/plain": [
       "[[2, 0, 0, 0], [3, 0, 0, 0], [3, 8, 0, 0], [3, 0, 12, 0]]"
      ]
     },
     "execution_count": 292,
     "metadata": {},
     "output_type": "execute_result"
    }
   ],
   "source": [
    "b"
   ]
  },
  {
   "cell_type": "raw",
   "id": "dc000b8c",
   "metadata": {},
   "source": [
    "V3 = b[3][0] * Ore + b[3][2] * V2\n",
    "V2 = b[2][0] * Ore + b[2][1] * V1\n",
    "V1 = b[1][0] * Ore\n",
    "V0 = b[0][0] * Ore\n",
    "\n",
    "(M[0] + M[1]*V1 + M[2]*V2 + M[3]*V[3]) + (R[0] + R[1]*V1 + R[2]*V2 + R[3]*V[3]) * (24-t) "
   ]
  },
  {
   "cell_type": "code",
   "execution_count": null,
   "id": "61f20e54",
   "metadata": {},
   "outputs": [],
   "source": []
  },
  {
   "cell_type": "code",
   "execution_count": 293,
   "id": "ab10bcd8",
   "metadata": {},
   "outputs": [
    {
     "data": {
      "text/plain": [
       "[[2, 0, 0, 0], [3, 0, 0, 0], [3, 8, 0, 0], [3, 0, 12, 0]]"
      ]
     },
     "execution_count": 293,
     "metadata": {},
     "output_type": "execute_result"
    }
   ],
   "source": [
    "b"
   ]
  },
  {
   "cell_type": "code",
   "execution_count": 295,
   "id": "0766ba5a",
   "metadata": {},
   "outputs": [
    {
     "name": "stdout",
     "output_type": "stream",
     "text": [
      "0 [1, 0, 0, 0] [1, 0, 0, 0]\n",
      "1 [1, 0, 0, 0] [2, 0, 0, 0]\n",
      "2 [2, 0, 0, 0] [1, 0, 0, 0]\n",
      "3 [2, 0, 0, 0] [3, 0, 0, 0]\n",
      "4 [3, 0, 0, 0] [3, 0, 0, 0]\n",
      "5 [4, 0, 0, 0] [4, 0, 0, 0]\n",
      "6 [5, 0, 0, 0] [6, 0, 0, 0]\n",
      "7 [6, 0, 0, 0] [9, 0, 0, 0]\n",
      "8 [7, 0, 0, 0] [13, 0, 0, 0]\n",
      "9 [8, 0, 0, 0] [18, 0, 0, 0]\n",
      "10 [9, 0, 0, 0] [24, 0, 0, 0]\n",
      "11 [10, 0, 0, 0] [31, 0, 0, 0]\n",
      "12 [11, 0, 0, 0] [39, 0, 0, 0]\n",
      "13 [12, 0, 0, 0] [48, 0, 0, 0]\n",
      "14 [13, 0, 0, 0] [58, 0, 0, 0]\n",
      "15 [14, 0, 0, 0] [69, 0, 0, 0]\n",
      "16 [15, 0, 0, 0] [81, 0, 0, 0]\n",
      "17 [16, 0, 0, 0] [94, 0, 0, 0]\n",
      "18 [17, 0, 0, 0] [108, 0, 0, 0]\n",
      "19 [18, 0, 0, 0] [123, 0, 0, 0]\n",
      "20 [19, 0, 0, 0] [139, 0, 0, 0]\n",
      "21 [20, 0, 0, 0] [156, 0, 0, 0]\n",
      "22 [21, 0, 0, 0] [174, 0, 0, 0]\n",
      "23 [22, 0, 0, 0] [193, 0, 0, 0]\n"
     ]
    }
   ],
   "source": [
    "\n",
    "R = [1,0,0,0]\n",
    "M = [0,0,0,0]\n",
    "\n",
    "for i in range(24) :\n",
    "    opt = construction_option(R, M, b)\n",
    "\n",
    "    R,M = one_digging_step(R, M)\n",
    "    if  0 in opt:\n",
    "        R,M = buildR(R, M, b, 0) \n",
    "    print(i , R, M)"
   ]
  },
  {
   "cell_type": "code",
   "execution_count": null,
   "id": "5824055a",
   "metadata": {},
   "outputs": [],
   "source": []
  },
  {
   "cell_type": "code",
   "execution_count": null,
   "id": "ec46d543",
   "metadata": {},
   "outputs": [],
   "source": []
  }
 ],
 "metadata": {
  "kernelspec": {
   "display_name": "Python 3 (ipykernel)",
   "language": "python",
   "name": "python3"
  },
  "language_info": {
   "codemirror_mode": {
    "name": "ipython",
    "version": 3
   },
   "file_extension": ".py",
   "mimetype": "text/x-python",
   "name": "python",
   "nbconvert_exporter": "python",
   "pygments_lexer": "ipython3",
   "version": "3.10.2"
  }
 },
 "nbformat": 4,
 "nbformat_minor": 5
}
