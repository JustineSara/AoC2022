{
 "cells": [
  {
   "cell_type": "code",
   "execution_count": 16,
   "id": "772d83ff",
   "metadata": {},
   "outputs": [],
   "source": [
    "import numpy as np"
   ]
  },
  {
   "cell_type": "code",
   "execution_count": 1,
   "id": "7a821f42",
   "metadata": {},
   "outputs": [],
   "source": [
    "test_input = '''Sabqponm\n",
    "abcryxxl\n",
    "accszExk\n",
    "acctuvwj\n",
    "abdefghi'''"
   ]
  },
  {
   "cell_type": "code",
   "execution_count": 2,
   "id": "ce607142",
   "metadata": {},
   "outputs": [],
   "source": [
    "import requests\n",
    "\n",
    "URL = \"https://adventofcode.com/{year}/day/{day}/input\"\n",
    "url = URL.format(year='2022', day=12)\n",
    "cookies = {\"session\":\"53616c7465645f5fd345d8c12076a357c8d31b2c0c4ad1c152eefbd5c1cf09e0c8d6d7f657fc558887d443d2d07fbc90728ada9b6a91afcecb9926ffb4981a93\"}\n",
    "req = requests.get(url, cookies=cookies)\n",
    "\n",
    "if req.status_code != 200:\n",
    "    print(\"Error. Got status:\", req.status_code)\n",
    "    print(req.text)\n",
    "    exit(3)\n",
    "else:\n",
    "    my_input = req.text"
   ]
  },
  {
   "cell_type": "code",
   "execution_count": null,
   "id": "b2b8208c",
   "metadata": {},
   "outputs": [],
   "source": []
  },
  {
   "cell_type": "code",
   "execution_count": 59,
   "id": "78b910ee",
   "metadata": {},
   "outputs": [],
   "source": [
    "def value_map(this_input) :\n",
    "    \n",
    "    le_map = np.matrix([[le for le in li] for li in this_input.split(\"\\n\") if li!=\"\"])\n",
    "    \n",
    "    loc = np.where(le_map=='S')\n",
    "    S = (loc[0].item(0),loc[1].item(0))\n",
    "    \n",
    "    loc = np.where(le_map=='E')\n",
    "    E = (loc[0].item(0),loc[1].item(0))\n",
    "    \n",
    "    le_map[S[0],S[1]] = 'a'\n",
    "    le_map[E[0],E[1]] = 'z'\n",
    "    \n",
    "    vf = np.vectorize(ord)\n",
    "    v_map = vf(le_map)\n",
    "    \n",
    "    return v_map, S, E"
   ]
  },
  {
   "cell_type": "code",
   "execution_count": 82,
   "id": "714a4839",
   "metadata": {},
   "outputs": [],
   "source": [
    "def initialise_path_finding(v_map,S,E) :\n",
    "    positions = [S]\n",
    "    length = [0]\n",
    "    all_visited_pos = [S]\n",
    "    return positions,length,all_visited_pos"
   ]
  },
  {
   "cell_type": "code",
   "execution_count": 86,
   "id": "3f25d309",
   "metadata": {},
   "outputs": [],
   "source": [
    "def one_step(v_map,E,positions,length,all_visited_pos) :\n",
    "    \n",
    "    max0 = v_map.shape[0]\n",
    "    max1 = v_map.shape[1]\n",
    "    \n",
    "    min_length = min(length)\n",
    "    i = length.index(min_length)\n",
    "    pos = positions.pop(i)\n",
    "    l = length.pop(i)\n",
    "    \n",
    "    for new_pos in [ (pos[0]-1,pos[1]) , (pos[0]+1,pos[1]), (pos[0],pos[1]-1), (pos[0],pos[1]+1) ] :\n",
    "        \n",
    "        if new_pos[0]<0 or new_pos[0]>=max0 or new_pos[1]<0 or new_pos[1]>=max1 :\n",
    "            continue\n",
    "        \n",
    "        if new_pos in all_visited_pos :\n",
    "            continue\n",
    "        \n",
    "        if v_map[new_pos] <= v_map[pos]+1 :\n",
    "            positions.append(new_pos)\n",
    "            length.append(l+1)\n",
    "            all_visited_pos.append(new_pos)\n",
    "            if new_pos == E :\n",
    "                return False, l+1 , positions,length,all_visited_pos\n",
    "    \n",
    "    return True, -1 , positions,length,all_visited_pos\n",
    "    "
   ]
  },
  {
   "cell_type": "code",
   "execution_count": null,
   "id": "48c0f5df",
   "metadata": {},
   "outputs": [],
   "source": []
  },
  {
   "cell_type": "code",
   "execution_count": 109,
   "id": "b9d9228e",
   "metadata": {},
   "outputs": [],
   "source": [
    "v_map,S,E = value_map(test_input)"
   ]
  },
  {
   "cell_type": "code",
   "execution_count": 104,
   "id": "5ab1cfa1",
   "metadata": {},
   "outputs": [],
   "source": [
    "positions,length,all_visited_pos = initialise_path_finding(v_map,S,E)"
   ]
  },
  {
   "cell_type": "code",
   "execution_count": 105,
   "id": "368fb2c7",
   "metadata": {},
   "outputs": [
    {
     "name": "stdout",
     "output_type": "stream",
     "text": [
      "31\n"
     ]
    }
   ],
   "source": [
    "t = True\n",
    "while t:\n",
    "    t, r, positions,length,all_visited_pos = one_step(v_map,E,positions,length,all_visited_pos)\n",
    "    \n",
    "print(r)\n"
   ]
  },
  {
   "cell_type": "code",
   "execution_count": null,
   "id": "8f550287",
   "metadata": {},
   "outputs": [],
   "source": []
  },
  {
   "cell_type": "code",
   "execution_count": 106,
   "id": "fab37b89",
   "metadata": {},
   "outputs": [],
   "source": [
    "v_map,S,E = value_map(my_input)"
   ]
  },
  {
   "cell_type": "code",
   "execution_count": 107,
   "id": "e79ec62a",
   "metadata": {},
   "outputs": [],
   "source": [
    "positions,length,all_visited_pos = initialise_path_finding(v_map,S,E)"
   ]
  },
  {
   "cell_type": "code",
   "execution_count": 108,
   "id": "38321bd7",
   "metadata": {},
   "outputs": [
    {
     "name": "stdout",
     "output_type": "stream",
     "text": [
      "339\n"
     ]
    }
   ],
   "source": [
    "t = True\n",
    "while t:\n",
    "    t, r, positions,length,all_visited_pos = one_step(v_map,E,positions,length,all_visited_pos)\n",
    "    \n",
    "print(r)\n"
   ]
  },
  {
   "cell_type": "code",
   "execution_count": null,
   "id": "df17b698",
   "metadata": {},
   "outputs": [],
   "source": []
  },
  {
   "cell_type": "code",
   "execution_count": null,
   "id": "2572d791",
   "metadata": {},
   "outputs": [],
   "source": []
  },
  {
   "cell_type": "markdown",
   "id": "ed674b93",
   "metadata": {},
   "source": [
    "# Part 2"
   ]
  },
  {
   "cell_type": "code",
   "execution_count": 144,
   "id": "235c0f73",
   "metadata": {},
   "outputs": [],
   "source": [
    "def initialise_path_finding_2(v_map) :\n",
    "    \n",
    "    pos = np.where(v_map==97) # ord('a') -> 97\n",
    "    Npos = len(pos[0])\n",
    "    positions = [ (pos[0][i],pos[1][i]) for i in range(Npos) ]\n",
    "    length = [0 for i in range(Npos)]\n",
    "    all_visited_pos = positions.copy()    \n",
    "    \n",
    "    return positions,length,all_visited_pos"
   ]
  },
  {
   "cell_type": "code",
   "execution_count": null,
   "id": "bc1fa9ae",
   "metadata": {},
   "outputs": [],
   "source": []
  },
  {
   "cell_type": "code",
   "execution_count": null,
   "id": "91c991e4",
   "metadata": {},
   "outputs": [],
   "source": []
  },
  {
   "cell_type": "code",
   "execution_count": 145,
   "id": "48b1753c",
   "metadata": {},
   "outputs": [],
   "source": [
    "v_map,S,E = value_map(test_input)"
   ]
  },
  {
   "cell_type": "code",
   "execution_count": 146,
   "id": "c796775d",
   "metadata": {},
   "outputs": [],
   "source": [
    "positions, length, all_visited_pos = initialise_path_finding_2(v_map)"
   ]
  },
  {
   "cell_type": "code",
   "execution_count": 148,
   "id": "12c8e677",
   "metadata": {},
   "outputs": [
    {
     "name": "stdout",
     "output_type": "stream",
     "text": [
      "29\n"
     ]
    }
   ],
   "source": [
    "t = True\n",
    "while t:\n",
    "    t, r, positions,length,all_visited_pos = one_step(v_map,E,positions,length,all_visited_pos)\n",
    "    \n",
    "print(r)\n"
   ]
  },
  {
   "cell_type": "code",
   "execution_count": null,
   "id": "a52830de",
   "metadata": {},
   "outputs": [],
   "source": []
  },
  {
   "cell_type": "code",
   "execution_count": 149,
   "id": "87f1a509",
   "metadata": {},
   "outputs": [],
   "source": [
    "v_map,S,E = value_map(my_input)"
   ]
  },
  {
   "cell_type": "code",
   "execution_count": 150,
   "id": "fef39ff5",
   "metadata": {},
   "outputs": [],
   "source": [
    "positions, length, all_visited_pos = initialise_path_finding_2(v_map)"
   ]
  },
  {
   "cell_type": "code",
   "execution_count": 152,
   "id": "91360a6e",
   "metadata": {},
   "outputs": [
    {
     "name": "stdout",
     "output_type": "stream",
     "text": [
      "332\n"
     ]
    }
   ],
   "source": [
    "t = True\n",
    "while t:\n",
    "    t, r, positions,length,all_visited_pos = one_step(v_map,E,positions,length,all_visited_pos)\n",
    "    \n",
    "print(r)\n",
    "\n",
    "# 355 too high"
   ]
  },
  {
   "cell_type": "code",
   "execution_count": null,
   "id": "fcb425eb",
   "metadata": {},
   "outputs": [],
   "source": []
  }
 ],
 "metadata": {
  "kernelspec": {
   "display_name": "Python 3 (ipykernel)",
   "language": "python",
   "name": "python3"
  },
  "language_info": {
   "codemirror_mode": {
    "name": "ipython",
    "version": 3
   },
   "file_extension": ".py",
   "mimetype": "text/x-python",
   "name": "python",
   "nbconvert_exporter": "python",
   "pygments_lexer": "ipython3",
   "version": "3.10.2"
  }
 },
 "nbformat": 4,
 "nbformat_minor": 5
}
