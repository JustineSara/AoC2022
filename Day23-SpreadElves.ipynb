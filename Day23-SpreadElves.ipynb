{
 "cells": [
  {
   "cell_type": "code",
   "execution_count": null,
   "id": "9e2d64de",
   "metadata": {},
   "outputs": [],
   "source": []
  },
  {
   "cell_type": "code",
   "execution_count": 2,
   "id": "db017a9b",
   "metadata": {},
   "outputs": [],
   "source": [
    "test_input = \"\"\"....#..\n",
    "..###.#\n",
    "#...#.#\n",
    ".#...##\n",
    "#.###..\n",
    "##.#.##\n",
    ".#..#..\"\"\""
   ]
  },
  {
   "cell_type": "code",
   "execution_count": 168,
   "id": "1f33ff49",
   "metadata": {},
   "outputs": [],
   "source": [
    "import requests\n",
    "\n",
    "URL = \"https://adventofcode.com/{year}/day/{day}/input\"\n",
    "url = URL.format(year='2022', day=23)\n",
    "cookies = {\"session\":\"53616c7465645f5fd345d8c12076a357c8d31b2c0c4ad1c152eefbd5c1cf09e0c8d6d7f657fc558887d443d2d07fbc90728ada9b6a91afcecb9926ffb4981a93\"}\n",
    "req = requests.get(url, cookies=cookies)\n",
    "\n",
    "if req.status_code != 200:\n",
    "    print(\"Error. Got status:\", req.status_code)\n",
    "    print(req.text)\n",
    "    exit(3)\n",
    "else:\n",
    "    my_input = req.text"
   ]
  },
  {
   "cell_type": "code",
   "execution_count": 131,
   "id": "9945ea66",
   "metadata": {},
   "outputs": [],
   "source": [
    "small_test_input = \"\"\".....\n",
    "..##.\n",
    "..#..\n",
    ".....\n",
    "..##.\n",
    ".....\"\"\""
   ]
  },
  {
   "cell_type": "code",
   "execution_count": null,
   "id": "e86be2fc",
   "metadata": {},
   "outputs": [],
   "source": []
  },
  {
   "cell_type": "code",
   "execution_count": null,
   "id": "95f12f6e",
   "metadata": {},
   "outputs": [],
   "source": []
  },
  {
   "cell_type": "code",
   "execution_count": 10,
   "id": "369bacb0",
   "metadata": {},
   "outputs": [],
   "source": [
    "def get_elves_start(this_input):\n",
    "    elves = []\n",
    "\n",
    "    y = 0\n",
    "    for l in this_input.split(\"\\n\") :\n",
    "        if l == \"\" :\n",
    "            continue\n",
    "        for x in range(len(l)) :\n",
    "            if l[x] == \"#\" :\n",
    "                elves.append((x,y))\n",
    "        y += 1\n",
    "    print(\"There are\",len(elves),\"elves\")\n",
    "    return elves"
   ]
  },
  {
   "cell_type": "raw",
   "id": "cd75f02f",
   "metadata": {},
   "source": [
    "      ^ y- North\n",
    "      |\n",
    "x-    |\n",
    "<-----|-------> x+\n",
    "      |\n",
    "      |\n",
    "      v y+"
   ]
  },
  {
   "cell_type": "code",
   "execution_count": 144,
   "id": "44564962",
   "metadata": {},
   "outputs": [],
   "source": [
    "def first_half(elves) :\n",
    "    testN = []\n",
    "    testS = []\n",
    "    testE = []\n",
    "    testW = []\n",
    "\n",
    "    for e in elves :\n",
    "        xe,ye = e\n",
    "        testN.append( all([(x,ye-1) not in elves for x in [xe-1,xe,xe+1]]) )\n",
    "        testS.append( all([(x,ye+1) not in elves for x in [xe-1,xe,xe+1]]) )\n",
    "        testE.append( all([(xe+1,y) not in elves for y in [ye-1,ye,ye+1]]) )\n",
    "        testW.append( all([(xe-1,y) not in elves for y in [ye-1,ye,ye+1]]) )\n",
    "    move_sum = [ testN[i]+testS[i]+testE[i]+testW[i] for i in range(len(elves)) ]\n",
    "    move = [ ms>0 and ms<4 for ms in move_sum ]\n",
    "    return move, [testN, testS, testW, testE]"
   ]
  },
  {
   "cell_type": "code",
   "execution_count": 145,
   "id": "4a1fcf70",
   "metadata": {},
   "outputs": [],
   "source": [
    "def get_next_positions(elves,move,tests,orderM) :\n",
    "    pos = []\n",
    "    for i in range(len(elves)) :\n",
    "#         print(i,elves[i],move[i])\n",
    "        if move[i] :\n",
    "            for im in orderM :\n",
    "#                 print(\"\\t\",im,tests[im][i])\n",
    "                if tests[im][i] :\n",
    "                    new_pos = elves[i][0] + (im>1)*(im*2-5) , elves[i][1] + (im*2-1) * (im<2)\n",
    "#                     print(\"\\t\\t\",new_pos)\n",
    "                    pos.append(new_pos)\n",
    "                    break\n",
    "        else :\n",
    "            pos.append(None)\n",
    "#         print(pos,\"\\n\")\n",
    "    \n",
    "#     print(pos)\n",
    "    Npos = { p : pos.count(p) for p in set(pos)}\n",
    "#     print(Npos)\n",
    "    for p in Npos.keys() :\n",
    "        if p and Npos[p] > 1 :\n",
    "#             print(p,Npos[p])\n",
    "            for ip in range(Npos[p]) :\n",
    "#                 print(\"\\t\",pos.index(p))\n",
    "                pos[pos.index(p)] = None\n",
    "            \n",
    "#     print(pos)\n",
    "    return pos"
   ]
  },
  {
   "cell_type": "code",
   "execution_count": 141,
   "id": "a23df796",
   "metadata": {},
   "outputs": [],
   "source": [
    "def print_elves(elves) :\n",
    "    s = \"\"\n",
    "    for y in range(min([e[1] for e in elves]),max([e[1] for e in elves])+1) :\n",
    "        for x in range(min([e[0] for e in elves]),max([e[0] for e in elves])+1) :\n",
    "            if (x,y) in elves :\n",
    "                s += \"#\"\n",
    "            else :\n",
    "                s += \".\"\n",
    "        s += \"\\n\"\n",
    "    print(s)"
   ]
  },
  {
   "cell_type": "code",
   "execution_count": 164,
   "id": "1bd6dd18",
   "metadata": {},
   "outputs": [],
   "source": [
    "def get_answer(elves) :\n",
    "    xmin = min([e[1] for e in elves])\n",
    "    xmax = max([e[1] for e in elves])\n",
    "    ymin = min([e[0] for e in elves])\n",
    "    ymax = max([e[0] for e in elves])\n",
    "    return (xmax-xmin+1)*(ymax-ymin+1) - len(elves)"
   ]
  },
  {
   "cell_type": "code",
   "execution_count": 42,
   "id": "8061e9bf",
   "metadata": {},
   "outputs": [
    {
     "name": "stdout",
     "output_type": "stream",
     "text": [
      "[1, 2, 3, 4]\n",
      "[2, 3, 4, 1]\n"
     ]
    }
   ],
   "source": [
    "A = [1,2,3,4]\n",
    "print(A)\n",
    "A.append(A.pop(0))\n",
    "print(A)"
   ]
  },
  {
   "cell_type": "code",
   "execution_count": null,
   "id": "bf819ca4",
   "metadata": {},
   "outputs": [],
   "source": []
  },
  {
   "cell_type": "raw",
   "id": "3343f6d0",
   "metadata": {},
   "source": [
    "....#..\n",
    "..###.#\n",
    "#...#.#\n",
    ".#...##\n",
    "#.###..\n",
    "##.#.##\n",
    ".#..#..\n"
   ]
  },
  {
   "cell_type": "raw",
   "id": "8012e0ae",
   "metadata": {},
   "source": [
    "tests = N S W E = the first order \n",
    "orderM  0 1 2 3   im\n",
    "        x x x x\n",
    "            - +\n",
    "            1 1\n",
    "        y y y y\n",
    "        - +\n",
    "        1 1\n",
    "        "
   ]
  },
  {
   "cell_type": "code",
   "execution_count": null,
   "id": "1b5a7807",
   "metadata": {},
   "outputs": [],
   "source": []
  },
  {
   "cell_type": "code",
   "execution_count": 146,
   "id": "4020f0e4",
   "metadata": {},
   "outputs": [
    {
     "name": "stdout",
     "output_type": "stream",
     "text": [
      "There are 5 elves\n"
     ]
    }
   ],
   "source": [
    "elves = get_elves_start(small_test_input)"
   ]
  },
  {
   "cell_type": "code",
   "execution_count": 147,
   "id": "bb8697d5",
   "metadata": {},
   "outputs": [],
   "source": [
    "move, tests = first_half(elves)\n",
    "orderM = [0,1,2,3]\n",
    "count = 0"
   ]
  },
  {
   "cell_type": "code",
   "execution_count": 148,
   "id": "3fbbcc0c",
   "metadata": {},
   "outputs": [
    {
     "name": "stdout",
     "output_type": "stream",
     "text": [
      "1 5 5 5 \n",
      "\t [(2, 1), (3, 1), (2, 2), (2, 4), (3, 4)] \n",
      "\t [True, True, True, True, True] \n",
      "\t [(2, 0), (3, 0), None, None, (3, 3)]\n",
      "##\n",
      "..\n",
      "#.\n",
      ".#\n",
      "#.\n",
      "\n",
      "\n",
      "2 5 5 5 \n",
      "\t [(2, 0), (3, 0), (2, 2), (2, 4), (3, 3)] \n",
      "\t [True, True, True, True, True] \n",
      "\t [(2, 1), (3, 1), (1, 2), (2, 5), (4, 3)]\n",
      ".##.\n",
      "#...\n",
      "...#\n",
      "....\n",
      ".#..\n",
      "\n",
      "\n",
      "3 5 5 5 \n",
      "\t [(2, 1), (3, 1), (1, 2), (2, 5), (4, 3)] \n",
      "\t [True, True, True, False, False] \n",
      "\t [(2, 0), (4, 1), (0, 2), None, None]\n",
      "..#..\n",
      "....#\n",
      "#....\n",
      "....#\n",
      ".....\n",
      "..#..\n",
      "\n",
      "\n"
     ]
    }
   ],
   "source": [
    "\n",
    "while sum(move) > 0 :\n",
    "    count +=1\n",
    "\n",
    "    npos = get_next_positions(elves,move,tests,orderM)\n",
    "    \n",
    "    print(count, len(elves), len(move), len(npos), \"\\n\\t\", elves, \"\\n\\t\", move,\"\\n\\t\", npos)\n",
    "    \n",
    "    elves = [npos[i] if npos[i] else elves[i] for i in range(len(elves))]\n",
    "    \n",
    "    orderM.append(orderM.pop(0))\n",
    "    move, tests = first_half(elves)\n",
    "    \n",
    "    print_elves(elves)\n",
    "    print(\"\")"
   ]
  },
  {
   "cell_type": "code",
   "execution_count": null,
   "id": "5c3d271d",
   "metadata": {},
   "outputs": [],
   "source": []
  },
  {
   "cell_type": "code",
   "execution_count": null,
   "id": "09f0233e",
   "metadata": {},
   "outputs": [],
   "source": []
  },
  {
   "cell_type": "code",
   "execution_count": 176,
   "id": "db5c2200",
   "metadata": {},
   "outputs": [
    {
     "name": "stdout",
     "output_type": "stream",
     "text": [
      "There are 22 elves\n"
     ]
    }
   ],
   "source": [
    "elves = get_elves_start(test_input)\n",
    "move, tests = first_half(elves)\n",
    "orderM = [0,1,2,3]\n",
    "count = 0"
   ]
  },
  {
   "cell_type": "code",
   "execution_count": 177,
   "id": "a9e3929c",
   "metadata": {},
   "outputs": [],
   "source": [
    "\n",
    "while sum(move) > 0 :\n",
    "# for r in range(10) :\n",
    "    count +=1\n",
    "\n",
    "    npos = get_next_positions(elves,move,tests,orderM)\n",
    "    \n",
    "#     print(count, len(elves), len(move), len(npos), \"\\n\\t\", elves, \"\\n\\t\", move,\"\\n\\t\", npos)\n",
    "    \n",
    "    elves = [npos[i] if npos[i] else elves[i] for i in range(len(elves))]\n",
    "    \n",
    "    orderM.append(orderM.pop(0))\n",
    "    move, tests = first_half(elves)\n",
    "    \n",
    "    \n",
    "#     print_elves(elves)\n",
    "#     print(\"\")"
   ]
  },
  {
   "cell_type": "code",
   "execution_count": 167,
   "id": "9ec75865",
   "metadata": {},
   "outputs": [
    {
     "data": {
      "text/plain": [
       "110"
      ]
     },
     "execution_count": 167,
     "metadata": {},
     "output_type": "execute_result"
    }
   ],
   "source": [
    "get_answer(elves)"
   ]
  },
  {
   "cell_type": "code",
   "execution_count": 178,
   "id": "96c1b132",
   "metadata": {},
   "outputs": [
    {
     "data": {
      "text/plain": [
       "19"
      ]
     },
     "execution_count": 178,
     "metadata": {},
     "output_type": "execute_result"
    }
   ],
   "source": [
    "count"
   ]
  },
  {
   "cell_type": "code",
   "execution_count": null,
   "id": "763139af",
   "metadata": {},
   "outputs": [],
   "source": []
  },
  {
   "cell_type": "code",
   "execution_count": 170,
   "id": "6a60a96c",
   "metadata": {},
   "outputs": [
    {
     "name": "stdout",
     "output_type": "stream",
     "text": [
      "There are 2637 elves\n"
     ]
    }
   ],
   "source": [
    "elves = get_elves_start(my_input)\n",
    "move, tests = first_half(elves)\n",
    "orderM = [0,1,2,3]\n",
    "count = 0"
   ]
  },
  {
   "cell_type": "code",
   "execution_count": 171,
   "id": "340d8aa4",
   "metadata": {},
   "outputs": [],
   "source": [
    "\n",
    "# while sum(move) > 0 :\n",
    "for r in range(10) :\n",
    "    count +=1\n",
    "\n",
    "    npos = get_next_positions(elves,move,tests,orderM)\n",
    "    \n",
    "#     print(count, len(elves), len(move), len(npos), \"\\n\\t\", elves, \"\\n\\t\", move,\"\\n\\t\", npos)\n",
    "    \n",
    "    elves = [npos[i] if npos[i] else elves[i] for i in range(len(elves))]\n",
    "    \n",
    "    orderM.append(orderM.pop(0))\n",
    "    move, tests = first_half(elves)\n",
    "    \n",
    "    \n",
    "#     print_elves(elves)\n",
    "#     print(\"\")"
   ]
  },
  {
   "cell_type": "code",
   "execution_count": 172,
   "id": "267e7bf3",
   "metadata": {},
   "outputs": [
    {
     "data": {
      "text/plain": [
       "4005"
      ]
     },
     "execution_count": 172,
     "metadata": {},
     "output_type": "execute_result"
    }
   ],
   "source": [
    "get_answer(elves)"
   ]
  },
  {
   "cell_type": "code",
   "execution_count": 173,
   "id": "a4cb6e04",
   "metadata": {},
   "outputs": [
    {
     "data": {
      "text/plain": [
       "10"
      ]
     },
     "execution_count": 173,
     "metadata": {},
     "output_type": "execute_result"
    }
   ],
   "source": [
    "count"
   ]
  },
  {
   "cell_type": "code",
   "execution_count": 174,
   "id": "83222a80",
   "metadata": {},
   "outputs": [],
   "source": [
    "\n",
    "while sum(move) > 0 :\n",
    "# for r in range(10) :\n",
    "    count +=1\n",
    "\n",
    "    npos = get_next_positions(elves,move,tests,orderM)\n",
    "    \n",
    "#     print(count, len(elves), len(move), len(npos), \"\\n\\t\", elves, \"\\n\\t\", move,\"\\n\\t\", npos)\n",
    "    \n",
    "    elves = [npos[i] if npos[i] else elves[i] for i in range(len(elves))]\n",
    "    \n",
    "    orderM.append(orderM.pop(0))\n",
    "    move, tests = first_half(elves)\n",
    "    \n",
    "    \n",
    "#     print_elves(elves)\n",
    "#     print(\"\")"
   ]
  },
  {
   "cell_type": "code",
   "execution_count": 179,
   "id": "4d4403b8",
   "metadata": {},
   "outputs": [
    {
     "data": {
      "text/plain": [
       "20"
      ]
     },
     "execution_count": 179,
     "metadata": {},
     "output_type": "execute_result"
    }
   ],
   "source": [
    "count + 1"
   ]
  },
  {
   "cell_type": "code",
   "execution_count": null,
   "id": "00296304",
   "metadata": {},
   "outputs": [],
   "source": []
  }
 ],
 "metadata": {
  "kernelspec": {
   "display_name": "Python 3 (ipykernel)",
   "language": "python",
   "name": "python3"
  },
  "language_info": {
   "codemirror_mode": {
    "name": "ipython",
    "version": 3
   },
   "file_extension": ".py",
   "mimetype": "text/x-python",
   "name": "python",
   "nbconvert_exporter": "python",
   "pygments_lexer": "ipython3",
   "version": "3.10.2"
  }
 },
 "nbformat": 4,
 "nbformat_minor": 5
}
