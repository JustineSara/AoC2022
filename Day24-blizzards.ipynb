{
 "cells": [
  {
   "cell_type": "code",
   "execution_count": 71,
   "id": "310fbe6a",
   "metadata": {},
   "outputs": [],
   "source": [
    "import time\n",
    "import math\n",
    "\n",
    "st = time.perf_counter()"
   ]
  },
  {
   "cell_type": "code",
   "execution_count": 9,
   "id": "6b630aee",
   "metadata": {},
   "outputs": [],
   "source": [
    "test_input = \"\"\"#.######\n",
    "#>>.<^<#\n",
    "#.<..<<#\n",
    "#>v.><>#\n",
    "#<^v^^>#\n",
    "######.#\"\"\""
   ]
  },
  {
   "cell_type": "code",
   "execution_count": 11,
   "id": "8e74da47",
   "metadata": {},
   "outputs": [],
   "source": [
    "short_test_input = \"\"\"#.#####\n",
    "#.....#\n",
    "#.>...#\n",
    "#.....#\n",
    "#.....#\n",
    "#...v.#\n",
    "#####.#\"\"\""
   ]
  },
  {
   "cell_type": "code",
   "execution_count": 18,
   "id": "127535a0",
   "metadata": {},
   "outputs": [],
   "source": [
    "import requests\n",
    "\n",
    "URL = \"https://adventofcode.com/{year}/day/{day}/input\"\n",
    "url = URL.format(year='2022', day=24)\n",
    "cookies = {\"session\":\"53616c7465645f5fd345d8c12076a357c8d31b2c0c4ad1c152eefbd5c1cf09e0c8d6d7f657fc558887d443d2d07fbc90728ada9b6a91afcecb9926ffb4981a93\"}\n",
    "req = requests.get(url, cookies=cookies)\n",
    "\n",
    "if req.status_code != 200:\n",
    "    print(\"Error. Got status:\", req.status_code)\n",
    "    print(req.text)\n",
    "    exit(3)\n",
    "else:\n",
    "    my_input = req.text"
   ]
  },
  {
   "cell_type": "code",
   "execution_count": null,
   "id": "25491d7d",
   "metadata": {},
   "outputs": [],
   "source": []
  },
  {
   "cell_type": "raw",
   "id": "94ff3103",
   "metadata": {},
   "source": [
    "def get_blizzards(this_input) :\n",
    "\n",
    "    blizz = {}\n",
    "    y = -1\n",
    "    \n",
    "    for l in this_input.split(\"\\n\") :\n",
    "        if l == \"\":\n",
    "            continue\n",
    "        x = -1\n",
    "        for e in l :\n",
    "            if e not in [\".\",\"#\"]:\n",
    "                blizz[(x,y)] = [e]\n",
    "            x+=1\n",
    "        y += 1\n",
    "    return blizz, x-1, y-1\n",
    "    \n",
    "    "
   ]
  },
  {
   "cell_type": "code",
   "execution_count": 106,
   "id": "7b1d2b1b",
   "metadata": {},
   "outputs": [],
   "source": [
    "def get_blizzards_Init(this_input) :\n",
    "\n",
    "    blizz = {}\n",
    "    y = -1\n",
    "    \n",
    "    for l in this_input.split(\"\\n\") :\n",
    "        if l == \"\":\n",
    "            continue\n",
    "        x = -1\n",
    "        for e in l :\n",
    "            if e not in [\".\",\"#\"]:\n",
    "                blizz[(x,y)] = e\n",
    "            x+=1\n",
    "        y += 1\n",
    "    return blizz, x-1, y-1\n",
    "    \n",
    "    "
   ]
  },
  {
   "cell_type": "code",
   "execution_count": 107,
   "id": "104f3a95",
   "metadata": {},
   "outputs": [],
   "source": [
    "def m_d(pos,T) :\n",
    "    return pos[0],(pos[1]+T)%lenY\n",
    "def m_u(pos,T) :\n",
    "    return pos[0],(pos[1]-T)%lenY\n",
    "def m_r(pos,T) :\n",
    "    return (pos[0]+T)%lenX,pos[1]\n",
    "def m_l(pos,T) :\n",
    "    return (pos[0]-T)%lenX,pos[1]"
   ]
  },
  {
   "cell_type": "raw",
   "id": "0b0720bc",
   "metadata": {},
   "source": [
    "def redef_blizz_atstartonly(blizz) :\n",
    "    for k, v in blizz.items():\n",
    "        m = v[0]\n",
    "        if m == \"^\" :\n",
    "            blizz[k] = [m_u]\n",
    "        if m == \"v\" :\n",
    "            blizz[k] = [m_d]\n",
    "        if m == \">\" :\n",
    "            blizz[k] = [m_r]\n",
    "        if m == \"<\" :\n",
    "            blizz[k] = [m_l]\n",
    "    return blizz"
   ]
  },
  {
   "cell_type": "code",
   "execution_count": 108,
   "id": "18637ed8",
   "metadata": {},
   "outputs": [],
   "source": [
    "def redef_blizz_atstartonly(blizz) :\n",
    "    for k, m in blizz.items():\n",
    "        if m == \"^\" :\n",
    "            blizz[k] = m_u\n",
    "        if m == \"v\" :\n",
    "            blizz[k] = m_d\n",
    "        if m == \">\" :\n",
    "            blizz[k] = m_r\n",
    "        if m == \"<\" :\n",
    "            blizz[k] = m_l\n",
    "    return blizz"
   ]
  },
  {
   "cell_type": "raw",
   "id": "856fa3a2",
   "metadata": {},
   "source": [
    "def move_blizzards_toT(blizz,T) :\n",
    "    \n",
    "    new_blizz = {}\n",
    "    \n",
    "    for p,lb in blizz.items() :\n",
    "        \n",
    "        for fm in lb :\n",
    "            new_pos = fm(p,T)\n",
    "            if new_pos in new_blizz.keys() :\n",
    "                new_blizz[new_pos].append(fm)\n",
    "            else :\n",
    "                new_blizz[new_pos] = [fm]\n",
    "    return new_blizz"
   ]
  },
  {
   "cell_type": "code",
   "execution_count": 118,
   "id": "b6fe18ac",
   "metadata": {},
   "outputs": [],
   "source": [
    "def get_blizzards_pos_atT(blizz,T) :\n",
    "    \n",
    "    blizz_pos = set()\n",
    "    \n",
    "    for p,fm in blizz.items() :\n",
    "        blizz_pos.add(fm(p,T))\n",
    "            \n",
    "    return blizz_pos"
   ]
  },
  {
   "cell_type": "code",
   "execution_count": 110,
   "id": "249fd921",
   "metadata": {},
   "outputs": [],
   "source": [
    "def min_move(pos,E_pos) :\n",
    "    # if no blizzard\n",
    "    return sum(E_pos[0])-sum(pos) "
   ]
  },
  {
   "cell_type": "code",
   "execution_count": 111,
   "id": "74383166",
   "metadata": {},
   "outputs": [],
   "source": [
    "def blizzards_cicled(lenX,lenY) :\n",
    "    return lenX * lenY / math.gcd(lenX,lenY)"
   ]
  },
  {
   "cell_type": "code",
   "execution_count": null,
   "id": "d54b1c17",
   "metadata": {},
   "outputs": [],
   "source": []
  },
  {
   "cell_type": "raw",
   "id": "5bf09a50",
   "metadata": {},
   "source": [
    "There is cycling blizzards every time reached commun denominator between lenX and lenY"
   ]
  },
  {
   "cell_type": "code",
   "execution_count": null,
   "id": "c20d117c",
   "metadata": {},
   "outputs": [],
   "source": []
  },
  {
   "cell_type": "code",
   "execution_count": 88,
   "id": "5495e0ae",
   "metadata": {},
   "outputs": [
    {
     "name": "stdout",
     "output_type": "stream",
     "text": [
      "2 \t( 5 , 5 )\n"
     ]
    }
   ],
   "source": [
    "S_blizz, lenX, lenY = get_blizzards(short_test_input)\n",
    "S_blizz = redef_blizz_atstartonly(S_blizz)\n",
    "print(len(S_blizz),\"\\t(\",lenX,\",\",lenY,\")\")"
   ]
  },
  {
   "cell_type": "raw",
   "id": "e06168fa",
   "metadata": {},
   "source": [
    "#.#####\n",
    "#.....#\n",
    "#.>...#  1,1\n",
    "#.....#\n",
    "#.....#\n",
    "#...v.#\n",
    "#####.#\n",
    "\n",
    "        time 1\n",
    "#.#####\n",
    "#...v.# 3,0\n",
    "#..>..# 2,1\n",
    "#.....#\n",
    "#.....#\n",
    "#.....#\n",
    "#####.#\n",
    "\n",
    "        time 2\n",
    "#.#####\n",
    "#.....#\n",
    "#...2.# 3,1 *2\n",
    "#.....#\n",
    "#.....#\n",
    "#.....#\n",
    "#####.#\n",
    "\n",
    "        time 3\n",
    "#.#####\n",
    "#.....#\n",
    "#....># 4,1\n",
    "#...v.# 3,2\n",
    "#.....#\n",
    "#.....#\n",
    "#####.#"
   ]
  },
  {
   "cell_type": "code",
   "execution_count": 76,
   "id": "a1b7e5f7",
   "metadata": {},
   "outputs": [
    {
     "data": {
      "text/plain": [
       "{(1, 1): [<function __main__.m_r(pos, T)>],\n",
       " (3, 4): [<function __main__.m_d(pos, T)>]}"
      ]
     },
     "execution_count": 76,
     "metadata": {},
     "output_type": "execute_result"
    }
   ],
   "source": [
    "blizz = move_blizzards_toT(S_blizz,5)\n",
    "blizz"
   ]
  },
  {
   "cell_type": "code",
   "execution_count": 77,
   "id": "9a6e2b91",
   "metadata": {},
   "outputs": [
    {
     "data": {
      "text/plain": [
       "{(1, 1): [<function __main__.m_r(pos, T)>],\n",
       " (3, 4): [<function __main__.m_d(pos, T)>]}"
      ]
     },
     "execution_count": 77,
     "metadata": {},
     "output_type": "execute_result"
    }
   ],
   "source": [
    "S_blizz"
   ]
  },
  {
   "cell_type": "code",
   "execution_count": 89,
   "id": "fecf1a6f",
   "metadata": {},
   "outputs": [
    {
     "data": {
      "text/plain": [
       "5.0"
      ]
     },
     "execution_count": 89,
     "metadata": {},
     "output_type": "execute_result"
    }
   ],
   "source": [
    "blizzards_cicled(lenX,lenY)"
   ]
  },
  {
   "cell_type": "code",
   "execution_count": null,
   "id": "ac19d0d3",
   "metadata": {},
   "outputs": [],
   "source": []
  },
  {
   "cell_type": "code",
   "execution_count": null,
   "id": "e073218c",
   "metadata": {},
   "outputs": [],
   "source": []
  },
  {
   "cell_type": "code",
   "execution_count": 156,
   "id": "bc29b30e",
   "metadata": {},
   "outputs": [
    {
     "name": "stdout",
     "output_type": "stream",
     "text": [
      "19 \t( 6 , 4 )\t 26\n"
     ]
    }
   ],
   "source": [
    "S_blizz, lenX, lenY = get_blizzards_Init(test_input)\n",
    "S_blizz = redef_blizz_atstartonly(S_blizz)\n",
    "\n",
    "S_epos = (0,-1)\n",
    "E_epos = (lenX-1,lenY)\n",
    "\n",
    "all_allowed_pos = set([(x,y) for x in range(lenX) for y in range(lenY)])\n",
    "all_allowed_pos.add(S_epos)\n",
    "all_allowed_pos.add(E_epos)\n",
    "\n",
    "print(len(S_blizz),\"\\t(\",lenX,\",\",lenY,\")\\t\",len(all_allowed_pos))"
   ]
  },
  {
   "cell_type": "code",
   "execution_count": 157,
   "id": "366ae05a",
   "metadata": {},
   "outputs": [
    {
     "data": {
      "text/plain": [
       "12.0"
      ]
     },
     "execution_count": 157,
     "metadata": {},
     "output_type": "execute_result"
    }
   ],
   "source": [
    "blizzards_cicled(lenX,lenY)"
   ]
  },
  {
   "cell_type": "code",
   "execution_count": 158,
   "id": "147ad7bb",
   "metadata": {},
   "outputs": [
    {
     "data": {
      "text/plain": [
       "True"
      ]
     },
     "execution_count": 158,
     "metadata": {},
     "output_type": "execute_result"
    }
   ],
   "source": [
    "set(S_blizz.keys()) == get_blizzards_pos_atT(S_blizz,12)"
   ]
  },
  {
   "cell_type": "code",
   "execution_count": null,
   "id": "63682fe2",
   "metadata": {},
   "outputs": [],
   "source": []
  },
  {
   "cell_type": "code",
   "execution_count": 159,
   "id": "9777fe27",
   "metadata": {
    "scrolled": true
   },
   "outputs": [
    {
     "name": "stdout",
     "output_type": "stream",
     "text": [
      "1 1 0.00020760000916197896\n",
      "2 2 0.00033599999733269215\n",
      "3 3 1.9700033590197563e-05\n",
      "4 2 1.6400008462369442e-05\n",
      "5 2 1.4199991710484028e-05\n",
      "6 2 1.4199991710484028e-05\n",
      "7 2 5.570001667365432e-05\n",
      "8 3 4.96999709866941e-05\n",
      "9 4 2.6200024876743555e-05\n",
      "10 3 3.890000516548753e-05\n",
      "11 3 2.4099950678646564e-05\n",
      "12 2 4.1199964471161366e-05\n",
      "13 3 4.3599982745945454e-05\n",
      "14 6 3.489997470751405e-05\n",
      "15 6 4.190002800896764e-05\n",
      "16 6 4.069996066391468e-05\n",
      "17 8 2.5999965146183968e-05\n",
      "18 9 1.9400031305849552e-05\n",
      "\tachieved! in: 18\n"
     ]
    }
   ],
   "source": [
    "all_epos = [S_epos]\n",
    "ti = 0\n",
    "st = time.perf_counter()\n",
    "\n",
    "while True :\n",
    "       \n",
    "    ti += 1\n",
    "     \n",
    "#     if ti % 1000 == 0 : \n",
    "    print(ti,len(all_epos), time.perf_counter() - st )\n",
    "    st = time.perf_counter()\n",
    "    \n",
    "\n",
    "    blizz_pos =  get_blizzards_pos_atT(S_blizz,ti)\n",
    "    \n",
    "    all_eposN = set()\n",
    "                \n",
    "    all_eposN = set([ (p[0]+dx,p[1]+dy)\n",
    "                     for p in all_epos \n",
    "                     for (dx,dy) in [(-1,0),(0,0),(+1,0),(0,-1),(0,+1)] \n",
    "                    ])\n",
    "    \n",
    "    all_epos = (all_eposN - blizz_pos).intersection(all_allowed_pos)\n",
    "    \n",
    "#     print(all_epos)\n",
    "    \n",
    "    if E_epos in all_epos :\n",
    "        print(\"\\tachieved! in:\",ti)\n",
    "        break\n",
    "        \n",
    "        \n",
    "        \n",
    "        "
   ]
  },
  {
   "cell_type": "code",
   "execution_count": 161,
   "id": "1d79928b",
   "metadata": {},
   "outputs": [
    {
     "data": {
      "text/plain": [
       "{(0, -1), (0, 1), (1, 2), (1, 3), (2, 0), (4, 0), (4, 3), (5, 4)}"
      ]
     },
     "execution_count": 161,
     "metadata": {},
     "output_type": "execute_result"
    }
   ],
   "source": [
    "all_epos"
   ]
  },
  {
   "cell_type": "code",
   "execution_count": 162,
   "id": "a7b9dde0",
   "metadata": {},
   "outputs": [
    {
     "data": {
      "text/plain": [
       "(5, 4)"
      ]
     },
     "execution_count": 162,
     "metadata": {},
     "output_type": "execute_result"
    }
   ],
   "source": [
    "E_epos"
   ]
  },
  {
   "cell_type": "code",
   "execution_count": 164,
   "id": "39e19888",
   "metadata": {},
   "outputs": [
    {
     "data": {
      "text/plain": [
       "18"
      ]
     },
     "execution_count": 164,
     "metadata": {},
     "output_type": "execute_result"
    }
   ],
   "source": [
    "t1 = ti\n",
    "t1"
   ]
  },
  {
   "cell_type": "code",
   "execution_count": 165,
   "id": "97d2841b",
   "metadata": {
    "scrolled": false
   },
   "outputs": [
    {
     "name": "stdout",
     "output_type": "stream",
     "text": [
      "19 1 0.00045460002729669213\n",
      "20 1 6.739998934790492e-05\n",
      "21 2 3.130000550299883e-05\n",
      "22 3 2.2299995180219412e-05\n",
      "23 5 1.3299984857439995e-05\n",
      "24 3 1.3300043065100908e-05\n",
      "25 1 1.2199976481497288e-05\n",
      "26 1 8.500006515532732e-06\n",
      "27 2 7.499998901039362e-06\n",
      "28 4 8.400005754083395e-06\n",
      "29 4 1.0599964298307896e-05\n",
      "30 3 1.379998866468668e-05\n",
      "31 3 9.700015652924776e-06\n",
      "32 4 9.800016414374113e-06\n",
      "33 5 1.0100018698722124e-05\n",
      "34 6 1.2200034689158201e-05\n",
      "35 6 1.3200042303651571e-05\n",
      "36 5 1.8700025975704193e-05\n",
      "37 4 4.240003181621432e-05\n",
      "38 5 3.0499999411404133e-05\n",
      "39 6 3.320001997053623e-05\n",
      "40 9 2.5100016500800848e-05\n",
      "41 9 1.9600032828748226e-05\n",
      "\tachieved! in: 41\n"
     ]
    }
   ],
   "source": [
    "all_epos = [E_epos]\n",
    "st = time.perf_counter()\n",
    "\n",
    "while True :\n",
    "       \n",
    "    ti += 1\n",
    "     \n",
    "    print(ti,len(all_epos), time.perf_counter() - st )\n",
    "    st = time.perf_counter()\n",
    "    \n",
    "\n",
    "    blizz_pos =  get_blizzards_pos_atT(S_blizz,ti)\n",
    "    \n",
    "    all_eposN = set()\n",
    "                \n",
    "    all_eposN = set([ (p[0]+dx,p[1]+dy)\n",
    "                     for p in all_epos \n",
    "                     for (dx,dy) in [(-1,0),(0,0),(+1,0),(0,-1),(0,+1)] \n",
    "                    ])\n",
    "    \n",
    "    all_epos = (all_eposN - blizz_pos).intersection(all_allowed_pos)\n",
    "    \n",
    "    \n",
    "    if S_epos in all_epos :\n",
    "        print(\"\\tachieved! in:\",ti)\n",
    "        break\n",
    "        \n",
    "        \n",
    "t2 = ti\n",
    "        "
   ]
  },
  {
   "cell_type": "code",
   "execution_count": 168,
   "id": "20418bd2",
   "metadata": {
    "scrolled": false
   },
   "outputs": [
    {
     "name": "stdout",
     "output_type": "stream",
     "text": [
      "42 1 0.00033219996839761734\n",
      "43 1 3.960001049563289e-05\n",
      "44 2 1.6600009985268116e-05\n",
      "45 3 1.4599994756281376e-05\n",
      "46 3 1.6600009985268116e-05\n",
      "47 3 2.4800014216452837e-05\n",
      "48 2 2.4799956008791924e-05\n",
      "49 3 2.180004958063364e-05\n",
      "50 6 1.6600009985268116e-05\n",
      "51 6 2.1299987565726042e-05\n",
      "52 6 2.069998299703002e-05\n",
      "53 8 2.400000812485814e-05\n",
      "54 9 2.6499968953430653e-05\n",
      "\tachieved! in: 54\n"
     ]
    }
   ],
   "source": [
    "all_epos = [S_epos]\n",
    "st = time.perf_counter()\n",
    "\n",
    "ti = t2\n",
    "\n",
    "while True :\n",
    "       \n",
    "    ti += 1\n",
    "     \n",
    "    print(ti,len(all_epos), time.perf_counter() - st )\n",
    "    st = time.perf_counter()\n",
    "    \n",
    "\n",
    "    blizz_pos =  get_blizzards_pos_atT(S_blizz,ti)\n",
    "    \n",
    "    all_eposN = set()\n",
    "                \n",
    "    all_eposN = set([ (p[0]+dx,p[1]+dy)\n",
    "                     for p in all_epos \n",
    "                     for (dx,dy) in [(-1,0),(0,0),(+1,0),(0,-1),(0,+1)] \n",
    "                    ])\n",
    "    \n",
    "    all_epos = (all_eposN - blizz_pos).intersection(all_allowed_pos)\n",
    "    \n",
    "    \n",
    "    if E_epos in all_epos :\n",
    "        print(\"\\tachieved! in:\",ti)\n",
    "        break\n",
    "        \n",
    "        \n",
    "t3 = ti\n",
    "        "
   ]
  },
  {
   "cell_type": "code",
   "execution_count": null,
   "id": "5a3cb2b7",
   "metadata": {},
   "outputs": [],
   "source": []
  },
  {
   "cell_type": "code",
   "execution_count": null,
   "id": "97f36fd4",
   "metadata": {},
   "outputs": [],
   "source": []
  },
  {
   "cell_type": "code",
   "execution_count": 169,
   "id": "1fe4c5aa",
   "metadata": {},
   "outputs": [
    {
     "name": "stdout",
     "output_type": "stream",
     "text": [
      "3122 \t( 100 , 35 )\t 3502\n"
     ]
    }
   ],
   "source": [
    "S_blizz, lenX, lenY = get_blizzards_Init(my_input)\n",
    "S_blizz = redef_blizz_atstartonly(S_blizz)\n",
    "\n",
    "S_epos = (0,-1)\n",
    "E_epos = (lenX-1,lenY)\n",
    "\n",
    "all_allowed_pos = set([(x,y) for x in range(lenX) for y in range(lenY)])\n",
    "all_allowed_pos.add(S_epos)\n",
    "all_allowed_pos.add(E_epos)\n",
    "\n",
    "print(len(S_blizz),\"\\t(\",lenX,\",\",lenY,\")\\t\",len(all_allowed_pos))"
   ]
  },
  {
   "cell_type": "code",
   "execution_count": 170,
   "id": "0126cb24",
   "metadata": {},
   "outputs": [
    {
     "data": {
      "text/plain": [
       "700.0"
      ]
     },
     "execution_count": 170,
     "metadata": {},
     "output_type": "execute_result"
    }
   ],
   "source": [
    "blizzards_cicled(lenX,lenY)"
   ]
  },
  {
   "cell_type": "code",
   "execution_count": 171,
   "id": "57adb1c8",
   "metadata": {},
   "outputs": [
    {
     "data": {
      "text/plain": [
       "True"
      ]
     },
     "execution_count": 171,
     "metadata": {},
     "output_type": "execute_result"
    }
   ],
   "source": [
    "set(S_blizz.keys()) == get_blizzards_pos_atT(S_blizz,700)"
   ]
  },
  {
   "cell_type": "code",
   "execution_count": null,
   "id": "9151ebf0",
   "metadata": {},
   "outputs": [],
   "source": []
  },
  {
   "cell_type": "code",
   "execution_count": 172,
   "id": "e699ad83",
   "metadata": {
    "scrolled": false
   },
   "outputs": [
    {
     "name": "stdout",
     "output_type": "stream",
     "text": [
      "\tachieved! in: 230 \tcomputed in: 0.6058469999697991\n"
     ]
    }
   ],
   "source": [
    "all_epos = [S_epos]\n",
    "ti = 0\n",
    "\n",
    "ti = 0\n",
    "st = time.perf_counter()\n",
    "\n",
    "while True :\n",
    "       \n",
    "    ti += 1\n",
    "     \n",
    "    if ti % 1000 == 0 : \n",
    "        print(ti,len(all_epos), time.perf_counter() - st )\n",
    "        st = time.perf_counter()\n",
    "    \n",
    "\n",
    "    blizz_pos =  get_blizzards_pos_atT(S_blizz,ti)\n",
    "    \n",
    "    all_eposN = set()\n",
    "                \n",
    "    all_eposN = set([ (p[0]+dx,p[1]+dy)\n",
    "                     for p in all_epos \n",
    "                     for (dx,dy) in [(-1,0),(0,0),(+1,0),(0,-1),(0,+1)] \n",
    "                    ])\n",
    "    \n",
    "    all_epos = (all_eposN - blizz_pos).intersection(all_allowed_pos)\n",
    "    \n",
    "    \n",
    "    if E_epos in all_epos :\n",
    "        print(\"\\tachieved! in:\",ti , \"\\tcomputed in:\",time.perf_counter() - st)\n",
    "        break\n",
    "        \n",
    "        \n",
    "        \n",
    "t1 = ti"
   ]
  },
  {
   "cell_type": "code",
   "execution_count": 173,
   "id": "20902b5a",
   "metadata": {
    "scrolled": false
   },
   "outputs": [
    {
     "name": "stdout",
     "output_type": "stream",
     "text": [
      "\tachieved! in: 481 \tcomputed in: 0.5871901999926195\n"
     ]
    }
   ],
   "source": [
    "all_epos = [E_epos]\n",
    "st = time.perf_counter()\n",
    "ti = t1\n",
    "\n",
    "while True :\n",
    "       \n",
    "    ti += 1\n",
    "     \n",
    "    if ti % 1000 == 0 : \n",
    "        print(ti,len(all_epos), time.perf_counter() - st )\n",
    "        st = time.perf_counter()\n",
    "    \n",
    "\n",
    "    blizz_pos =  get_blizzards_pos_atT(S_blizz,ti)\n",
    "    \n",
    "    all_eposN = set()\n",
    "                \n",
    "    all_eposN = set([ (p[0]+dx,p[1]+dy)\n",
    "                     for p in all_epos \n",
    "                     for (dx,dy) in [(-1,0),(0,0),(+1,0),(0,-1),(0,+1)] \n",
    "                    ])\n",
    "    \n",
    "    all_epos = (all_eposN - blizz_pos).intersection(all_allowed_pos)\n",
    "    \n",
    "    \n",
    "    if S_epos in all_epos :\n",
    "        print(\"\\tachieved! in:\",ti, \"\\tcomputed in:\",time.perf_counter() - st)\n",
    "        break\n",
    "        \n",
    "        \n",
    "t2 = ti\n",
    "        "
   ]
  },
  {
   "cell_type": "code",
   "execution_count": 175,
   "id": "31577779",
   "metadata": {
    "scrolled": false
   },
   "outputs": [
    {
     "name": "stdout",
     "output_type": "stream",
     "text": [
      "\tachieved! in: 713 \tcomputed in: 0.5486316999886185\n"
     ]
    }
   ],
   "source": [
    "all_epos = [S_epos]\n",
    "st = time.perf_counter()\n",
    "ti = t2\n",
    "\n",
    "while True :\n",
    "       \n",
    "    ti += 1\n",
    "    \n",
    "    if ti % 1000 == 0 : \n",
    "        print(ti,len(all_epos), time.perf_counter() - st )\n",
    "        st = time.perf_counter()\n",
    "    \n",
    "\n",
    "    blizz_pos =  get_blizzards_pos_atT(S_blizz,ti)\n",
    "    \n",
    "    all_eposN = set()\n",
    "                \n",
    "    all_eposN = set([ (p[0]+dx,p[1]+dy)\n",
    "                     for p in all_epos \n",
    "                     for (dx,dy) in [(-1,0),(0,0),(+1,0),(0,-1),(0,+1)] \n",
    "                    ])\n",
    "    \n",
    "    all_epos = (all_eposN - blizz_pos).intersection(all_allowed_pos)\n",
    "    \n",
    "    \n",
    "    if E_epos in all_epos :\n",
    "        print(\"\\tachieved! in:\",ti, \"\\tcomputed in:\",time.perf_counter() - st)\n",
    "        break\n",
    "        \n",
    "        \n",
    "t3 = ti\n",
    "        "
   ]
  },
  {
   "cell_type": "code",
   "execution_count": null,
   "id": "c9a5c641",
   "metadata": {},
   "outputs": [],
   "source": []
  }
 ],
 "metadata": {
  "kernelspec": {
   "display_name": "Python 3 (ipykernel)",
   "language": "python",
   "name": "python3"
  },
  "language_info": {
   "codemirror_mode": {
    "name": "ipython",
    "version": 3
   },
   "file_extension": ".py",
   "mimetype": "text/x-python",
   "name": "python",
   "nbconvert_exporter": "python",
   "pygments_lexer": "ipython3",
   "version": "3.10.2"
  }
 },
 "nbformat": 4,
 "nbformat_minor": 5
}
