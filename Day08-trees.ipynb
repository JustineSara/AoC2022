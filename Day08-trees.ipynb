{
 "cells": [
  {
   "cell_type": "code",
   "execution_count": null,
   "id": "1a92ea1a",
   "metadata": {},
   "outputs": [],
   "source": []
  },
  {
   "cell_type": "code",
   "execution_count": 1,
   "id": "f24442b8",
   "metadata": {},
   "outputs": [],
   "source": [
    "test_input = '''30373\n",
    "25512\n",
    "65332\n",
    "33549\n",
    "35390'''"
   ]
  },
  {
   "cell_type": "code",
   "execution_count": 24,
   "id": "0a4dfd62",
   "metadata": {},
   "outputs": [],
   "source": [
    "import requests\n",
    "\n",
    "URL = \"https://adventofcode.com/{year}/day/{day}/input\"\n",
    "url = URL.format(year='2022', day=8)\n",
    "cookies = {\"session\":\"53616c7465645f5fd345d8c12076a357c8d31b2c0c4ad1c152eefbd5c1cf09e0c8d6d7f657fc558887d443d2d07fbc90728ada9b6a91afcecb9926ffb4981a93\"}\n",
    "req = requests.get(url, cookies=cookies)\n",
    "\n",
    "if req.status_code != 200:\n",
    "    print(\"Error. Got status:\", req.status_code)\n",
    "    print(req.text)\n",
    "    exit(3)\n",
    "else:\n",
    "    my_input = req.text"
   ]
  },
  {
   "cell_type": "code",
   "execution_count": 94,
   "id": "80424edf",
   "metadata": {},
   "outputs": [],
   "source": [
    "this_input = test_input"
   ]
  },
  {
   "cell_type": "code",
   "execution_count": 115,
   "id": "bea07634",
   "metadata": {},
   "outputs": [],
   "source": [
    "this_input = my_input"
   ]
  },
  {
   "cell_type": "code",
   "execution_count": 116,
   "id": "8b925190",
   "metadata": {},
   "outputs": [],
   "source": [
    "a = [ l for l in this_input.split(\"\\n\") if l != \"\"]\n",
    "M= np.matrix([ [int(l[i]) for i in range(len(l))] for l in a])"
   ]
  },
  {
   "cell_type": "code",
   "execution_count": 117,
   "id": "566fd5a1",
   "metadata": {},
   "outputs": [
    {
     "data": {
      "text/plain": [
       "matrix([[1, 1, 3, ..., 1, 0, 1],\n",
       "        [3, 3, 2, ..., 2, 0, 0],\n",
       "        [0, 1, 1, ..., 2, 1, 0],\n",
       "        ...,\n",
       "        [3, 0, 3, ..., 1, 0, 3],\n",
       "        [3, 2, 2, ..., 2, 0, 3],\n",
       "        [2, 1, 0, ..., 2, 1, 2]])"
      ]
     },
     "execution_count": 117,
     "metadata": {},
     "output_type": "execute_result"
    }
   ],
   "source": [
    "M"
   ]
  },
  {
   "cell_type": "code",
   "execution_count": 118,
   "id": "56edc472",
   "metadata": {},
   "outputs": [
    {
     "data": {
      "text/plain": [
       "array([[-1., -1., -1., ..., -1., -1., -1.],\n",
       "       [-1., -1., -1., ..., -1., -1., -1.],\n",
       "       [-1., -1., -1., ..., -1., -1., -1.],\n",
       "       ...,\n",
       "       [-1., -1., -1., ..., -1., -1., -1.],\n",
       "       [-1., -1., -1., ..., -1., -1., -1.],\n",
       "       [-1., -1., -1., ..., -1., -1., -1.]])"
      ]
     },
     "execution_count": 118,
     "metadata": {},
     "output_type": "execute_result"
    }
   ],
   "source": [
    "Visible = np.ones(M.shape)*-1\n",
    "Visible"
   ]
  },
  {
   "cell_type": "code",
   "execution_count": 119,
   "id": "fab20206",
   "metadata": {},
   "outputs": [],
   "source": [
    "size_dim_0 = M.shape[0]\n",
    "size_dim_1 = M.shape[1]\n",
    "\n",
    "for i0 in range(size_dim_0) :\n",
    "    for i1 in range(size_dim_1) :\n",
    "        \n",
    "#         print(i0,i1)\n",
    "        \n",
    "        if i0 == 0 or i0 == size_dim_0-1 or i1 == 0 or i1 == size_dim_1-1 :\n",
    "            Visible[i0,i1] = 1\n",
    "#             print(\"\\t\",\"edge\",1)\n",
    "        else :\n",
    "            tree = M[i0,i1]\n",
    "            if M[i0,:i1].max() < tree or \\\n",
    "                M[i0,i1+1:].max() < tree or \\\n",
    "                M[:i0,i1].max() < tree or \\\n",
    "                M[i0+1:,i1].max() < tree :\n",
    "                    Visible[i0,i1] = 1\n",
    "#                     print(\"\\t\",1)\n",
    "            else :\n",
    "                    Visible[i0,i1] = 0\n",
    "#                     print(\"\\t\",0)\n",
    "                    \n",
    "                \n",
    "                \n",
    "                \n",
    "        \n",
    "        \n",
    "        "
   ]
  },
  {
   "cell_type": "code",
   "execution_count": 120,
   "id": "2173e54f",
   "metadata": {},
   "outputs": [
    {
     "data": {
      "text/plain": [
       "array([[1., 1., 1., ..., 1., 1., 1.],\n",
       "       [1., 1., 0., ..., 1., 0., 1.],\n",
       "       [1., 1., 0., ..., 1., 1., 1.],\n",
       "       ...,\n",
       "       [1., 0., 1., ..., 0., 0., 1.],\n",
       "       [1., 1., 1., ..., 0., 0., 1.],\n",
       "       [1., 1., 1., ..., 1., 1., 1.]])"
      ]
     },
     "execution_count": 120,
     "metadata": {},
     "output_type": "execute_result"
    }
   ],
   "source": [
    "Visible"
   ]
  },
  {
   "cell_type": "code",
   "execution_count": 121,
   "id": "90b7322a",
   "metadata": {},
   "outputs": [
    {
     "data": {
      "text/plain": [
       "1700.0"
      ]
     },
     "execution_count": 121,
     "metadata": {},
     "output_type": "execute_result"
    }
   ],
   "source": [
    "Visible.sum()"
   ]
  },
  {
   "cell_type": "code",
   "execution_count": 122,
   "id": "176f72ce",
   "metadata": {},
   "outputs": [],
   "source": [
    "Score = np.ones(M.shape)*-1"
   ]
  },
  {
   "cell_type": "code",
   "execution_count": 123,
   "id": "b1734481",
   "metadata": {},
   "outputs": [],
   "source": [
    "size_dim_0 = M.shape[0]\n",
    "size_dim_1 = M.shape[1]\n",
    "\n",
    "for i0 in range(size_dim_0) :\n",
    "    for i1 in range(size_dim_1) :\n",
    "        \n",
    "#         print(i0,i1)\n",
    "        \n",
    "        if i0 == 0 or i0 == size_dim_0-1 or i1 == 0 or i1 == size_dim_1-1 :\n",
    "            Score[i0,i1] = 0\n",
    "#             print(\"\\t\",\"edge\")\n",
    "            continue\n",
    "        else :\n",
    "            tree = M[i0,i1]\n",
    "            test_stopview = M>=tree\n",
    "            \n",
    "            count_trees_0m = 0\n",
    "            for i in range(i0-1,-1,-1):\n",
    "                count_trees_0m += 1\n",
    "                if test_stopview[i,i1] :\n",
    "                    break\n",
    "            count_trees_0p = 0\n",
    "            for i in range(i0+1,size_dim_0):\n",
    "                count_trees_0p += 1\n",
    "                if test_stopview[i,i1] :\n",
    "                    break\n",
    "                    \n",
    "            count_trees_1m = 0\n",
    "            for i in range(i1-1,-1,-1):\n",
    "                count_trees_1m += 1\n",
    "                if test_stopview[i0,i] :\n",
    "                    break\n",
    "            count_trees_1p = 0\n",
    "            for i in range(i1+1,size_dim_1):\n",
    "                count_trees_1p += 1\n",
    "                if test_stopview[i0,i] :\n",
    "                    break\n",
    "            \n",
    "            Score[i0,i1] = count_trees_0m*count_trees_0p*count_trees_1m*count_trees_1p"
   ]
  },
  {
   "cell_type": "code",
   "execution_count": 124,
   "id": "bc7fe0a2",
   "metadata": {},
   "outputs": [
    {
     "data": {
      "text/plain": [
       "array([[ 0.,  0.,  0., ...,  0.,  0.,  0.],\n",
       "       [ 0., 15., 12., ...,  2.,  1.,  0.],\n",
       "       [ 0.,  1.,  2., ...,  2.,  2.,  0.],\n",
       "       ...,\n",
       "       [ 0.,  1., 16., ...,  2.,  1.,  0.],\n",
       "       [ 0.,  5.,  3., ...,  4.,  1.,  0.],\n",
       "       [ 0.,  0.,  0., ...,  0.,  0.,  0.]])"
      ]
     },
     "execution_count": 124,
     "metadata": {},
     "output_type": "execute_result"
    }
   ],
   "source": [
    "Score"
   ]
  },
  {
   "cell_type": "code",
   "execution_count": 125,
   "id": "05e9cef5",
   "metadata": {},
   "outputs": [
    {
     "data": {
      "text/plain": [
       "470596.0"
      ]
     },
     "execution_count": 125,
     "metadata": {},
     "output_type": "execute_result"
    }
   ],
   "source": [
    "Score.max()"
   ]
  },
  {
   "cell_type": "code",
   "execution_count": null,
   "id": "41445296",
   "metadata": {},
   "outputs": [],
   "source": []
  }
 ],
 "metadata": {
  "kernelspec": {
   "display_name": "Python 3 (ipykernel)",
   "language": "python",
   "name": "python3"
  },
  "language_info": {
   "codemirror_mode": {
    "name": "ipython",
    "version": 3
   },
   "file_extension": ".py",
   "mimetype": "text/x-python",
   "name": "python",
   "nbconvert_exporter": "python",
   "pygments_lexer": "ipython3",
   "version": "3.10.2"
  }
 },
 "nbformat": 4,
 "nbformat_minor": 5
}
