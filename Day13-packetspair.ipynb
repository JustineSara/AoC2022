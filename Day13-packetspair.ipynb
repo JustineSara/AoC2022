{
 "cells": [
  {
   "cell_type": "code",
   "execution_count": null,
   "id": "185b9966",
   "metadata": {},
   "outputs": [],
   "source": []
  },
  {
   "cell_type": "code",
   "execution_count": 1,
   "id": "e6272d8a",
   "metadata": {},
   "outputs": [],
   "source": [
    "test_input = \"\"\"[1,1,3,1,1]\n",
    "[1,1,5,1,1]\n",
    "\n",
    "[[1],[2,3,4]]\n",
    "[[1],4]\n",
    "\n",
    "[9]\n",
    "[[8,7,6]]\n",
    "\n",
    "[[4,4],4,4]\n",
    "[[4,4],4,4,4]\n",
    "\n",
    "[7,7,7,7]\n",
    "[7,7,7]\n",
    "\n",
    "[]\n",
    "[3]\n",
    "\n",
    "[[[]]]\n",
    "[[]]\n",
    "\n",
    "[1,[2,[3,[4,[5,6,7]]]],8,9]\n",
    "[1,[2,[3,[4,[5,6,0]]]],8,9]\"\"\""
   ]
  },
  {
   "cell_type": "code",
   "execution_count": 2,
   "id": "3ce8a0e3",
   "metadata": {},
   "outputs": [],
   "source": [
    "import requests\n",
    "\n",
    "URL = \"https://adventofcode.com/{year}/day/{day}/input\"\n",
    "url = URL.format(year='2022', day=13)\n",
    "cookies = {\"session\":\"53616c7465645f5fd345d8c12076a357c8d31b2c0c4ad1c152eefbd5c1cf09e0c8d6d7f657fc558887d443d2d07fbc90728ada9b6a91afcecb9926ffb4981a93\"}\n",
    "req = requests.get(url, cookies=cookies)\n",
    "\n",
    "if req.status_code != 200:\n",
    "    print(\"Error. Got status:\", req.status_code)\n",
    "    print(req.text)\n",
    "    exit(3)\n",
    "else:\n",
    "    my_input = req.text"
   ]
  },
  {
   "cell_type": "code",
   "execution_count": null,
   "id": "71f03fdf",
   "metadata": {},
   "outputs": [],
   "source": []
  },
  {
   "cell_type": "code",
   "execution_count": 30,
   "id": "b9fed899",
   "metadata": {},
   "outputs": [],
   "source": [
    "def compare_el(part1,part2,verbose = False) :\n",
    "    \n",
    "    if isinstance(part1,int) and isinstance(part2,int) :\n",
    "        if part1 < part2 :\n",
    "            if verbose :\n",
    "                print(\"\\t\",part1,\" < \", part2)\n",
    "            return True\n",
    "        elif part1 > part2 :\n",
    "            if verbose :\n",
    "                print(\"\\t\",part1,\" > \", part2)\n",
    "            return False\n",
    "        else :\n",
    "            if verbose :\n",
    "                print(\"\\t\",part1,\" = \", part2)\n",
    "            return None\n",
    "    \n",
    "    if isinstance(part1,int) :\n",
    "        part1 = [part1]\n",
    "    if isinstance(part2,int) :\n",
    "        part2 = [part2]\n",
    "    \n",
    "    for i in range(min(len(part1),len(part2))) :\n",
    "        c = compare_el(part1[i],part2[i])\n",
    "        if c is not None :\n",
    "            return c\n",
    "        \n",
    "    if len(part1) < len(part2) :\n",
    "        if verbose :\n",
    "            print(\"\\t\",\"length < :\",part1,\" -vs - \", part2)\n",
    "        return True\n",
    "    elif len(part1) > len(part2) :\n",
    "        if verbose :\n",
    "            print(\"\\t\",\"length > :\",part1,\" -vs - \", part2)\n",
    "        return False\n",
    "    else :\n",
    "        return None\n",
    "    "
   ]
  },
  {
   "cell_type": "code",
   "execution_count": null,
   "id": "6a7ed13c",
   "metadata": {},
   "outputs": [],
   "source": []
  },
  {
   "cell_type": "code",
   "execution_count": 39,
   "id": "1df00f7a",
   "metadata": {},
   "outputs": [],
   "source": [
    "def get_list_right_order(this_input):\n",
    "    res = []\n",
    "    packet_id = 0\n",
    "    for l in this_input.split(\"\\n\\n\") :\n",
    "        part1 = eval(l.split(\"\\n\")[0])\n",
    "        part2 = eval(l.split(\"\\n\")[1])\n",
    "        packet_id += 1\n",
    "        \n",
    "        if compare_el(part1,part2) :\n",
    "            res.append(packet_id)\n",
    "        \n",
    "    return res\n",
    "#         print(packet_id)\n",
    "#     #     print(part1)\n",
    "#     #     print(part2)\n",
    "#         print(compare_el(part1,part2))\n",
    "\n"
   ]
  },
  {
   "cell_type": "code",
   "execution_count": null,
   "id": "e0aed72e",
   "metadata": {},
   "outputs": [],
   "source": []
  },
  {
   "cell_type": "code",
   "execution_count": 40,
   "id": "bb60704c",
   "metadata": {},
   "outputs": [
    {
     "data": {
      "text/plain": [
       "13"
      ]
     },
     "execution_count": 40,
     "metadata": {},
     "output_type": "execute_result"
    }
   ],
   "source": [
    "sum(get_list_right_order(test_input))"
   ]
  },
  {
   "cell_type": "code",
   "execution_count": 41,
   "id": "7f48a1fe",
   "metadata": {},
   "outputs": [
    {
     "data": {
      "text/plain": [
       "5292"
      ]
     },
     "execution_count": 41,
     "metadata": {},
     "output_type": "execute_result"
    }
   ],
   "source": [
    "sum(get_list_right_order(my_input))"
   ]
  },
  {
   "cell_type": "code",
   "execution_count": null,
   "id": "a61a3b93",
   "metadata": {},
   "outputs": [],
   "source": []
  },
  {
   "cell_type": "markdown",
   "id": "4d529cb0",
   "metadata": {},
   "source": [
    "# part 2"
   ]
  },
  {
   "cell_type": "code",
   "execution_count": null,
   "id": "3e4fd493",
   "metadata": {},
   "outputs": [],
   "source": []
  },
  {
   "cell_type": "code",
   "execution_count": 42,
   "id": "fea4ef75",
   "metadata": {},
   "outputs": [],
   "source": [
    "def add_in_place(packets,newp):\n",
    "    # packets is already in order\n",
    "    \n",
    "    for i in range(len(packets)) :\n",
    "        if compare_el(newp,packets[i]) :\n",
    "            packets.insert(i,newp)\n",
    "            return packets\n",
    "    packets.append(newp)\n",
    "    return packets\n",
    "    "
   ]
  },
  {
   "cell_type": "code",
   "execution_count": 46,
   "id": "8c2ddfdf",
   "metadata": {},
   "outputs": [],
   "source": [
    "def get_all_packets_in_order(this_input):\n",
    "    \n",
    "    packets = [[[2]],[[6]]]\n",
    "    for l in this_input.split(\"\\n\") :\n",
    "        if l == \"\" :\n",
    "            continue\n",
    "        add_in_place( packets ,  eval(l))\n",
    "        \n",
    "    return packets"
   ]
  },
  {
   "cell_type": "code",
   "execution_count": 47,
   "id": "71f5efec",
   "metadata": {},
   "outputs": [
    {
     "data": {
      "text/plain": [
       "[[],\n",
       " [[]],\n",
       " [[[]]],\n",
       " [1, 1, 3, 1, 1],\n",
       " [1, 1, 5, 1, 1],\n",
       " [[1], [2, 3, 4]],\n",
       " [1, [2, [3, [4, [5, 6, 0]]]], 8, 9],\n",
       " [1, [2, [3, [4, [5, 6, 7]]]], 8, 9],\n",
       " [[1], 4],\n",
       " [[2]],\n",
       " [3],\n",
       " [[4, 4], 4, 4],\n",
       " [[4, 4], 4, 4, 4],\n",
       " [[6]],\n",
       " [7, 7, 7],\n",
       " [7, 7, 7, 7],\n",
       " [[8, 7, 6]],\n",
       " [9]]"
      ]
     },
     "execution_count": 47,
     "metadata": {},
     "output_type": "execute_result"
    }
   ],
   "source": [
    "get_all_packets_in_order(test_input)"
   ]
  },
  {
   "cell_type": "code",
   "execution_count": 48,
   "id": "a2f5dacc",
   "metadata": {},
   "outputs": [],
   "source": [
    "def locate_dividers(packets) :\n",
    "    i2 = -1\n",
    "    i6 = -1\n",
    "    for i in range(len(packets)) :\n",
    "        if compare_el([[2]],packets[i]) is None :\n",
    "            i2 = i+1\n",
    "        if compare_el([[6]],packets[i]) is None :\n",
    "            i6 = i+1\n",
    "    return i2*i6"
   ]
  },
  {
   "cell_type": "code",
   "execution_count": 49,
   "id": "77ad1fa1",
   "metadata": {},
   "outputs": [
    {
     "data": {
      "text/plain": [
       "140"
      ]
     },
     "execution_count": 49,
     "metadata": {},
     "output_type": "execute_result"
    }
   ],
   "source": [
    "locate_dividers(get_all_packets_in_order(test_input))"
   ]
  },
  {
   "cell_type": "code",
   "execution_count": 50,
   "id": "dae6500b",
   "metadata": {},
   "outputs": [
    {
     "data": {
      "text/plain": [
       "23868"
      ]
     },
     "execution_count": 50,
     "metadata": {},
     "output_type": "execute_result"
    }
   ],
   "source": [
    "locate_dividers(get_all_packets_in_order(my_input))"
   ]
  },
  {
   "cell_type": "code",
   "execution_count": null,
   "id": "5b041ce6",
   "metadata": {},
   "outputs": [],
   "source": []
  }
 ],
 "metadata": {
  "kernelspec": {
   "display_name": "Python 3 (ipykernel)",
   "language": "python",
   "name": "python3"
  },
  "language_info": {
   "codemirror_mode": {
    "name": "ipython",
    "version": 3
   },
   "file_extension": ".py",
   "mimetype": "text/x-python",
   "name": "python",
   "nbconvert_exporter": "python",
   "pygments_lexer": "ipython3",
   "version": "3.10.2"
  }
 },
 "nbformat": 4,
 "nbformat_minor": 5
}
